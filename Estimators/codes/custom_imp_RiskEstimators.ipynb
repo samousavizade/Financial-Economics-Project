{
 "cells": [
  {
   "cell_type": "markdown",
   "metadata": {},
   "source": [
    "## RiskEstimators class functions"
   ]
  },
  {
   "cell_type": "markdown",
   "metadata": {},
   "source": [
    "This description is partially based on the __scikit-learn User Guide on Covariance estimation__ [available here](https://scikit-learn.org/stable/modules/covariance.html#robust-covariance)."
   ]
  },
  {
   "cell_type": "markdown",
   "metadata": {},
   "source": [
    "## Introduction"
   ]
  },
  {
   "cell_type": "markdown",
   "metadata": {},
   "source": [
    "Risk Estimators class includes the implementations of functions for different ways to calculate and adjust Covariance matrices.\n",
    "\n",
    "The following algorithms are now implemented:\n",
    "- Minimum Covariance Determinant\n",
    "- Maximum likelihood covariance estimator (Empirical covariance)\n",
    "- Covariance estimator with shrinkage\n",
    "  - Basic shrinkage\n",
    "  - Ledoit-Wolf shrinkage\n",
    "  - Oracle Approximating Shrinkage\n",
    "- Semi-Covariance matrix\n",
    "- Exponentially-weighted Covariance matrix\n",
    "- De-noising and De-toning Covariance/Correlation Matrix\n",
    "  - Constant Residual Eigenvalue De-noising Method\n",
    "  - Spectral Clustering De-noising Method\n",
    "  - Targeted Shrinkage De-noising Method\n",
    "  - Hierarchical Clustering De-noising Method\n",
    "  - De-toning\n",
    "- Transforming covariance matrix to correlation matrix and back\n",
    "\n",
    "This Notebook will describe the above algorithms as well as provide use cases and analysis of results."
   ]
  },
  {
   "cell_type": "markdown",
   "metadata": {},
   "source": [
    "## Minimum Covariance Determinant"
   ]
  },
  {
   "cell_type": "markdown",
   "metadata": {},
   "source": [
    "According to the __scikit-learn User Guide on Covariance estimation__:\n",
    "\n",
    "_\"The outliers are appearing in real data sets and seriously affect the Empirical covariance estimator and the Covariance estimators with shrinkage. For this reason, a robust covariance estimator is needed in order to discard/downweight the outliers in the data\"._"
   ]
  },
  {
   "cell_type": "markdown",
   "metadata": {},
   "source": [
    "The robust estimator presented in the package is the Minimum Covariance Determinant estimator, introduced by P.J. Rousseeuw.\n",
    "\n",
    "_\"The basic idea of the algorithm is to find a set of observations that are not outliers and compute their empirical covariance matrix, which is then rescaled to compensate for the performed selection of observations\"._\n",
    "\n",
    "Our function is a wrap around the sklearn's MinCovDet class, which uses FastMCD algorithm, developed by Rousseeuw and Van Driessen.\n",
    "\n",
    "A detailed description of the algorithm is available in the paper by _Mia Hubert_ and _Michiel Debruyne_ __Minimum covariance determinant__ [available here](https://wis.kuleuven.be/stat/robust/papers/2010/wire-mcd.pdf)"
   ]
  },
  {
   "cell_type": "markdown",
   "metadata": {},
   "source": [
    "### Examples of use"
   ]
  },
  {
   "cell_type": "markdown",
   "metadata": {},
   "source": [
    "We can calculate the Minimum Covariance Determinant estimator of covariance for a data set of stock prices and compare it to the simple covariance."
   ]
  },
  {
   "cell_type": "code",
   "execution_count": 1,
   "metadata": {},
   "outputs": [],
   "source": [
    "# import portfoliolab as pl\n",
    "import pandas as pd\n",
    "import numpy as np\n",
    "import seaborn as sns\n",
    "import matplotlib.pyplot as plt"
   ]
  },
  {
   "cell_type": "code",
   "execution_count": 2,
   "metadata": {},
   "outputs": [
    {
     "name": "stdout",
     "output_type": "stream",
     "text": [
      "[*********************100%***********************]  5 of 5 completed\n"
     ]
    },
    {
     "data": {
      "text/html": [
       "<div>\n",
       "<style scoped>\n",
       "    .dataframe tbody tr th:only-of-type {\n",
       "        vertical-align: middle;\n",
       "    }\n",
       "\n",
       "    .dataframe tbody tr th {\n",
       "        vertical-align: top;\n",
       "    }\n",
       "\n",
       "    .dataframe thead th {\n",
       "        text-align: right;\n",
       "    }\n",
       "</style>\n",
       "<table border=\"1\" class=\"dataframe\">\n",
       "  <thead>\n",
       "    <tr style=\"text-align: right;\">\n",
       "      <th></th>\n",
       "      <th>EFA</th>\n",
       "      <th>EEM</th>\n",
       "      <th>EWG</th>\n",
       "      <th>TIP</th>\n",
       "      <th>EWJ</th>\n",
       "    </tr>\n",
       "    <tr>\n",
       "      <th>Date</th>\n",
       "      <th></th>\n",
       "      <th></th>\n",
       "      <th></th>\n",
       "      <th></th>\n",
       "      <th></th>\n",
       "    </tr>\n",
       "  </thead>\n",
       "  <tbody>\n",
       "    <tr>\n",
       "      <th>2022-01-03</th>\n",
       "      <td>79.190002</td>\n",
       "      <td>49.200001</td>\n",
       "      <td>33.160000</td>\n",
       "      <td>126.965256</td>\n",
       "      <td>67.029999</td>\n",
       "    </tr>\n",
       "    <tr>\n",
       "      <th>2022-01-04</th>\n",
       "      <td>79.639999</td>\n",
       "      <td>49.029999</td>\n",
       "      <td>33.259998</td>\n",
       "      <td>126.480949</td>\n",
       "      <td>67.910004</td>\n",
       "    </tr>\n",
       "    <tr>\n",
       "      <th>2022-01-05</th>\n",
       "      <td>78.940002</td>\n",
       "      <td>48.230000</td>\n",
       "      <td>33.150002</td>\n",
       "      <td>125.453049</td>\n",
       "      <td>67.599998</td>\n",
       "    </tr>\n",
       "    <tr>\n",
       "      <th>2022-01-06</th>\n",
       "      <td>78.540001</td>\n",
       "      <td>48.450001</td>\n",
       "      <td>33.029999</td>\n",
       "      <td>124.909447</td>\n",
       "      <td>67.099998</td>\n",
       "    </tr>\n",
       "    <tr>\n",
       "      <th>2022-01-07</th>\n",
       "      <td>78.769997</td>\n",
       "      <td>48.889999</td>\n",
       "      <td>33.110001</td>\n",
       "      <td>124.761200</td>\n",
       "      <td>66.669998</td>\n",
       "    </tr>\n",
       "  </tbody>\n",
       "</table>\n",
       "</div>"
      ],
      "text/plain": [
       "                  EFA        EEM        EWG         TIP        EWJ\n",
       "Date                                                              \n",
       "2022-01-03  79.190002  49.200001  33.160000  126.965256  67.029999\n",
       "2022-01-04  79.639999  49.029999  33.259998  126.480949  67.910004\n",
       "2022-01-05  78.940002  48.230000  33.150002  125.453049  67.599998\n",
       "2022-01-06  78.540001  48.450001  33.029999  124.909447  67.099998\n",
       "2022-01-07  78.769997  48.889999  33.110001  124.761200  66.669998"
      ]
     },
     "execution_count": 2,
     "metadata": {},
     "output_type": "execute_result"
    }
   ],
   "source": [
    "import yfinance as yf\n",
    "\n",
    "tickers = \"EEM EWG TIP EWJ EFA\"\n",
    "\n",
    "data = yf.download(  # or pdr.get_data_yahoo(...\n",
    "        # tickers list or string as well\n",
    "        tickers = tickers,\n",
    "\n",
    "        # use \"period\" instead of start/end\n",
    "        # valid periods: 1d,5d,1mo,3mo,6mo,1y,2y,5y,10y,ytd,max\n",
    "        # (optional, default is '1mo')\n",
    "        period = \"ytd\",\n",
    "\n",
    "        # fetch data by interval (including intraday if period < 60 days)\n",
    "        # valid intervals: 1m,2m,5m,15m,30m,60m,90m,1h,1d,5d,1wk,1mo,3mo\n",
    "        # (optional, default is '1d')\n",
    "        interval = \"1d\",\n",
    "\n",
    "        # group by ticker (to access via data['SPY'])\n",
    "        # (optional, default is 'column')\n",
    "        group_by = 'ticker',\n",
    "\n",
    "        # adjust all OHLC automatically\n",
    "        # (optional, default is False)\n",
    "        auto_adjust = True,\n",
    "\n",
    "        # download pre/post regular market hours data\n",
    "        # (optional, default is False)\n",
    "        prepost = True,\n",
    "\n",
    "        # use threads for mass downloading? (True/False/Integer)\n",
    "        # (optional, default is True)\n",
    "        threads = True,\n",
    "\n",
    "        # proxy URL scheme use use when downloading?\n",
    "        # (optional, default is None)\n",
    "        proxy = None\n",
    "    )\n",
    "\n",
    "stock_prices = data.apply(lambda x: x.loc[:, 'Close'], axis='columns')\n",
    "stock_prices.dropna(axis='columns')\n",
    "stock_prices.head()"
   ]
  },
  {
   "cell_type": "code",
   "execution_count": 3,
   "metadata": {},
   "outputs": [
    {
     "name": "stdout",
     "output_type": "stream",
     "text": [
      "The Minimum Covariance Determinant estimator is:\n"
     ]
    },
    {
     "data": {
      "text/html": [
       "<div>\n",
       "<style scoped>\n",
       "    .dataframe tbody tr th:only-of-type {\n",
       "        vertical-align: middle;\n",
       "    }\n",
       "\n",
       "    .dataframe tbody tr th {\n",
       "        vertical-align: top;\n",
       "    }\n",
       "\n",
       "    .dataframe thead th {\n",
       "        text-align: right;\n",
       "    }\n",
       "</style>\n",
       "<table border=\"1\" class=\"dataframe\">\n",
       "  <thead>\n",
       "    <tr style=\"text-align: right;\">\n",
       "      <th></th>\n",
       "      <th>EFA</th>\n",
       "      <th>EEM</th>\n",
       "      <th>EWG</th>\n",
       "      <th>TIP</th>\n",
       "      <th>EWJ</th>\n",
       "    </tr>\n",
       "  </thead>\n",
       "  <tbody>\n",
       "    <tr>\n",
       "      <th>EFA</th>\n",
       "      <td>0.000122</td>\n",
       "      <td>0.000129</td>\n",
       "      <td>0.000144</td>\n",
       "      <td>-0.000010</td>\n",
       "      <td>0.000112</td>\n",
       "    </tr>\n",
       "    <tr>\n",
       "      <th>EEM</th>\n",
       "      <td>0.000129</td>\n",
       "      <td>0.000180</td>\n",
       "      <td>0.000161</td>\n",
       "      <td>-0.000007</td>\n",
       "      <td>0.000120</td>\n",
       "    </tr>\n",
       "    <tr>\n",
       "      <th>EWG</th>\n",
       "      <td>0.000144</td>\n",
       "      <td>0.000161</td>\n",
       "      <td>0.000188</td>\n",
       "      <td>-0.000013</td>\n",
       "      <td>0.000123</td>\n",
       "    </tr>\n",
       "    <tr>\n",
       "      <th>TIP</th>\n",
       "      <td>-0.000010</td>\n",
       "      <td>-0.000007</td>\n",
       "      <td>-0.000013</td>\n",
       "      <td>0.000018</td>\n",
       "      <td>-0.000006</td>\n",
       "    </tr>\n",
       "    <tr>\n",
       "      <th>EWJ</th>\n",
       "      <td>0.000112</td>\n",
       "      <td>0.000120</td>\n",
       "      <td>0.000123</td>\n",
       "      <td>-0.000006</td>\n",
       "      <td>0.000137</td>\n",
       "    </tr>\n",
       "  </tbody>\n",
       "</table>\n",
       "</div>"
      ],
      "text/plain": [
       "          EFA       EEM       EWG       TIP       EWJ\n",
       "EFA  0.000122  0.000129  0.000144 -0.000010  0.000112\n",
       "EEM  0.000129  0.000180  0.000161 -0.000007  0.000120\n",
       "EWG  0.000144  0.000161  0.000188 -0.000013  0.000123\n",
       "TIP -0.000010 -0.000007 -0.000013  0.000018 -0.000006\n",
       "EWJ  0.000112  0.000120  0.000123 -0.000006  0.000137"
      ]
     },
     "execution_count": 3,
     "metadata": {},
     "output_type": "execute_result"
    }
   ],
   "source": [
    "from risk_estimators import RiskEstimators\n",
    "from returns_estimators import ReturnsEstimators\n",
    "\n",
    "# A class that has the Minimum Covariance Determinant estimator\n",
    "risk_estimators = RiskEstimators()\n",
    "\n",
    "# Finding the Minimum Covariance Determinant estimator on price data and with set random seed to 0\n",
    "min_cov_det = risk_estimators.minimum_covariance_determinant(stock_prices, price_data=True, random_state=0)\n",
    "\n",
    "# For the simple covariance, we need to transform the stock prices to returns\n",
    "\n",
    "# A class with function to calculate returns from prices\n",
    "returns_estimation = ReturnsEstimators()\n",
    "\n",
    "# Calcualting the data set of returns\n",
    "stock_returns = returns_estimation.calculate_returns(stock_prices)\n",
    "\n",
    "# Finding the simple covariance matrix from a series of returns\n",
    "cov_matrix = stock_returns.cov()\n",
    "\n",
    "# Transforming Minimum Covariance Determinant estimator from np.array to pd.DataFrame\n",
    "min_cov_det = pd.DataFrame(min_cov_det, index=cov_matrix.index, columns=cov_matrix.columns)\n",
    "\n",
    "print('The Minimum Covariance Determinant estimator is:')\n",
    "min_cov_det"
   ]
  },
  {
   "cell_type": "code",
   "execution_count": 4,
   "metadata": {
    "scrolled": true
   },
   "outputs": [
    {
     "name": "stdout",
     "output_type": "stream",
     "text": [
      "The Simple Covariance is:\n"
     ]
    },
    {
     "data": {
      "text/html": [
       "<div>\n",
       "<style scoped>\n",
       "    .dataframe tbody tr th:only-of-type {\n",
       "        vertical-align: middle;\n",
       "    }\n",
       "\n",
       "    .dataframe tbody tr th {\n",
       "        vertical-align: top;\n",
       "    }\n",
       "\n",
       "    .dataframe thead th {\n",
       "        text-align: right;\n",
       "    }\n",
       "</style>\n",
       "<table border=\"1\" class=\"dataframe\">\n",
       "  <thead>\n",
       "    <tr style=\"text-align: right;\">\n",
       "      <th></th>\n",
       "      <th>EFA</th>\n",
       "      <th>EEM</th>\n",
       "      <th>EWG</th>\n",
       "      <th>TIP</th>\n",
       "      <th>EWJ</th>\n",
       "    </tr>\n",
       "  </thead>\n",
       "  <tbody>\n",
       "    <tr>\n",
       "      <th>EFA</th>\n",
       "      <td>0.000183</td>\n",
       "      <td>0.000190</td>\n",
       "      <td>0.000257</td>\n",
       "      <td>-0.000028</td>\n",
       "      <td>0.000142</td>\n",
       "    </tr>\n",
       "    <tr>\n",
       "      <th>EEM</th>\n",
       "      <td>0.000190</td>\n",
       "      <td>0.000290</td>\n",
       "      <td>0.000252</td>\n",
       "      <td>-0.000020</td>\n",
       "      <td>0.000153</td>\n",
       "    </tr>\n",
       "    <tr>\n",
       "      <th>EWG</th>\n",
       "      <td>0.000257</td>\n",
       "      <td>0.000252</td>\n",
       "      <td>0.000416</td>\n",
       "      <td>-0.000049</td>\n",
       "      <td>0.000170</td>\n",
       "    </tr>\n",
       "    <tr>\n",
       "      <th>TIP</th>\n",
       "      <td>-0.000028</td>\n",
       "      <td>-0.000020</td>\n",
       "      <td>-0.000049</td>\n",
       "      <td>0.000032</td>\n",
       "      <td>-0.000016</td>\n",
       "    </tr>\n",
       "    <tr>\n",
       "      <th>EWJ</th>\n",
       "      <td>0.000142</td>\n",
       "      <td>0.000153</td>\n",
       "      <td>0.000170</td>\n",
       "      <td>-0.000016</td>\n",
       "      <td>0.000153</td>\n",
       "    </tr>\n",
       "  </tbody>\n",
       "</table>\n",
       "</div>"
      ],
      "text/plain": [
       "          EFA       EEM       EWG       TIP       EWJ\n",
       "EFA  0.000183  0.000190  0.000257 -0.000028  0.000142\n",
       "EEM  0.000190  0.000290  0.000252 -0.000020  0.000153\n",
       "EWG  0.000257  0.000252  0.000416 -0.000049  0.000170\n",
       "TIP -0.000028 -0.000020 -0.000049  0.000032 -0.000016\n",
       "EWJ  0.000142  0.000153  0.000170 -0.000016  0.000153"
      ]
     },
     "execution_count": 4,
     "metadata": {},
     "output_type": "execute_result"
    }
   ],
   "source": [
    "print('The Simple Covariance is:')\n",
    "cov_matrix"
   ]
  },
  {
   "cell_type": "markdown",
   "metadata": {},
   "source": [
    "From the results, the absolute values in the Minimum Covariance Determinant estimator are lower in comparison to the simple Covariance matrix, which means that the algorithm has eliminated some of the outliers in the data and the resulting covariance matrix estimator is a more robust one."
   ]
  },
  {
   "cell_type": "markdown",
   "metadata": {},
   "source": [
    "## Maximum likelihood covariance estimator (Empirical covariance)"
   ]
  },
  {
   "cell_type": "markdown",
   "metadata": {},
   "source": [
    "According to the __scikit-learn User Guide on Covariance estimation__:\n",
    "\n",
    "_\"The covariance matrix of a data set can be well approximated by the maximum likelihood estimator (Empirical covariance) if the number of observations is big enough in relation to the number of features\"._\n",
    "\n",
    "_\"The Maximum Likelihood Estimator of a sample is an unbiased estimator of the corresponding population’s covariance matrix\"._"
   ]
  },
  {
   "cell_type": "markdown",
   "metadata": {},
   "source": [
    "### Examples of use"
   ]
  },
  {
   "cell_type": "markdown",
   "metadata": {},
   "source": [
    "We can calculate the Empirical covariance for a data set of stock prices and compare it to the simple covariance."
   ]
  },
  {
   "cell_type": "code",
   "execution_count": 5,
   "metadata": {},
   "outputs": [
    {
     "name": "stdout",
     "output_type": "stream",
     "text": [
      "The Empirical Covariance is:\n"
     ]
    },
    {
     "data": {
      "text/html": [
       "<div>\n",
       "<style scoped>\n",
       "    .dataframe tbody tr th:only-of-type {\n",
       "        vertical-align: middle;\n",
       "    }\n",
       "\n",
       "    .dataframe tbody tr th {\n",
       "        vertical-align: top;\n",
       "    }\n",
       "\n",
       "    .dataframe thead th {\n",
       "        text-align: right;\n",
       "    }\n",
       "</style>\n",
       "<table border=\"1\" class=\"dataframe\">\n",
       "  <thead>\n",
       "    <tr style=\"text-align: right;\">\n",
       "      <th></th>\n",
       "      <th>EFA</th>\n",
       "      <th>EEM</th>\n",
       "      <th>EWG</th>\n",
       "      <th>TIP</th>\n",
       "      <th>EWJ</th>\n",
       "    </tr>\n",
       "  </thead>\n",
       "  <tbody>\n",
       "    <tr>\n",
       "      <th>EFA</th>\n",
       "      <td>0.000181</td>\n",
       "      <td>0.000187</td>\n",
       "      <td>0.000254</td>\n",
       "      <td>-0.000028</td>\n",
       "      <td>0.000140</td>\n",
       "    </tr>\n",
       "    <tr>\n",
       "      <th>EEM</th>\n",
       "      <td>0.000187</td>\n",
       "      <td>0.000286</td>\n",
       "      <td>0.000248</td>\n",
       "      <td>-0.000020</td>\n",
       "      <td>0.000150</td>\n",
       "    </tr>\n",
       "    <tr>\n",
       "      <th>EWG</th>\n",
       "      <td>0.000254</td>\n",
       "      <td>0.000248</td>\n",
       "      <td>0.000410</td>\n",
       "      <td>-0.000048</td>\n",
       "      <td>0.000167</td>\n",
       "    </tr>\n",
       "    <tr>\n",
       "      <th>TIP</th>\n",
       "      <td>-0.000028</td>\n",
       "      <td>-0.000020</td>\n",
       "      <td>-0.000048</td>\n",
       "      <td>0.000032</td>\n",
       "      <td>-0.000016</td>\n",
       "    </tr>\n",
       "    <tr>\n",
       "      <th>EWJ</th>\n",
       "      <td>0.000140</td>\n",
       "      <td>0.000150</td>\n",
       "      <td>0.000167</td>\n",
       "      <td>-0.000016</td>\n",
       "      <td>0.000151</td>\n",
       "    </tr>\n",
       "  </tbody>\n",
       "</table>\n",
       "</div>"
      ],
      "text/plain": [
       "          EFA       EEM       EWG       TIP       EWJ\n",
       "EFA  0.000181  0.000187  0.000254 -0.000028  0.000140\n",
       "EEM  0.000187  0.000286  0.000248 -0.000020  0.000150\n",
       "EWG  0.000254  0.000248  0.000410 -0.000048  0.000167\n",
       "TIP -0.000028 -0.000020 -0.000048  0.000032 -0.000016\n",
       "EWJ  0.000140  0.000150  0.000167 -0.000016  0.000151"
      ]
     },
     "execution_count": 5,
     "metadata": {},
     "output_type": "execute_result"
    }
   ],
   "source": [
    "# Finding the Empirical Covariance on price data\n",
    "empirical_cov = risk_estimators.empirical_covariance(stock_prices, price_data=True)\n",
    "\n",
    "# Transforming Empirical Covariance from np.array to pd.DataFrame\n",
    "empirical_cov = pd.DataFrame(empirical_cov, index=cov_matrix.index, columns=cov_matrix.columns)\n",
    "\n",
    "print('The Empirical Covariance is:')\n",
    "empirical_cov"
   ]
  },
  {
   "cell_type": "code",
   "execution_count": 6,
   "metadata": {},
   "outputs": [
    {
     "name": "stdout",
     "output_type": "stream",
     "text": [
      "The Simple Covariance is:\n"
     ]
    },
    {
     "data": {
      "text/html": [
       "<div>\n",
       "<style scoped>\n",
       "    .dataframe tbody tr th:only-of-type {\n",
       "        vertical-align: middle;\n",
       "    }\n",
       "\n",
       "    .dataframe tbody tr th {\n",
       "        vertical-align: top;\n",
       "    }\n",
       "\n",
       "    .dataframe thead th {\n",
       "        text-align: right;\n",
       "    }\n",
       "</style>\n",
       "<table border=\"1\" class=\"dataframe\">\n",
       "  <thead>\n",
       "    <tr style=\"text-align: right;\">\n",
       "      <th></th>\n",
       "      <th>EFA</th>\n",
       "      <th>EEM</th>\n",
       "      <th>EWG</th>\n",
       "      <th>TIP</th>\n",
       "      <th>EWJ</th>\n",
       "    </tr>\n",
       "  </thead>\n",
       "  <tbody>\n",
       "    <tr>\n",
       "      <th>EFA</th>\n",
       "      <td>0.000183</td>\n",
       "      <td>0.000190</td>\n",
       "      <td>0.000257</td>\n",
       "      <td>-0.000028</td>\n",
       "      <td>0.000142</td>\n",
       "    </tr>\n",
       "    <tr>\n",
       "      <th>EEM</th>\n",
       "      <td>0.000190</td>\n",
       "      <td>0.000290</td>\n",
       "      <td>0.000252</td>\n",
       "      <td>-0.000020</td>\n",
       "      <td>0.000153</td>\n",
       "    </tr>\n",
       "    <tr>\n",
       "      <th>EWG</th>\n",
       "      <td>0.000257</td>\n",
       "      <td>0.000252</td>\n",
       "      <td>0.000416</td>\n",
       "      <td>-0.000049</td>\n",
       "      <td>0.000170</td>\n",
       "    </tr>\n",
       "    <tr>\n",
       "      <th>TIP</th>\n",
       "      <td>-0.000028</td>\n",
       "      <td>-0.000020</td>\n",
       "      <td>-0.000049</td>\n",
       "      <td>0.000032</td>\n",
       "      <td>-0.000016</td>\n",
       "    </tr>\n",
       "    <tr>\n",
       "      <th>EWJ</th>\n",
       "      <td>0.000142</td>\n",
       "      <td>0.000153</td>\n",
       "      <td>0.000170</td>\n",
       "      <td>-0.000016</td>\n",
       "      <td>0.000153</td>\n",
       "    </tr>\n",
       "  </tbody>\n",
       "</table>\n",
       "</div>"
      ],
      "text/plain": [
       "          EFA       EEM       EWG       TIP       EWJ\n",
       "EFA  0.000183  0.000190  0.000257 -0.000028  0.000142\n",
       "EEM  0.000190  0.000290  0.000252 -0.000020  0.000153\n",
       "EWG  0.000257  0.000252  0.000416 -0.000049  0.000170\n",
       "TIP -0.000028 -0.000020 -0.000049  0.000032 -0.000016\n",
       "EWJ  0.000142  0.000153  0.000170 -0.000016  0.000153"
      ]
     },
     "execution_count": 6,
     "metadata": {},
     "output_type": "execute_result"
    }
   ],
   "source": [
    "print('The Simple Covariance is:')\n",
    "cov_matrix"
   ]
  },
  {
   "cell_type": "markdown",
   "metadata": {},
   "source": [
    "The result is the same as from the standard covariance function from the pandas package."
   ]
  },
  {
   "cell_type": "markdown",
   "metadata": {},
   "source": [
    "## Covariance estimator with shrinkage"
   ]
  },
  {
   "cell_type": "markdown",
   "metadata": {},
   "source": [
    "According to the __scikit-learn User Guide on Covariance estimation__:\n",
    "\n",
    "_\"The Maximum Likelihood Estimator is not a good estimator of the eigenvalues of the covariance matrix and the inverted matrix is not accurate. Sometimes, ... it cannot be inverted for numerical reasons\"._\n",
    "\n",
    "_\"To avoid problems with inversion, a transformation of the empirical covariance matrix has been introduced: the shrinkage\"._\n",
    "\n",
    "_\"Mathematically, this shrinkage consists in reducing the ratio between the smallest and the largest eigenvalues of the empirical covariance matrix\"._"
   ]
  },
  {
   "cell_type": "markdown",
   "metadata": {},
   "source": [
    "### Basic shrinkage"
   ]
  },
  {
   "cell_type": "markdown",
   "metadata": {},
   "source": [
    "_\"This shrinkage is done by shifting every eigenvalue according to a given offset, which is equivalent to finding the l2-penalized Maximum Likelihood Estimator of the covariance matrix\"._\n",
    "\n",
    "_\"Shrinkage boils down to a simple a convex transformation\":_\n",
    "\n",
    "$$\\sum_{shrunk} = (1 - \\alpha)\\sum_{unshrunk} + \\alpha\\frac{Tr \\sum_{unshrunk}}{p}Id$$\n",
    "\n",
    "_\"The amount of shrinkage $\\alpha$ is setting a trade-off between bias and variance\"._\n",
    "\n",
    "In the implementation, $\\alpha$ is passed to a function as the $basic\\_shrinkage$ parameter."
   ]
  },
  {
   "cell_type": "markdown",
   "metadata": {},
   "source": [
    "### Ledoit-Wolf shrinkage"
   ]
  },
  {
   "cell_type": "markdown",
   "metadata": {},
   "source": [
    "_\"The Ledoit-Wolf shrinkage is based on computing the optimal shrinkage coefficient $\\alpha$ that minimizes the Mean Squared Error between the estimated and the real covariance matrix\"._\n",
    "\n",
    "The algorithm is described in more detail in the paper by _Olivier Ledoit_ and _Michael Wolf_ __A well-conditioned estimator forlarge-dimensional covariance matrices__ [available here](http://perso.ens-lyon.fr/patrick.flandrin/LedoitWolf_JMA2004.pdf)"
   ]
  },
  {
   "cell_type": "markdown",
   "metadata": {},
   "source": [
    "### Oracle Approximating shrinkage"
   ]
  },
  {
   "cell_type": "markdown",
   "metadata": {},
   "source": [
    "_\"Assuming that the data are Gaussian distributed, Chen et al. derived a formula aimed at choosing a shrinkage coefficient $\\alpha$ that yields a smaller Mean Squared Error than the one given by Ledoit and Wolf’s formula\"._\n",
    "\n",
    "_\"The resulting estimator is known as the Oracle Shrinkage Approximating estimator of the covariance\"._\n",
    "\n",
    "The algorithm is described in more detail in the paper by _Y. Chen_, _A. Wiesel_, _Y.C. Eldar_ and _A.O. Hero_ __Shrinkage Algorithms for MMSE Covariance Estimation__ [available here](https://webee.technion.ac.il/people/YoninaEldar/104.pdf)"
   ]
  },
  {
   "cell_type": "markdown",
   "metadata": {},
   "source": [
    "### Examples of use"
   ]
  },
  {
   "cell_type": "markdown",
   "metadata": {},
   "source": [
    "We can calculate the Shrinked Covariances for every method and compare them."
   ]
  },
  {
   "cell_type": "code",
   "execution_count": 7,
   "metadata": {},
   "outputs": [
    {
     "name": "stdout",
     "output_type": "stream",
     "text": [
      "The Basic Shrinked covariance with an alpha of 0.1 is:\n"
     ]
    },
    {
     "data": {
      "text/html": [
       "<div>\n",
       "<style scoped>\n",
       "    .dataframe tbody tr th:only-of-type {\n",
       "        vertical-align: middle;\n",
       "    }\n",
       "\n",
       "    .dataframe tbody tr th {\n",
       "        vertical-align: top;\n",
       "    }\n",
       "\n",
       "    .dataframe thead th {\n",
       "        text-align: right;\n",
       "    }\n",
       "</style>\n",
       "<table border=\"1\" class=\"dataframe\">\n",
       "  <thead>\n",
       "    <tr style=\"text-align: right;\">\n",
       "      <th></th>\n",
       "      <th>EFA</th>\n",
       "      <th>EEM</th>\n",
       "      <th>EWG</th>\n",
       "      <th>TIP</th>\n",
       "      <th>EWJ</th>\n",
       "    </tr>\n",
       "  </thead>\n",
       "  <tbody>\n",
       "    <tr>\n",
       "      <th>EFA</th>\n",
       "      <td>0.000184</td>\n",
       "      <td>0.000168</td>\n",
       "      <td>0.000228</td>\n",
       "      <td>-0.000025</td>\n",
       "      <td>0.000126</td>\n",
       "    </tr>\n",
       "    <tr>\n",
       "      <th>EEM</th>\n",
       "      <td>0.000168</td>\n",
       "      <td>0.000278</td>\n",
       "      <td>0.000223</td>\n",
       "      <td>-0.000018</td>\n",
       "      <td>0.000135</td>\n",
       "    </tr>\n",
       "    <tr>\n",
       "      <th>EWG</th>\n",
       "      <td>0.000228</td>\n",
       "      <td>0.000223</td>\n",
       "      <td>0.000390</td>\n",
       "      <td>-0.000043</td>\n",
       "      <td>0.000150</td>\n",
       "    </tr>\n",
       "    <tr>\n",
       "      <th>TIP</th>\n",
       "      <td>-0.000025</td>\n",
       "      <td>-0.000018</td>\n",
       "      <td>-0.000043</td>\n",
       "      <td>0.000050</td>\n",
       "      <td>-0.000014</td>\n",
       "    </tr>\n",
       "    <tr>\n",
       "      <th>EWJ</th>\n",
       "      <td>0.000126</td>\n",
       "      <td>0.000135</td>\n",
       "      <td>0.000150</td>\n",
       "      <td>-0.000014</td>\n",
       "      <td>0.000157</td>\n",
       "    </tr>\n",
       "  </tbody>\n",
       "</table>\n",
       "</div>"
      ],
      "text/plain": [
       "          EFA       EEM       EWG       TIP       EWJ\n",
       "EFA  0.000184  0.000168  0.000228 -0.000025  0.000126\n",
       "EEM  0.000168  0.000278  0.000223 -0.000018  0.000135\n",
       "EWG  0.000228  0.000223  0.000390 -0.000043  0.000150\n",
       "TIP -0.000025 -0.000018 -0.000043  0.000050 -0.000014\n",
       "EWJ  0.000126  0.000135  0.000150 -0.000014  0.000157"
      ]
     },
     "execution_count": 7,
     "metadata": {},
     "output_type": "execute_result"
    }
   ],
   "source": [
    "# Finding the Shrinked Covariances on price data with every method\n",
    "shrinked_cov_methods = ['basic', 'lw', 'oas']\n",
    "shrinked_cov_dict = dict()\n",
    "\n",
    "for method in shrinked_cov_methods:\n",
    "    shrinked_cov = risk_estimators.shrinked_covariance(\n",
    "        stock_prices, \n",
    "        price_data=True,\n",
    "        shrinkage_type=method,\n",
    "        basic_shrinkage=0.1\n",
    "        )\n",
    "    \n",
    "    shrinked_cov_dict[method] = shrinked_cov\n",
    "\n",
    "# Separating the Shrinked covariances for every method\n",
    "shrinked_cov_basic, shrinked_cov_lw, shrinked_cov_oas = shrinked_cov_dict['basic'], shrinked_cov_dict['lw'], shrinked_cov_dict['oas']\n",
    "\n",
    "# Transforming each Shrinked Covariance from np.array to pd.DataFrame\n",
    "shrinked_cov_basic = pd.DataFrame(shrinked_cov_basic, index=cov_matrix.index, columns=cov_matrix.columns)\n",
    "shrinked_cov_lw = pd.DataFrame(shrinked_cov_lw, index=cov_matrix.index, columns=cov_matrix.columns)\n",
    "shrinked_cov_oas = pd.DataFrame(shrinked_cov_oas, index=cov_matrix.index, columns=cov_matrix.columns)\n",
    "\n",
    "print('The Basic Shrinked covariance with an alpha of 0.1 is:')\n",
    "shrinked_cov_basic"
   ]
  },
  {
   "cell_type": "code",
   "execution_count": 8,
   "metadata": {},
   "outputs": [
    {
     "name": "stdout",
     "output_type": "stream",
     "text": [
      "The Ledoit-Wolf Shrinked covariance is:\n"
     ]
    },
    {
     "data": {
      "text/html": [
       "<div>\n",
       "<style scoped>\n",
       "    .dataframe tbody tr th:only-of-type {\n",
       "        vertical-align: middle;\n",
       "    }\n",
       "\n",
       "    .dataframe tbody tr th {\n",
       "        vertical-align: top;\n",
       "    }\n",
       "\n",
       "    .dataframe thead th {\n",
       "        text-align: right;\n",
       "    }\n",
       "</style>\n",
       "<table border=\"1\" class=\"dataframe\">\n",
       "  <thead>\n",
       "    <tr style=\"text-align: right;\">\n",
       "      <th></th>\n",
       "      <th>EFA</th>\n",
       "      <th>EEM</th>\n",
       "      <th>EWG</th>\n",
       "      <th>TIP</th>\n",
       "      <th>EWJ</th>\n",
       "    </tr>\n",
       "  </thead>\n",
       "  <tbody>\n",
       "    <tr>\n",
       "      <th>EFA</th>\n",
       "      <td>0.000184</td>\n",
       "      <td>0.000169</td>\n",
       "      <td>0.000230</td>\n",
       "      <td>-0.000025</td>\n",
       "      <td>0.000127</td>\n",
       "    </tr>\n",
       "    <tr>\n",
       "      <th>EEM</th>\n",
       "      <td>0.000169</td>\n",
       "      <td>0.000279</td>\n",
       "      <td>0.000225</td>\n",
       "      <td>-0.000018</td>\n",
       "      <td>0.000136</td>\n",
       "    </tr>\n",
       "    <tr>\n",
       "      <th>EWG</th>\n",
       "      <td>0.000230</td>\n",
       "      <td>0.000225</td>\n",
       "      <td>0.000391</td>\n",
       "      <td>-0.000044</td>\n",
       "      <td>0.000151</td>\n",
       "    </tr>\n",
       "    <tr>\n",
       "      <th>TIP</th>\n",
       "      <td>-0.000025</td>\n",
       "      <td>-0.000018</td>\n",
       "      <td>-0.000044</td>\n",
       "      <td>0.000049</td>\n",
       "      <td>-0.000014</td>\n",
       "    </tr>\n",
       "    <tr>\n",
       "      <th>EWJ</th>\n",
       "      <td>0.000127</td>\n",
       "      <td>0.000136</td>\n",
       "      <td>0.000151</td>\n",
       "      <td>-0.000014</td>\n",
       "      <td>0.000157</td>\n",
       "    </tr>\n",
       "  </tbody>\n",
       "</table>\n",
       "</div>"
      ],
      "text/plain": [
       "          EFA       EEM       EWG       TIP       EWJ\n",
       "EFA  0.000184  0.000169  0.000230 -0.000025  0.000127\n",
       "EEM  0.000169  0.000279  0.000225 -0.000018  0.000136\n",
       "EWG  0.000230  0.000225  0.000391 -0.000044  0.000151\n",
       "TIP -0.000025 -0.000018 -0.000044  0.000049 -0.000014\n",
       "EWJ  0.000127  0.000136  0.000151 -0.000014  0.000157"
      ]
     },
     "execution_count": 8,
     "metadata": {},
     "output_type": "execute_result"
    }
   ],
   "source": [
    "print('The Ledoit-Wolf Shrinked covariance is:')\n",
    "shrinked_cov_lw"
   ]
  },
  {
   "cell_type": "code",
   "execution_count": 9,
   "metadata": {},
   "outputs": [
    {
     "name": "stdout",
     "output_type": "stream",
     "text": [
      "The Oracle Approximating Shrinked covariance is:\n"
     ]
    },
    {
     "data": {
      "text/html": [
       "<div>\n",
       "<style scoped>\n",
       "    .dataframe tbody tr th:only-of-type {\n",
       "        vertical-align: middle;\n",
       "    }\n",
       "\n",
       "    .dataframe tbody tr th {\n",
       "        vertical-align: top;\n",
       "    }\n",
       "\n",
       "    .dataframe thead th {\n",
       "        text-align: right;\n",
       "    }\n",
       "</style>\n",
       "<table border=\"1\" class=\"dataframe\">\n",
       "  <thead>\n",
       "    <tr style=\"text-align: right;\">\n",
       "      <th></th>\n",
       "      <th>EFA</th>\n",
       "      <th>EEM</th>\n",
       "      <th>EWG</th>\n",
       "      <th>TIP</th>\n",
       "      <th>EWJ</th>\n",
       "    </tr>\n",
       "  </thead>\n",
       "  <tbody>\n",
       "    <tr>\n",
       "      <th>EFA</th>\n",
       "      <td>0.000182</td>\n",
       "      <td>0.000178</td>\n",
       "      <td>0.000242</td>\n",
       "      <td>-0.000026</td>\n",
       "      <td>0.000133</td>\n",
       "    </tr>\n",
       "    <tr>\n",
       "      <th>EEM</th>\n",
       "      <td>0.000178</td>\n",
       "      <td>0.000282</td>\n",
       "      <td>0.000236</td>\n",
       "      <td>-0.000019</td>\n",
       "      <td>0.000143</td>\n",
       "    </tr>\n",
       "    <tr>\n",
       "      <th>EWG</th>\n",
       "      <td>0.000242</td>\n",
       "      <td>0.000236</td>\n",
       "      <td>0.000400</td>\n",
       "      <td>-0.000046</td>\n",
       "      <td>0.000159</td>\n",
       "    </tr>\n",
       "    <tr>\n",
       "      <th>TIP</th>\n",
       "      <td>-0.000026</td>\n",
       "      <td>-0.000019</td>\n",
       "      <td>-0.000046</td>\n",
       "      <td>0.000040</td>\n",
       "      <td>-0.000015</td>\n",
       "    </tr>\n",
       "    <tr>\n",
       "      <th>EWJ</th>\n",
       "      <td>0.000133</td>\n",
       "      <td>0.000143</td>\n",
       "      <td>0.000159</td>\n",
       "      <td>-0.000015</td>\n",
       "      <td>0.000154</td>\n",
       "    </tr>\n",
       "  </tbody>\n",
       "</table>\n",
       "</div>"
      ],
      "text/plain": [
       "          EFA       EEM       EWG       TIP       EWJ\n",
       "EFA  0.000182  0.000178  0.000242 -0.000026  0.000133\n",
       "EEM  0.000178  0.000282  0.000236 -0.000019  0.000143\n",
       "EWG  0.000242  0.000236  0.000400 -0.000046  0.000159\n",
       "TIP -0.000026 -0.000019 -0.000046  0.000040 -0.000015\n",
       "EWJ  0.000133  0.000143  0.000159 -0.000015  0.000154"
      ]
     },
     "execution_count": 9,
     "metadata": {},
     "output_type": "execute_result"
    }
   ],
   "source": [
    "print('The Oracle Approximating Shrinked covariance is:')\n",
    "shrinked_cov_oas"
   ]
  },
  {
   "cell_type": "code",
   "execution_count": 10,
   "metadata": {
    "scrolled": true
   },
   "outputs": [
    {
     "name": "stdout",
     "output_type": "stream",
     "text": [
      "The Simple Covariance is:\n"
     ]
    },
    {
     "data": {
      "text/html": [
       "<div>\n",
       "<style scoped>\n",
       "    .dataframe tbody tr th:only-of-type {\n",
       "        vertical-align: middle;\n",
       "    }\n",
       "\n",
       "    .dataframe tbody tr th {\n",
       "        vertical-align: top;\n",
       "    }\n",
       "\n",
       "    .dataframe thead th {\n",
       "        text-align: right;\n",
       "    }\n",
       "</style>\n",
       "<table border=\"1\" class=\"dataframe\">\n",
       "  <thead>\n",
       "    <tr style=\"text-align: right;\">\n",
       "      <th></th>\n",
       "      <th>EFA</th>\n",
       "      <th>EEM</th>\n",
       "      <th>EWG</th>\n",
       "      <th>TIP</th>\n",
       "      <th>EWJ</th>\n",
       "    </tr>\n",
       "  </thead>\n",
       "  <tbody>\n",
       "    <tr>\n",
       "      <th>EFA</th>\n",
       "      <td>0.000183</td>\n",
       "      <td>0.000190</td>\n",
       "      <td>0.000257</td>\n",
       "      <td>-0.000028</td>\n",
       "      <td>0.000142</td>\n",
       "    </tr>\n",
       "    <tr>\n",
       "      <th>EEM</th>\n",
       "      <td>0.000190</td>\n",
       "      <td>0.000290</td>\n",
       "      <td>0.000252</td>\n",
       "      <td>-0.000020</td>\n",
       "      <td>0.000153</td>\n",
       "    </tr>\n",
       "    <tr>\n",
       "      <th>EWG</th>\n",
       "      <td>0.000257</td>\n",
       "      <td>0.000252</td>\n",
       "      <td>0.000416</td>\n",
       "      <td>-0.000049</td>\n",
       "      <td>0.000170</td>\n",
       "    </tr>\n",
       "    <tr>\n",
       "      <th>TIP</th>\n",
       "      <td>-0.000028</td>\n",
       "      <td>-0.000020</td>\n",
       "      <td>-0.000049</td>\n",
       "      <td>0.000032</td>\n",
       "      <td>-0.000016</td>\n",
       "    </tr>\n",
       "    <tr>\n",
       "      <th>EWJ</th>\n",
       "      <td>0.000142</td>\n",
       "      <td>0.000153</td>\n",
       "      <td>0.000170</td>\n",
       "      <td>-0.000016</td>\n",
       "      <td>0.000153</td>\n",
       "    </tr>\n",
       "  </tbody>\n",
       "</table>\n",
       "</div>"
      ],
      "text/plain": [
       "          EFA       EEM       EWG       TIP       EWJ\n",
       "EFA  0.000183  0.000190  0.000257 -0.000028  0.000142\n",
       "EEM  0.000190  0.000290  0.000252 -0.000020  0.000153\n",
       "EWG  0.000257  0.000252  0.000416 -0.000049  0.000170\n",
       "TIP -0.000028 -0.000020 -0.000049  0.000032 -0.000016\n",
       "EWJ  0.000142  0.000153  0.000170 -0.000016  0.000153"
      ]
     },
     "execution_count": 10,
     "metadata": {},
     "output_type": "execute_result"
    }
   ],
   "source": [
    "print('The Simple Covariance is:')\n",
    "cov_matrix"
   ]
  },
  {
   "cell_type": "markdown",
   "metadata": {},
   "source": [
    "The Shrinked Covariance matrices for the Ledoit-Wolf and Oracle Approximating algorithms are similar with absolute covariance values in the Oracle Approximating covariance matrix being slightly bigger. With the basic Shrinkage covariance matrix with $\\alpha = 0.1$, the absolute values are even smaller. The Simple Covariance matrix has the highest absolute values in comparison."
   ]
  },
  {
   "cell_type": "markdown",
   "metadata": {},
   "source": [
    "## Semi-Covariance matrix"
   ]
  },
  {
   "cell_type": "markdown",
   "metadata": {},
   "source": [
    "Semi-covariance matrix is the way to measure the volatility of the negative returns or returns below a certain threshold. \n",
    "\n",
    "This measure can be used to decrease the negative volatility and is being more precise for this goal than the covariance matrix that measures both positive and negative variance. \n",
    "\n",
    "According to the __Minimum Downside Volatility Indices__ paper:\n",
    "\n",
    "_\"Each element in the Semi-Covariance matrix is calculated as:\"_\n",
    "\n",
    "$$SemiCov_{ij} = \\frac{1}{T}\\sum_{t=1}^{T}[Min(R_{i,t}-B,0)*Min(R_{j,t}-B,0)]$$\n",
    "\n",
    "_where $T$ is the number of observations,_ $R_{i,t}$ _is the return of an asset $i$ at time $t$, and $B$ is the threshold return._\n",
    "\n",
    "_If the $B$ is set to zero, the volatility of negative returns is measured._\n",
    "\n",
    "A deeper analysis of use cases of Semi-Covariance matrix is available in the paper by _Solactive AG - German Index Engineering_ __Minimum Downside Volatility Indices__ [available here](https://www.solactive.com/wp-content/uploads/2018/04/Solactive_Minimum-Downside-Volatility-Indices.pdf)"
   ]
  },
  {
   "cell_type": "markdown",
   "metadata": {},
   "source": [
    "### Examples of use"
   ]
  },
  {
   "cell_type": "markdown",
   "metadata": {},
   "source": [
    "We can calculate the Semi-Covariance and compare it to the simple covariance."
   ]
  },
  {
   "cell_type": "code",
   "execution_count": 11,
   "metadata": {},
   "outputs": [
    {
     "name": "stdout",
     "output_type": "stream",
     "text": [
      "The Semi-Covariance matrix is:\n"
     ]
    },
    {
     "data": {
      "text/html": [
       "<div>\n",
       "<style scoped>\n",
       "    .dataframe tbody tr th:only-of-type {\n",
       "        vertical-align: middle;\n",
       "    }\n",
       "\n",
       "    .dataframe tbody tr th {\n",
       "        vertical-align: top;\n",
       "    }\n",
       "\n",
       "    .dataframe thead th {\n",
       "        text-align: right;\n",
       "    }\n",
       "</style>\n",
       "<table border=\"1\" class=\"dataframe\">\n",
       "  <thead>\n",
       "    <tr style=\"text-align: right;\">\n",
       "      <th></th>\n",
       "      <th>EFA</th>\n",
       "      <th>EEM</th>\n",
       "      <th>EWG</th>\n",
       "      <th>TIP</th>\n",
       "      <th>EWJ</th>\n",
       "    </tr>\n",
       "  </thead>\n",
       "  <tbody>\n",
       "    <tr>\n",
       "      <th>EFA</th>\n",
       "      <td>0.000092</td>\n",
       "      <td>0.000090</td>\n",
       "      <td>0.000135</td>\n",
       "      <td>0.000011</td>\n",
       "      <td>0.000075</td>\n",
       "    </tr>\n",
       "    <tr>\n",
       "      <th>EEM</th>\n",
       "      <td>0.000090</td>\n",
       "      <td>0.000115</td>\n",
       "      <td>0.000129</td>\n",
       "      <td>0.000018</td>\n",
       "      <td>0.000078</td>\n",
       "    </tr>\n",
       "    <tr>\n",
       "      <th>EWG</th>\n",
       "      <td>0.000135</td>\n",
       "      <td>0.000129</td>\n",
       "      <td>0.000216</td>\n",
       "      <td>0.000013</td>\n",
       "      <td>0.000098</td>\n",
       "    </tr>\n",
       "    <tr>\n",
       "      <th>TIP</th>\n",
       "      <td>0.000011</td>\n",
       "      <td>0.000018</td>\n",
       "      <td>0.000013</td>\n",
       "      <td>0.000016</td>\n",
       "      <td>0.000013</td>\n",
       "    </tr>\n",
       "    <tr>\n",
       "      <th>EWJ</th>\n",
       "      <td>0.000075</td>\n",
       "      <td>0.000078</td>\n",
       "      <td>0.000098</td>\n",
       "      <td>0.000013</td>\n",
       "      <td>0.000089</td>\n",
       "    </tr>\n",
       "  </tbody>\n",
       "</table>\n",
       "</div>"
      ],
      "text/plain": [
       "          EFA       EEM       EWG       TIP       EWJ\n",
       "EFA  0.000092  0.000090  0.000135  0.000011  0.000075\n",
       "EEM  0.000090  0.000115  0.000129  0.000018  0.000078\n",
       "EWG  0.000135  0.000129  0.000216  0.000013  0.000098\n",
       "TIP  0.000011  0.000018  0.000013  0.000016  0.000013\n",
       "EWJ  0.000075  0.000078  0.000098  0.000013  0.000089"
      ]
     },
     "execution_count": 11,
     "metadata": {},
     "output_type": "execute_result"
    }
   ],
   "source": [
    "# Finding the Semi-Covariance on price data\n",
    "semi_cov = risk_estimators.semi_covariance(stock_prices, price_data=True, threshold_return=0)\n",
    "\n",
    "# Transforming Semi-Covariance from np.array to pd.DataFrame\n",
    "semi_cov = pd.DataFrame(semi_cov, index=cov_matrix.index, columns=cov_matrix.columns)\n",
    "\n",
    "print('The Semi-Covariance matrix is:')\n",
    "semi_cov"
   ]
  },
  {
   "cell_type": "code",
   "execution_count": 12,
   "metadata": {},
   "outputs": [
    {
     "name": "stdout",
     "output_type": "stream",
     "text": [
      "The Simple Covariance is:\n"
     ]
    },
    {
     "data": {
      "text/html": [
       "<div>\n",
       "<style scoped>\n",
       "    .dataframe tbody tr th:only-of-type {\n",
       "        vertical-align: middle;\n",
       "    }\n",
       "\n",
       "    .dataframe tbody tr th {\n",
       "        vertical-align: top;\n",
       "    }\n",
       "\n",
       "    .dataframe thead th {\n",
       "        text-align: right;\n",
       "    }\n",
       "</style>\n",
       "<table border=\"1\" class=\"dataframe\">\n",
       "  <thead>\n",
       "    <tr style=\"text-align: right;\">\n",
       "      <th></th>\n",
       "      <th>EFA</th>\n",
       "      <th>EEM</th>\n",
       "      <th>EWG</th>\n",
       "      <th>TIP</th>\n",
       "      <th>EWJ</th>\n",
       "    </tr>\n",
       "  </thead>\n",
       "  <tbody>\n",
       "    <tr>\n",
       "      <th>EFA</th>\n",
       "      <td>0.000183</td>\n",
       "      <td>0.000190</td>\n",
       "      <td>0.000257</td>\n",
       "      <td>-0.000028</td>\n",
       "      <td>0.000142</td>\n",
       "    </tr>\n",
       "    <tr>\n",
       "      <th>EEM</th>\n",
       "      <td>0.000190</td>\n",
       "      <td>0.000290</td>\n",
       "      <td>0.000252</td>\n",
       "      <td>-0.000020</td>\n",
       "      <td>0.000153</td>\n",
       "    </tr>\n",
       "    <tr>\n",
       "      <th>EWG</th>\n",
       "      <td>0.000257</td>\n",
       "      <td>0.000252</td>\n",
       "      <td>0.000416</td>\n",
       "      <td>-0.000049</td>\n",
       "      <td>0.000170</td>\n",
       "    </tr>\n",
       "    <tr>\n",
       "      <th>TIP</th>\n",
       "      <td>-0.000028</td>\n",
       "      <td>-0.000020</td>\n",
       "      <td>-0.000049</td>\n",
       "      <td>0.000032</td>\n",
       "      <td>-0.000016</td>\n",
       "    </tr>\n",
       "    <tr>\n",
       "      <th>EWJ</th>\n",
       "      <td>0.000142</td>\n",
       "      <td>0.000153</td>\n",
       "      <td>0.000170</td>\n",
       "      <td>-0.000016</td>\n",
       "      <td>0.000153</td>\n",
       "    </tr>\n",
       "  </tbody>\n",
       "</table>\n",
       "</div>"
      ],
      "text/plain": [
       "          EFA       EEM       EWG       TIP       EWJ\n",
       "EFA  0.000183  0.000190  0.000257 -0.000028  0.000142\n",
       "EEM  0.000190  0.000290  0.000252 -0.000020  0.000153\n",
       "EWG  0.000257  0.000252  0.000416 -0.000049  0.000170\n",
       "TIP -0.000028 -0.000020 -0.000049  0.000032 -0.000016\n",
       "EWJ  0.000142  0.000153  0.000170 -0.000016  0.000153"
      ]
     },
     "execution_count": 12,
     "metadata": {},
     "output_type": "execute_result"
    }
   ],
   "source": [
    "print('The Simple Covariance is:')\n",
    "cov_matrix"
   ]
  },
  {
   "cell_type": "markdown",
   "metadata": {},
   "source": [
    "As the computation of the Semi-Covariance matrix is different from the usual computation of the covariance matrix, the absolute values in the Semi-Covariance matrix are significantly lower. Since it's a measure, let's multiply the Semi-Covariance matrix by 10 to better see the changes in the measures."
   ]
  },
  {
   "cell_type": "code",
   "execution_count": 13,
   "metadata": {},
   "outputs": [
    {
     "name": "stdout",
     "output_type": "stream",
     "text": [
      "The Semi-Covariance matrix multiplied by 10 is:\n"
     ]
    },
    {
     "data": {
      "text/html": [
       "<div>\n",
       "<style scoped>\n",
       "    .dataframe tbody tr th:only-of-type {\n",
       "        vertical-align: middle;\n",
       "    }\n",
       "\n",
       "    .dataframe tbody tr th {\n",
       "        vertical-align: top;\n",
       "    }\n",
       "\n",
       "    .dataframe thead th {\n",
       "        text-align: right;\n",
       "    }\n",
       "</style>\n",
       "<table border=\"1\" class=\"dataframe\">\n",
       "  <thead>\n",
       "    <tr style=\"text-align: right;\">\n",
       "      <th></th>\n",
       "      <th>EFA</th>\n",
       "      <th>EEM</th>\n",
       "      <th>EWG</th>\n",
       "      <th>TIP</th>\n",
       "      <th>EWJ</th>\n",
       "    </tr>\n",
       "  </thead>\n",
       "  <tbody>\n",
       "    <tr>\n",
       "      <th>EFA</th>\n",
       "      <td>0.000921</td>\n",
       "      <td>0.000895</td>\n",
       "      <td>0.001346</td>\n",
       "      <td>0.000106</td>\n",
       "      <td>0.000746</td>\n",
       "    </tr>\n",
       "    <tr>\n",
       "      <th>EEM</th>\n",
       "      <td>0.000895</td>\n",
       "      <td>0.001152</td>\n",
       "      <td>0.001294</td>\n",
       "      <td>0.000175</td>\n",
       "      <td>0.000781</td>\n",
       "    </tr>\n",
       "    <tr>\n",
       "      <th>EWG</th>\n",
       "      <td>0.001346</td>\n",
       "      <td>0.001294</td>\n",
       "      <td>0.002159</td>\n",
       "      <td>0.000128</td>\n",
       "      <td>0.000980</td>\n",
       "    </tr>\n",
       "    <tr>\n",
       "      <th>TIP</th>\n",
       "      <td>0.000106</td>\n",
       "      <td>0.000175</td>\n",
       "      <td>0.000128</td>\n",
       "      <td>0.000159</td>\n",
       "      <td>0.000126</td>\n",
       "    </tr>\n",
       "    <tr>\n",
       "      <th>EWJ</th>\n",
       "      <td>0.000746</td>\n",
       "      <td>0.000781</td>\n",
       "      <td>0.000980</td>\n",
       "      <td>0.000126</td>\n",
       "      <td>0.000891</td>\n",
       "    </tr>\n",
       "  </tbody>\n",
       "</table>\n",
       "</div>"
      ],
      "text/plain": [
       "          EFA       EEM       EWG       TIP       EWJ\n",
       "EFA  0.000921  0.000895  0.001346  0.000106  0.000746\n",
       "EEM  0.000895  0.001152  0.001294  0.000175  0.000781\n",
       "EWG  0.001346  0.001294  0.002159  0.000128  0.000980\n",
       "TIP  0.000106  0.000175  0.000128  0.000159  0.000126\n",
       "EWJ  0.000746  0.000781  0.000980  0.000126  0.000891"
      ]
     },
     "execution_count": 13,
     "metadata": {},
     "output_type": "execute_result"
    }
   ],
   "source": [
    "print('The Semi-Covariance matrix multiplied by 10 is:')\n",
    "semi_cov * 10"
   ]
  },
  {
   "cell_type": "markdown",
   "metadata": {},
   "source": [
    "Now we can see that the values in the two matrices are similar, however, some differences are present.\n",
    "\n",
    "For example, the simple Covariance between the EEM and TIP is negative, but the negative returns have positive covariance. "
   ]
  },
  {
   "cell_type": "markdown",
   "metadata": {},
   "source": [
    "## Exponentially-weighted Covariance matrix"
   ]
  },
  {
   "cell_type": "markdown",
   "metadata": {},
   "source": [
    "Each element in the Exponentially-weighted Covariance matrix is calculated as follows.\n",
    "\n",
    "First, we calculate the series of covariances for every observation time $t$ between each two elements $i$ and $j$:\n",
    "\n",
    "$$CovarSeries_{i,j}^{t} = (R_{i}^{t} - Mean(R_{i})) * (R_{j}^{t} - Mean(R_{j}))$$\n",
    "\n",
    "Then we apply the exponential weighted moving average based on the obtained series with decay in terms of span, as $\\alpha=\\frac{2}{span+1}$, for $span \\ge 1$\n",
    "\n",
    "$$ExponentialCovariance_{i,j} = ExponentialWeightedMovingAverage(CovarSeries_{i,j})[T]$$\n",
    "\n",
    "So, it's the last element from an exponentially weighted moving average series based on a series of covariances between returns of the corresponding assets. \n",
    "\n",
    "It is used to give greater weight to most relevant observations in computing the covariance."
   ]
  },
  {
   "cell_type": "markdown",
   "metadata": {},
   "source": [
    "### Examples of use"
   ]
  },
  {
   "cell_type": "markdown",
   "metadata": {},
   "source": [
    "We can calculate the Exponential Covariance and compare it to the simple covariance."
   ]
  },
  {
   "cell_type": "code",
   "execution_count": 14,
   "metadata": {},
   "outputs": [
    {
     "name": "stdout",
     "output_type": "stream",
     "text": [
      "The Exponential Covariance matrix is:\n"
     ]
    },
    {
     "data": {
      "text/html": [
       "<div>\n",
       "<style scoped>\n",
       "    .dataframe tbody tr th:only-of-type {\n",
       "        vertical-align: middle;\n",
       "    }\n",
       "\n",
       "    .dataframe tbody tr th {\n",
       "        vertical-align: top;\n",
       "    }\n",
       "\n",
       "    .dataframe thead th {\n",
       "        text-align: right;\n",
       "    }\n",
       "</style>\n",
       "<table border=\"1\" class=\"dataframe\">\n",
       "  <thead>\n",
       "    <tr style=\"text-align: right;\">\n",
       "      <th></th>\n",
       "      <th>EFA</th>\n",
       "      <th>EEM</th>\n",
       "      <th>EWG</th>\n",
       "      <th>TIP</th>\n",
       "      <th>EWJ</th>\n",
       "    </tr>\n",
       "  </thead>\n",
       "  <tbody>\n",
       "    <tr>\n",
       "      <th>EFA</th>\n",
       "      <td>0.000187</td>\n",
       "      <td>0.000198</td>\n",
       "      <td>0.000268</td>\n",
       "      <td>-0.000029</td>\n",
       "      <td>0.000150</td>\n",
       "    </tr>\n",
       "    <tr>\n",
       "      <th>EEM</th>\n",
       "      <td>0.000198</td>\n",
       "      <td>0.000309</td>\n",
       "      <td>0.000264</td>\n",
       "      <td>-0.000022</td>\n",
       "      <td>0.000163</td>\n",
       "    </tr>\n",
       "    <tr>\n",
       "      <th>EWG</th>\n",
       "      <td>0.000268</td>\n",
       "      <td>0.000264</td>\n",
       "      <td>0.000438</td>\n",
       "      <td>-0.000049</td>\n",
       "      <td>0.000184</td>\n",
       "    </tr>\n",
       "    <tr>\n",
       "      <th>TIP</th>\n",
       "      <td>-0.000029</td>\n",
       "      <td>-0.000022</td>\n",
       "      <td>-0.000049</td>\n",
       "      <td>0.000032</td>\n",
       "      <td>-0.000017</td>\n",
       "    </tr>\n",
       "    <tr>\n",
       "      <th>EWJ</th>\n",
       "      <td>0.000150</td>\n",
       "      <td>0.000163</td>\n",
       "      <td>0.000184</td>\n",
       "      <td>-0.000017</td>\n",
       "      <td>0.000164</td>\n",
       "    </tr>\n",
       "  </tbody>\n",
       "</table>\n",
       "</div>"
      ],
      "text/plain": [
       "          EFA       EEM       EWG       TIP       EWJ\n",
       "EFA  0.000187  0.000198  0.000268 -0.000029  0.000150\n",
       "EEM  0.000198  0.000309  0.000264 -0.000022  0.000163\n",
       "EWG  0.000268  0.000264  0.000438 -0.000049  0.000184\n",
       "TIP -0.000029 -0.000022 -0.000049  0.000032 -0.000017\n",
       "EWJ  0.000150  0.000163  0.000184 -0.000017  0.000164"
      ]
     },
     "execution_count": 14,
     "metadata": {},
     "output_type": "execute_result"
    }
   ],
   "source": [
    "# Finding the Exponential Covariance on price data and span of 60\n",
    "exponential_cov = risk_estimators.exponential_covariance(stock_prices, price_data=True, window_span=60)\n",
    "\n",
    "# Transforming Semi-Covariance from np.array to pd.DataFrame\n",
    "exponential_cov = pd.DataFrame(exponential_cov, index=cov_matrix.index, columns=cov_matrix.columns)\n",
    "\n",
    "print('The Exponential Covariance matrix is:')\n",
    "exponential_cov"
   ]
  },
  {
   "cell_type": "code",
   "execution_count": 15,
   "metadata": {
    "scrolled": true
   },
   "outputs": [
    {
     "name": "stdout",
     "output_type": "stream",
     "text": [
      "The Simple Covariance is:\n"
     ]
    },
    {
     "data": {
      "text/html": [
       "<div>\n",
       "<style scoped>\n",
       "    .dataframe tbody tr th:only-of-type {\n",
       "        vertical-align: middle;\n",
       "    }\n",
       "\n",
       "    .dataframe tbody tr th {\n",
       "        vertical-align: top;\n",
       "    }\n",
       "\n",
       "    .dataframe thead th {\n",
       "        text-align: right;\n",
       "    }\n",
       "</style>\n",
       "<table border=\"1\" class=\"dataframe\">\n",
       "  <thead>\n",
       "    <tr style=\"text-align: right;\">\n",
       "      <th></th>\n",
       "      <th>EFA</th>\n",
       "      <th>EEM</th>\n",
       "      <th>EWG</th>\n",
       "      <th>TIP</th>\n",
       "      <th>EWJ</th>\n",
       "    </tr>\n",
       "  </thead>\n",
       "  <tbody>\n",
       "    <tr>\n",
       "      <th>EFA</th>\n",
       "      <td>0.000183</td>\n",
       "      <td>0.000190</td>\n",
       "      <td>0.000257</td>\n",
       "      <td>-0.000028</td>\n",
       "      <td>0.000142</td>\n",
       "    </tr>\n",
       "    <tr>\n",
       "      <th>EEM</th>\n",
       "      <td>0.000190</td>\n",
       "      <td>0.000290</td>\n",
       "      <td>0.000252</td>\n",
       "      <td>-0.000020</td>\n",
       "      <td>0.000153</td>\n",
       "    </tr>\n",
       "    <tr>\n",
       "      <th>EWG</th>\n",
       "      <td>0.000257</td>\n",
       "      <td>0.000252</td>\n",
       "      <td>0.000416</td>\n",
       "      <td>-0.000049</td>\n",
       "      <td>0.000170</td>\n",
       "    </tr>\n",
       "    <tr>\n",
       "      <th>TIP</th>\n",
       "      <td>-0.000028</td>\n",
       "      <td>-0.000020</td>\n",
       "      <td>-0.000049</td>\n",
       "      <td>0.000032</td>\n",
       "      <td>-0.000016</td>\n",
       "    </tr>\n",
       "    <tr>\n",
       "      <th>EWJ</th>\n",
       "      <td>0.000142</td>\n",
       "      <td>0.000153</td>\n",
       "      <td>0.000170</td>\n",
       "      <td>-0.000016</td>\n",
       "      <td>0.000153</td>\n",
       "    </tr>\n",
       "  </tbody>\n",
       "</table>\n",
       "</div>"
      ],
      "text/plain": [
       "          EFA       EEM       EWG       TIP       EWJ\n",
       "EFA  0.000183  0.000190  0.000257 -0.000028  0.000142\n",
       "EEM  0.000190  0.000290  0.000252 -0.000020  0.000153\n",
       "EWG  0.000257  0.000252  0.000416 -0.000049  0.000170\n",
       "TIP -0.000028 -0.000020 -0.000049  0.000032 -0.000016\n",
       "EWJ  0.000142  0.000153  0.000170 -0.000016  0.000153"
      ]
     },
     "execution_count": 15,
     "metadata": {},
     "output_type": "execute_result"
    }
   ],
   "source": [
    "print('The Simple Covariance is:')\n",
    "cov_matrix"
   ]
  },
  {
   "cell_type": "markdown",
   "metadata": {},
   "source": [
    "From the results it's seen that the variance of the EWG has increased in the last observations, whereas the the variance of the EEM has decreased. The covariance between the EEM and EWJ has decreased in the last observations.\n",
    "\n",
    "So, the covariance with higher weights in the most recent observations can be analyzed in comparison to covariance with equal weights (simple covariance). And the conclusions about how the covariance has changed over time can be drawn."
   ]
  },
  {
   "cell_type": "markdown",
   "metadata": {},
   "source": [
    "## De-noising and De-toning Covariance/Correlation Matrix"
   ]
  },
  {
   "cell_type": "markdown",
   "metadata": {},
   "source": [
    "### Constant Residual Eigenvalue De-noising Method"
   ]
  },
  {
   "cell_type": "markdown",
   "metadata": {},
   "source": [
    "The main idea behind de-noising the covariance matrix is to eliminate the eigenvalues of the covariance matrix that are representing noise and not useful information. \n",
    "\n",
    "This is done by determining the maximum theoretical value of the eigenvalue of such matrix as a threshold and then setting all the calculated eigenvalues below the threshold to the same value.\n",
    "\n",
    "The function provided below for de-noising the covariance works as follows:\n",
    "- The given covariance matrix is transformed to the correlation matrix.\n",
    "\n",
    "- The eigenvalues and eigenvectors of the correlation matrix are calculated.\n",
    "\n",
    "- Using the Kernel Density Estimate algorithm a kernel of the eigenvalues is estimated.\n",
    "\n",
    "- The Marcenko-Pastur pdf is fitted to the KDE using the variance as the parameter for the optimization.\n",
    "\n",
    "- From the obtained Marcenko-Pastur distribution, the maximum theoretical eigenvalue is calculated using the formula from the **Instability caused by noise** part of [A Robust Estimator of the Efficient Frontier paper](https://papers.ssrn.com/sol3/abstract_id=3469961).\n",
    "\n",
    "- The eigenvalues in the set that are below the theoretical value are all set to their average value. For example, we have a set of 5 eigenvalues sorted in the descending order ( $\\lambda_1 ... \\lambda_5$ ), 3 of which are below the maximum theoretical value, then we set\n",
    "\n",
    "$$\\lambda_3^{NEW} = \\lambda_4^{NEW} = \\lambda_5^{NEW} = \\frac{\\lambda_3^{OLD} + \\lambda_4^{OLD} + \\lambda_5^{OLD}}{3}$$\n",
    "\n",
    "- Eigenvalues above the maximum theoretical value are left intact.\n",
    "\n",
    "$$\\lambda_1^{NEW} = \\lambda_1^{OLD}$$\n",
    "\n",
    "$$\\lambda_2^{NEW} = \\lambda_2^{OLD}$$\n",
    "\n",
    "- The new set of eigenvalues with the set of eigenvectors is used to obtain the new de-noised correlation matrix. $\\tilde{C}$ is the de-noised correlation matrix, $W$ is the eigenvectors matrix, and $\\Lambda$ is the diagonal matrix with new eigenvalues.\n",
    "\n",
    "$$\\tilde{C} = W \\Lambda W$$\n",
    "\n",
    "- To rescale $\\tilde{C}$ so that the main diagonal consists of 1s the following transformation is made. This is how the final $C_{denoised}$ is obtained.\n",
    "\n",
    "$$C_{denoised} = \\tilde{C} [(diag[\\tilde{C}])^\\frac{1}{2}(diag[\\tilde{C}])^{\\frac{1}{2}'}]^{-1}$$\n",
    "\n",
    "- The new correlation matrix is then transformed back to the new de-noised covariance matrix.\n",
    "\n",
    "The process of de-noising the covariance matrix is described in a paper by _Potter M._, _J.P. Bouchaud_, _L. Laloux_ __“Financial applications of random matrix theory: Old laces and new pieces.”__  [available here](https://arxiv.org/abs/physics/0507111)."
   ]
  },
  {
   "cell_type": "markdown",
   "metadata": {},
   "source": [
    "**Note: Lopez de Prado suggests that this de-noising algorithm is preferable as it removes the noise while preserving the signal.**"
   ]
  },
  {
   "cell_type": "code",
   "execution_count": 16,
   "metadata": {
    "scrolled": true
   },
   "outputs": [
    {
     "name": "stdout",
     "output_type": "stream",
     "text": [
      "CRE De-noised Сovariance matrix\n"
     ]
    },
    {
     "data": {
      "text/html": [
       "<div>\n",
       "<style scoped>\n",
       "    .dataframe tbody tr th:only-of-type {\n",
       "        vertical-align: middle;\n",
       "    }\n",
       "\n",
       "    .dataframe tbody tr th {\n",
       "        vertical-align: top;\n",
       "    }\n",
       "\n",
       "    .dataframe thead th {\n",
       "        text-align: right;\n",
       "    }\n",
       "</style>\n",
       "<table border=\"1\" class=\"dataframe\">\n",
       "  <thead>\n",
       "    <tr style=\"text-align: right;\">\n",
       "      <th></th>\n",
       "      <th>EFA</th>\n",
       "      <th>EEM</th>\n",
       "      <th>EWG</th>\n",
       "      <th>TIP</th>\n",
       "      <th>EWJ</th>\n",
       "    </tr>\n",
       "  </thead>\n",
       "  <tbody>\n",
       "    <tr>\n",
       "      <th>EFA</th>\n",
       "      <td>0.000183</td>\n",
       "      <td>0.000155</td>\n",
       "      <td>0.000189</td>\n",
       "      <td>-0.000037</td>\n",
       "      <td>0.000113</td>\n",
       "    </tr>\n",
       "    <tr>\n",
       "      <th>EEM</th>\n",
       "      <td>0.000155</td>\n",
       "      <td>0.000290</td>\n",
       "      <td>0.000229</td>\n",
       "      <td>-0.000044</td>\n",
       "      <td>0.000136</td>\n",
       "    </tr>\n",
       "    <tr>\n",
       "      <th>EWG</th>\n",
       "      <td>0.000189</td>\n",
       "      <td>0.000229</td>\n",
       "      <td>0.000416</td>\n",
       "      <td>-0.000054</td>\n",
       "      <td>0.000166</td>\n",
       "    </tr>\n",
       "    <tr>\n",
       "      <th>TIP</th>\n",
       "      <td>-0.000037</td>\n",
       "      <td>-0.000044</td>\n",
       "      <td>-0.000054</td>\n",
       "      <td>0.000032</td>\n",
       "      <td>-0.000032</td>\n",
       "    </tr>\n",
       "    <tr>\n",
       "      <th>EWJ</th>\n",
       "      <td>0.000113</td>\n",
       "      <td>0.000136</td>\n",
       "      <td>0.000166</td>\n",
       "      <td>-0.000032</td>\n",
       "      <td>0.000153</td>\n",
       "    </tr>\n",
       "  </tbody>\n",
       "</table>\n",
       "</div>"
      ],
      "text/plain": [
       "          EFA       EEM       EWG       TIP       EWJ\n",
       "EFA  0.000183  0.000155  0.000189 -0.000037  0.000113\n",
       "EEM  0.000155  0.000290  0.000229 -0.000044  0.000136\n",
       "EWG  0.000189  0.000229  0.000416 -0.000054  0.000166\n",
       "TIP -0.000037 -0.000044 -0.000054  0.000032 -0.000032\n",
       "EWJ  0.000113  0.000136  0.000166 -0.000032  0.000153"
      ]
     },
     "execution_count": 16,
     "metadata": {},
     "output_type": "execute_result"
    }
   ],
   "source": [
    "# Setting the required parameters for de-noising\n",
    "# Relation of number of observations T to the number of variables N (T/N)\n",
    "\n",
    "T, N = stock_prices.shape\n",
    "tn_relation = T / N\n",
    "\n",
    "# The bandwidth of the KDE kernel\n",
    "kde_bwidth = 0.01\n",
    "\n",
    "\n",
    "# Finding the De-noised Сovariance matrix using the Constant Residual Eigenvalue Method\n",
    "cov_matrix_denoised = risk_estimators.denoise_covariance(cov_matrix,\n",
    "                                                         tn_relation,\n",
    "                                                         denoise_method='const_resid_eigen',\n",
    "                                                         kde_bwidth=kde_bwidth)\n",
    "\n",
    "# Transforming De-noised Covariance from np.array to pd.DataFrame\n",
    "cov_matrix_denoised = pd.DataFrame(cov_matrix_denoised, index=cov_matrix.index, columns=cov_matrix.columns)\n",
    "\n",
    "# Outputting the result\n",
    "print('CRE De-noised Сovariance matrix')\n",
    "cov_matrix_denoised"
   ]
  },
  {
   "cell_type": "code",
   "execution_count": 17,
   "metadata": {},
   "outputs": [
    {
     "name": "stdout",
     "output_type": "stream",
     "text": [
      "The Simple Covariance is:\n"
     ]
    },
    {
     "data": {
      "text/html": [
       "<div>\n",
       "<style scoped>\n",
       "    .dataframe tbody tr th:only-of-type {\n",
       "        vertical-align: middle;\n",
       "    }\n",
       "\n",
       "    .dataframe tbody tr th {\n",
       "        vertical-align: top;\n",
       "    }\n",
       "\n",
       "    .dataframe thead th {\n",
       "        text-align: right;\n",
       "    }\n",
       "</style>\n",
       "<table border=\"1\" class=\"dataframe\">\n",
       "  <thead>\n",
       "    <tr style=\"text-align: right;\">\n",
       "      <th></th>\n",
       "      <th>EFA</th>\n",
       "      <th>EEM</th>\n",
       "      <th>EWG</th>\n",
       "      <th>TIP</th>\n",
       "      <th>EWJ</th>\n",
       "    </tr>\n",
       "  </thead>\n",
       "  <tbody>\n",
       "    <tr>\n",
       "      <th>EFA</th>\n",
       "      <td>0.000183</td>\n",
       "      <td>0.000190</td>\n",
       "      <td>0.000257</td>\n",
       "      <td>-0.000028</td>\n",
       "      <td>0.000142</td>\n",
       "    </tr>\n",
       "    <tr>\n",
       "      <th>EEM</th>\n",
       "      <td>0.000190</td>\n",
       "      <td>0.000290</td>\n",
       "      <td>0.000252</td>\n",
       "      <td>-0.000020</td>\n",
       "      <td>0.000153</td>\n",
       "    </tr>\n",
       "    <tr>\n",
       "      <th>EWG</th>\n",
       "      <td>0.000257</td>\n",
       "      <td>0.000252</td>\n",
       "      <td>0.000416</td>\n",
       "      <td>-0.000049</td>\n",
       "      <td>0.000170</td>\n",
       "    </tr>\n",
       "    <tr>\n",
       "      <th>TIP</th>\n",
       "      <td>-0.000028</td>\n",
       "      <td>-0.000020</td>\n",
       "      <td>-0.000049</td>\n",
       "      <td>0.000032</td>\n",
       "      <td>-0.000016</td>\n",
       "    </tr>\n",
       "    <tr>\n",
       "      <th>EWJ</th>\n",
       "      <td>0.000142</td>\n",
       "      <td>0.000153</td>\n",
       "      <td>0.000170</td>\n",
       "      <td>-0.000016</td>\n",
       "      <td>0.000153</td>\n",
       "    </tr>\n",
       "  </tbody>\n",
       "</table>\n",
       "</div>"
      ],
      "text/plain": [
       "          EFA       EEM       EWG       TIP       EWJ\n",
       "EFA  0.000183  0.000190  0.000257 -0.000028  0.000142\n",
       "EEM  0.000190  0.000290  0.000252 -0.000020  0.000153\n",
       "EWG  0.000257  0.000252  0.000416 -0.000049  0.000170\n",
       "TIP -0.000028 -0.000020 -0.000049  0.000032 -0.000016\n",
       "EWJ  0.000142  0.000153  0.000170 -0.000016  0.000153"
      ]
     },
     "execution_count": 17,
     "metadata": {},
     "output_type": "execute_result"
    }
   ],
   "source": [
    "print('The Simple Covariance is:')\n",
    "cov_matrix"
   ]
  },
  {
   "cell_type": "markdown",
   "metadata": {},
   "source": [
    "As we can see, the main diagonal hasn't changed, but the other covariances are different. This means that the algorithm has changed the eigenvalues of the correlation matrix."
   ]
  },
  {
   "cell_type": "markdown",
   "metadata": {},
   "source": [
    "### Spectral Clustering De-noising Method"
   ]
  },
  {
   "cell_type": "markdown",
   "metadata": {},
   "source": [
    "The main idea behind spectral clustering is to remove the noise-related eigenvalues from an empirical correlation matrix, the method in which this is achieved is similar to the Constant Residual Eigenvalue de-noising method, the only difference is that instead of setting the eigenvalues which are below the theoretical value to their average value, they are set to zero in an attempt to remove the effects of those eigenvalues that are consistent with the null hypothesis of uncorrelated random variables.\n",
    "\n",
    "Let us consider $n$ independent random variables with finite variance and $T$ records each. Random matrix\n",
    "theory allows to prove that in the $\\lim\\limits_{n \\to \\infty} T$, with a fixed ratio $Q = T/n \\geq 1$, the\n",
    "eigenvalues of the sample correlation matrix cannot be larger than\n",
    "\n",
    "$$ \\lambda_{max} = \\sigma^2(1 + \\frac{1}{Q} + 2\\sqrt{\\frac{1}{Q}})$$\n",
    "\n",
    "where $\\sigma^2 = 1$ for correlation matrices, once achieved we set any eignevalues above this threshold to $0$.\n",
    "For example, we have a set of 5 eigenvalues sorted in the descending order ( $\\lambda_1$ ... $\\lambda_5$ ),\n",
    "3 of which are below the maximum theoretical value, then we set\n",
    "\n",
    "$$ \\lambda_3^{NEW} = \\lambda_4^{NEW} = \\lambda_5^{NEW} = 0$$\n",
    "\n",
    "We can use this method by setting the denoise_method parameter to 'spectral'."
   ]
  },
  {
   "cell_type": "code",
   "execution_count": 18,
   "metadata": {},
   "outputs": [
    {
     "name": "stdout",
     "output_type": "stream",
     "text": [
      "The Spectral Clustering De-noised Сovariance matrix is:\n"
     ]
    },
    {
     "data": {
      "text/html": [
       "<div>\n",
       "<style scoped>\n",
       "    .dataframe tbody tr th:only-of-type {\n",
       "        vertical-align: middle;\n",
       "    }\n",
       "\n",
       "    .dataframe tbody tr th {\n",
       "        vertical-align: top;\n",
       "    }\n",
       "\n",
       "    .dataframe thead th {\n",
       "        text-align: right;\n",
       "    }\n",
       "</style>\n",
       "<table border=\"1\" class=\"dataframe\">\n",
       "  <thead>\n",
       "    <tr style=\"text-align: right;\">\n",
       "      <th></th>\n",
       "      <th>EFA</th>\n",
       "      <th>EEM</th>\n",
       "      <th>EWG</th>\n",
       "      <th>TIP</th>\n",
       "      <th>EWJ</th>\n",
       "    </tr>\n",
       "  </thead>\n",
       "  <tbody>\n",
       "    <tr>\n",
       "      <th>EFA</th>\n",
       "      <td>0.000183</td>\n",
       "      <td>0.000230</td>\n",
       "      <td>0.000276</td>\n",
       "      <td>-0.000077</td>\n",
       "      <td>0.000168</td>\n",
       "    </tr>\n",
       "    <tr>\n",
       "      <th>EEM</th>\n",
       "      <td>0.000230</td>\n",
       "      <td>0.000290</td>\n",
       "      <td>0.000347</td>\n",
       "      <td>-0.000096</td>\n",
       "      <td>0.000211</td>\n",
       "    </tr>\n",
       "    <tr>\n",
       "      <th>EWG</th>\n",
       "      <td>0.000276</td>\n",
       "      <td>0.000347</td>\n",
       "      <td>0.000416</td>\n",
       "      <td>-0.000115</td>\n",
       "      <td>0.000253</td>\n",
       "    </tr>\n",
       "    <tr>\n",
       "      <th>TIP</th>\n",
       "      <td>-0.000077</td>\n",
       "      <td>-0.000096</td>\n",
       "      <td>-0.000115</td>\n",
       "      <td>0.000032</td>\n",
       "      <td>-0.000070</td>\n",
       "    </tr>\n",
       "    <tr>\n",
       "      <th>EWJ</th>\n",
       "      <td>0.000168</td>\n",
       "      <td>0.000211</td>\n",
       "      <td>0.000253</td>\n",
       "      <td>-0.000070</td>\n",
       "      <td>0.000153</td>\n",
       "    </tr>\n",
       "  </tbody>\n",
       "</table>\n",
       "</div>"
      ],
      "text/plain": [
       "          EFA       EEM       EWG       TIP       EWJ\n",
       "EFA  0.000183  0.000230  0.000276 -0.000077  0.000168\n",
       "EEM  0.000230  0.000290  0.000347 -0.000096  0.000211\n",
       "EWG  0.000276  0.000347  0.000416 -0.000115  0.000253\n",
       "TIP -0.000077 -0.000096 -0.000115  0.000032 -0.000070\n",
       "EWJ  0.000168  0.000211  0.000253 -0.000070  0.000153"
      ]
     },
     "execution_count": 18,
     "metadata": {},
     "output_type": "execute_result"
    }
   ],
   "source": [
    "# Finding the De-noised Сovariance matrix using the Spectral Clustering De-noising Method\n",
    "cov_matrix_spectral = risk_estimators.denoise_covariance(cov_matrix, tn_relation, denoise_method='spectral')\n",
    "\n",
    "# Transforming De-noised Covariance from np.array to pd.DataFrame\n",
    "cov_matrix_spectral = pd.DataFrame(cov_matrix_spectral, index=cov_matrix.index, columns=cov_matrix.columns)\n",
    "\n",
    "# Outputting the result\n",
    "print('The Spectral Clustering De-noised Сovariance matrix is:')\n",
    "cov_matrix_spectral"
   ]
  },
  {
   "cell_type": "markdown",
   "metadata": {},
   "source": [
    "### Targeted Shrinkage De-noising Method"
   ]
  },
  {
   "cell_type": "markdown",
   "metadata": {},
   "source": [
    "PortfolioLab also has the Targeted Shrinkage de-noising method available to users. The main idea behind the Targeted Shrinkage de-noising method is to\n",
    "shrink the eigenvectors/eigenvalues that are noise-related. This is done by shrinking the correlation matrix calculated from noise-related eigenvectors/eigenvalues and then adding the correlation matrix composed from signal-related eigenvectors/eigenvalues.\n",
    "\n",
    "The de-noising function works as follows:\n",
    "\n",
    "- The given covariance matrix is transformed to the correlation matrix.\n",
    "\n",
    "- The eigenvalues and eigenvectors of the correlation matrix are calculated and sorted in the descending order.\n",
    "\n",
    "- Using the Kernel Density Estimate algorithm a kernel of the eigenvalues is estimated.\n",
    "\n",
    "- The Marcenko-Pastur pdf is fitted to the KDE estimate using the variance as the parameter for the optimization.\n",
    "\n",
    "- From the obtained Marcenko-Pastur distribution, the maximum theoretical eigenvalue is calculated using the formula\n",
    "  from the **Instability caused by noise** part of [A Robust Estimator of the Efficient Frontier paper](https://papers.ssrn.com/sol3/abstract_id=3469961).\n",
    "\n",
    "- The correlation matrix composed from eigenvectors and eigenvalues related to noise (eigenvalues below the maximum\n",
    "  theoretical eigenvalue) is shrunk using the $\\alpha$ variable.\n",
    "\n",
    "$$C_n = \\alpha W_n \\Lambda_n W_n' + (1 - \\alpha) diag[W_n \\Lambda_n W_n']$$\n",
    "\n",
    "- The shrinked noise correlation matrix is summed to the information correlation matrix.\n",
    "\n",
    "$$C_i = W_i \\Lambda_i W_i'$$\n",
    "\n",
    "$$C_{denoised} = C_n + C_i$$\n",
    "\n",
    "- The new correlation matrix is then transformed back to the new de-noised covariance matrix.\n",
    "\n",
    "We can use this method by setting the denoise_method parameter to 'target_shrink'."
   ]
  },
  {
   "cell_type": "code",
   "execution_count": 19,
   "metadata": {},
   "outputs": [
    {
     "name": "stdout",
     "output_type": "stream",
     "text": [
      "Shrinkage De-noised Сovariance matrix\n"
     ]
    },
    {
     "data": {
      "text/html": [
       "<div>\n",
       "<style scoped>\n",
       "    .dataframe tbody tr th:only-of-type {\n",
       "        vertical-align: middle;\n",
       "    }\n",
       "\n",
       "    .dataframe tbody tr th {\n",
       "        vertical-align: top;\n",
       "    }\n",
       "\n",
       "    .dataframe thead th {\n",
       "        text-align: right;\n",
       "    }\n",
       "</style>\n",
       "<table border=\"1\" class=\"dataframe\">\n",
       "  <thead>\n",
       "    <tr style=\"text-align: right;\">\n",
       "      <th></th>\n",
       "      <th>EFA</th>\n",
       "      <th>EEM</th>\n",
       "      <th>EWG</th>\n",
       "      <th>TIP</th>\n",
       "      <th>EWJ</th>\n",
       "    </tr>\n",
       "  </thead>\n",
       "  <tbody>\n",
       "    <tr>\n",
       "      <th>EFA</th>\n",
       "      <td>0.000183</td>\n",
       "      <td>0.000193</td>\n",
       "      <td>0.000253</td>\n",
       "      <td>-0.000031</td>\n",
       "      <td>0.000142</td>\n",
       "    </tr>\n",
       "    <tr>\n",
       "      <th>EEM</th>\n",
       "      <td>0.000193</td>\n",
       "      <td>0.000290</td>\n",
       "      <td>0.000265</td>\n",
       "      <td>-0.000029</td>\n",
       "      <td>0.000156</td>\n",
       "    </tr>\n",
       "    <tr>\n",
       "      <th>EWG</th>\n",
       "      <td>0.000253</td>\n",
       "      <td>0.000265</td>\n",
       "      <td>0.000416</td>\n",
       "      <td>-0.000048</td>\n",
       "      <td>0.000185</td>\n",
       "    </tr>\n",
       "    <tr>\n",
       "      <th>TIP</th>\n",
       "      <td>-0.000031</td>\n",
       "      <td>-0.000029</td>\n",
       "      <td>-0.000048</td>\n",
       "      <td>0.000032</td>\n",
       "      <td>-0.000021</td>\n",
       "    </tr>\n",
       "    <tr>\n",
       "      <th>EWJ</th>\n",
       "      <td>0.000142</td>\n",
       "      <td>0.000156</td>\n",
       "      <td>0.000185</td>\n",
       "      <td>-0.000021</td>\n",
       "      <td>0.000153</td>\n",
       "    </tr>\n",
       "  </tbody>\n",
       "</table>\n",
       "</div>"
      ],
      "text/plain": [
       "          EFA       EEM       EWG       TIP       EWJ\n",
       "EFA  0.000183  0.000193  0.000253 -0.000031  0.000142\n",
       "EEM  0.000193  0.000290  0.000265 -0.000029  0.000156\n",
       "EWG  0.000253  0.000265  0.000416 -0.000048  0.000185\n",
       "TIP -0.000031 -0.000029 -0.000048  0.000032 -0.000021\n",
       "EWJ  0.000142  0.000156  0.000185 -0.000021  0.000153"
      ]
     },
     "execution_count": 19,
     "metadata": {},
     "output_type": "execute_result"
    }
   ],
   "source": [
    "# Finding the De-noised Сovariance matrix using the Targeted Shrinkage Method assuming alpha is 0.5\n",
    "cov_matrix_target_denoised = risk_estimators.denoise_covariance(cov_matrix, tn_relation, denoise_method='target_shrink', kde_bwidth=kde_bwidth, alpha=0.5)\n",
    "\n",
    "# Transforming De-noised Covariance from np.array to pd.DataFrame\n",
    "cov_matrix_target_denoised = pd.DataFrame(cov_matrix_target_denoised, index=cov_matrix.index, columns=cov_matrix.columns)\n",
    "\n",
    "# Outputting the result\n",
    "print('Shrinkage De-noised Сovariance matrix')\n",
    "cov_matrix_target_denoised"
   ]
  },
  {
   "cell_type": "markdown",
   "metadata": {},
   "source": [
    "The results of this de-noising method are the same as for the previous method for this particular example, however, they may differ when used on other datasets."
   ]
  },
  {
   "cell_type": "markdown",
   "metadata": {},
   "source": [
    "### Hierarchical Clustering De-noising Method"
   ]
  },
  {
   "cell_type": "markdown",
   "metadata": {},
   "source": [
    "Hierarchical Clustering, unlike K-means Clustering, does not create multiple clusters of identical size, nor does it\n",
    "require a pre-defined number of clusters. Of the two different types of hierarchical clustering - Agglomerative and\n",
    "Divisive - Agglomerative, or bottom-up clustering is used here.\n",
    "\n",
    "Agglomerative Clustering assigns each observation to its own individual cluster before iteratively joining the two\n",
    "most similar clusters. This process repeats until only a singular cluster remains.\n",
    "\n",
    "Given a positive empirical correlation matrix, $C$ generated using $n$ features, the procedure given below\n",
    "returns as an output a rooted tree and a filtered correlation matrix $C^<$ of elements $c^<_{ij}$.\n",
    "\n",
    "First, set $C = C^<$. \n",
    "\n",
    "Then, beginning with the most highly correlated features (clusters) $h$ and $k \\in C$ and the correlation\n",
    "between them, $c_{hk}$, one sets the elements $c^<_{ij} = c^<_{ji} = c_{hk}$.\n",
    "\n",
    "The matrix $C^<$ is then redefined such that:\n",
    "\n",
    "$$\\begin{cases} c^<_{qj} = f(c^<_{hj}, c^<_{kj}) & where \\ j \\notin h \\ and \\ j \\notin k \\\\ c^<_{ij} = c^<_{ij} & otherwise \\end{cases}$$\n",
    "\n",
    "where $f(c^<_{hj}, c^<_{kj})$ is any distance metric. In effect, merging the clusters $h$ and $k$.\n",
    "These steps are then completed for the next two most similar clusters, and are repeated for a total\n",
    "of $n-1$ iterations; until only a single cluster remains.\n",
    "\n",
    "There are a few methods to use with Hierarchical Clustering for calculating the distance metric, here are 3 of them:\n",
    "\n",
    "- **Single** $d(u,v) = min(dist(u[i], v[j]))$ for all points $i$ in cluster $u$ and $j$ in cluster $v$. This is also known as the Nearest Point Algorithm.\n",
    "\n",
    "- **Complete** $d(u,v) = max(dist(u[i], v[j]))$ for all points $i$ in cluster $u$ and $j$ in cluster $v$. This is also known by the Farthest Point Algorithm or Voor Hees Algorithm\n",
    "\n",
    "- **Average** $d(u,v) = \\displaystyle\\sum_{ij} \\frac{d(u[i], v[j])}{|u| * |v|}$ for all points $i$ in cluster $|u|$ and $|j|$ in cluster $u$ and $v$, respectively. This is also called the UPGMA algorithm.\n",
    "\n",
    "We can use this method by setting the Hierarchical Clustering method parameter to one of the available methods."
   ]
  },
  {
   "cell_type": "code",
   "execution_count": 20,
   "metadata": {},
   "outputs": [
    {
     "data": {
      "image/png": "[encoded data removed]",
      "text/plain": [
       "<Figure size 1152x576 with 1 Axes>"
      ]
     },
     "metadata": {},
     "output_type": "display_data"
    },
    {
     "name": "stdout",
     "output_type": "stream",
     "text": [
      "The Hierarchical Clustering De-noised Correlation matrix is:\n"
     ]
    },
    {
     "data": {
      "text/plain": [
       "array([[0.        , 2.        , 0.35929329, 2.        ],\n",
       "       [1.        , 5.        , 0.66132005, 3.        ],\n",
       "       [4.        , 6.        , 0.69606904, 4.        ],\n",
       "       [3.        , 7.        , 1.57922166, 5.        ]])"
      ]
     },
     "execution_count": 20,
     "metadata": {},
     "output_type": "execute_result"
    }
   ],
   "source": [
    "# Getting the Empirical Correlation matrix from the Covariance matrix\n",
    "empirical_corr = risk_estimators.cov_to_corr(empirical_cov ** 2) # Matrix must be positive definite.\n",
    "\n",
    "# Finding the De-noised Сorrelation matrix using the Hierarchical Clustering De-noising Average Method\n",
    "corr_matrix_hierarchical = risk_estimators.filter_corr_hierarchical(empirical_corr.to_numpy(), \n",
    "                                                                    method='average',\n",
    "                                                                    draw_plot=True)\n",
    "\n",
    "# Outputting the result\n",
    "print('The Hierarchical Clustering De-noised Correlation matrix is:')\n",
    "corr_matrix_hierarchical"
   ]
  },
  {
   "cell_type": "markdown",
   "metadata": {},
   "source": [
    "### De-toning"
   ]
  },
  {
   "cell_type": "markdown",
   "metadata": {},
   "source": [
    "De-noised correlation matrix from the previous methods can also be de-toned by excluding a number of first\n",
    "eigenvectors representing the market component.\n",
    "\n",
    "According to Lopez de Prado:\n",
    "\n",
    "\"Financial correlation matrices usually incorporate a market component. The market component is characterized by the\n",
    "first eigenvector, with loadings $W_{n,1} \\approx N^{-\\frac{1}{2}}, n = 1, ..., N.$\n",
    "Accordingly, a market component affects every item of the covariance matrix. In the context of clustering\n",
    "applications, it is useful to remove the market component, if it exists (a hypothesis that can be\n",
    "tested statistically).\"\n",
    "\n",
    "\"By removing the market component, we allow a greater portion of the correlation to be explained\n",
    "by components that affect specific subsets of the securities. It is similar to removing a loud tone\n",
    "that prevents us from hearing other sounds\"\n",
    "\n",
    "\"The detoned correlation matrix is singular, as a result of eliminating (at least) one eigenvector.\n",
    "This is not a problem for clustering applications, as most approaches do not require the invertibility\n",
    "of the correlation matrix. Still, **a detoned correlation matrix** $C_{detoned}$ **cannot be used directly for**\n",
    "**mean-variance portfolio optimization**.\"\n",
    "\n",
    "The de-toning function works as follows:\n",
    "\n",
    "- De-toning is applied on the de-noised correlation matrix.\n",
    "\n",
    "- The correlation matrix representing the market component is calculated from market component eigenvectors and eigenvalues\n",
    "  and then subtracted from the de-noised correlation matrix. This way the de-toned correlation matrix is obtained.\n",
    "  \n",
    "$$\\hat{C} = C_{denoised} - W_m \\Lambda_m W_m'$$\n",
    "\n",
    "- De-toned correlation matrix $\\hat{C}$ is then rescaled so that the main diagonal consists of 1s\n",
    "\n",
    "$$C_{detoned} = \\hat{C} [(diag[\\hat{C}])^\\frac{1}{2}(diag[\\hat{C}])^{\\frac{1}{2}'}]^{-1}$$\n",
    "\n",
    "We can use de-toning setting the detone parameter to True."
   ]
  },
  {
   "cell_type": "code",
   "execution_count": 21,
   "metadata": {},
   "outputs": [
    {
     "name": "stdout",
     "output_type": "stream",
     "text": [
      "The De-toned Сovariance matrix is:\n"
     ]
    },
    {
     "data": {
      "text/html": [
       "<div>\n",
       "<style scoped>\n",
       "    .dataframe tbody tr th:only-of-type {\n",
       "        vertical-align: middle;\n",
       "    }\n",
       "\n",
       "    .dataframe tbody tr th {\n",
       "        vertical-align: top;\n",
       "    }\n",
       "\n",
       "    .dataframe thead th {\n",
       "        text-align: right;\n",
       "    }\n",
       "</style>\n",
       "<table border=\"1\" class=\"dataframe\">\n",
       "  <thead>\n",
       "    <tr style=\"text-align: right;\">\n",
       "      <th></th>\n",
       "      <th>EFA</th>\n",
       "      <th>EEM</th>\n",
       "      <th>EWG</th>\n",
       "      <th>TIP</th>\n",
       "      <th>EWJ</th>\n",
       "    </tr>\n",
       "  </thead>\n",
       "  <tbody>\n",
       "    <tr>\n",
       "      <th>EFA</th>\n",
       "      <td>0.000007</td>\n",
       "      <td>-0.000042</td>\n",
       "      <td>-0.000060</td>\n",
       "      <td>-0.000003</td>\n",
       "      <td>-0.000030</td>\n",
       "    </tr>\n",
       "    <tr>\n",
       "      <th>EEM</th>\n",
       "      <td>-0.000042</td>\n",
       "      <td>0.000070</td>\n",
       "      <td>-0.000050</td>\n",
       "      <td>-0.000007</td>\n",
       "      <td>-0.000023</td>\n",
       "    </tr>\n",
       "    <tr>\n",
       "      <th>EWG</th>\n",
       "      <td>-0.000060</td>\n",
       "      <td>-0.000050</td>\n",
       "      <td>0.000064</td>\n",
       "      <td>-0.000006</td>\n",
       "      <td>-0.000035</td>\n",
       "    </tr>\n",
       "    <tr>\n",
       "      <th>TIP</th>\n",
       "      <td>-0.000003</td>\n",
       "      <td>-0.000007</td>\n",
       "      <td>-0.000006</td>\n",
       "      <td>0.000026</td>\n",
       "      <td>-0.000005</td>\n",
       "    </tr>\n",
       "    <tr>\n",
       "      <th>EWJ</th>\n",
       "      <td>-0.000030</td>\n",
       "      <td>-0.000023</td>\n",
       "      <td>-0.000035</td>\n",
       "      <td>-0.000005</td>\n",
       "      <td>0.000039</td>\n",
       "    </tr>\n",
       "  </tbody>\n",
       "</table>\n",
       "</div>"
      ],
      "text/plain": [
       "          EFA       EEM       EWG       TIP       EWJ\n",
       "EFA  0.000007 -0.000042 -0.000060 -0.000003 -0.000030\n",
       "EEM -0.000042  0.000070 -0.000050 -0.000007 -0.000023\n",
       "EWG -0.000060 -0.000050  0.000064 -0.000006 -0.000035\n",
       "TIP -0.000003 -0.000007 -0.000006  0.000026 -0.000005\n",
       "EWJ -0.000030 -0.000023 -0.000035 -0.000005  0.000039"
      ]
     },
     "execution_count": 21,
     "metadata": {},
     "output_type": "execute_result"
    }
   ],
   "source": [
    "# Finding the De-toned Сovariance matrix assuming the market component is 1\n",
    "cov_matrix_detoned = risk_estimators.denoise_covariance(cov_matrix, \n",
    "                                                        tn_relation,\n",
    "                                                        denoise_method='const_resid_eigen',\n",
    "                                                        detone=True,\n",
    "                                                        market_component=1,\n",
    "                                                        kde_bwidth=kde_bwidth)\n",
    "\n",
    "# Transforming De-noised Covariance from np.array to pd.DataFrame\n",
    "cov_matrix_detoned = pd.DataFrame(cov_matrix_detoned, index=cov_matrix.index, columns=cov_matrix.columns)\n",
    "\n",
    "# Outputting the result\n",
    "print('The De-toned Сovariance matrix is:')\n",
    "cov_matrix_detoned"
   ]
  },
  {
   "cell_type": "code",
   "execution_count": 22,
   "metadata": {},
   "outputs": [
    {
     "data": {
      "image/png": "[encoded data removed]",
      "text/plain": [
       "<Figure size 432x360 with 2 Axes>"
      ]
     },
     "metadata": {},
     "output_type": "display_data"
    }
   ],
   "source": [
    "plt.figure(figsize=(6, 5))\n",
    "sns.heatmap(cov_matrix_detoned)\n",
    "plt.title('Detoned Covariance', size=15)\n",
    "plt.tight_layout()\n",
    "plt.savefig('cov_matrix_detoned.png', dpi=150)\n",
    "plt.show()"
   ]
  },
  {
   "cell_type": "markdown",
   "metadata": {},
   "source": [
    "The results of de-toning are significantly different from the de-noising results. This indicates that the deleted market component had an effect on the covariance between elements."
   ]
  },
  {
   "cell_type": "markdown",
   "metadata": {},
   "source": [
    "## Transforming covariance matrix to correlation matrix and back"
   ]
  },
  {
   "cell_type": "markdown",
   "metadata": {},
   "source": [
    "These are simple functions to:\n",
    "- transform covariance matrix into correlation matrix \n",
    "- transform correlation matrix into covariance matrix "
   ]
  },
  {
   "cell_type": "code",
   "execution_count": 23,
   "metadata": {},
   "outputs": [
    {
     "name": "stdout",
     "output_type": "stream",
     "text": [
      "The correlation matrix is:\n"
     ]
    },
    {
     "data": {
      "text/html": [
       "<div>\n",
       "<style scoped>\n",
       "    .dataframe tbody tr th:only-of-type {\n",
       "        vertical-align: middle;\n",
       "    }\n",
       "\n",
       "    .dataframe tbody tr th {\n",
       "        vertical-align: top;\n",
       "    }\n",
       "\n",
       "    .dataframe thead th {\n",
       "        text-align: right;\n",
       "    }\n",
       "</style>\n",
       "<table border=\"1\" class=\"dataframe\">\n",
       "  <thead>\n",
       "    <tr style=\"text-align: right;\">\n",
       "      <th></th>\n",
       "      <th>EFA</th>\n",
       "      <th>EEM</th>\n",
       "      <th>EWG</th>\n",
       "      <th>TIP</th>\n",
       "      <th>EWJ</th>\n",
       "    </tr>\n",
       "  </thead>\n",
       "  <tbody>\n",
       "    <tr>\n",
       "      <th>EFA</th>\n",
       "      <td>1.000000</td>\n",
       "      <td>0.823113</td>\n",
       "      <td>0.932142</td>\n",
       "      <td>-0.367957</td>\n",
       "      <td>0.845424</td>\n",
       "    </tr>\n",
       "    <tr>\n",
       "      <th>EEM</th>\n",
       "      <td>0.823113</td>\n",
       "      <td>1.000000</td>\n",
       "      <td>0.725180</td>\n",
       "      <td>-0.211168</td>\n",
       "      <td>0.723750</td>\n",
       "    </tr>\n",
       "    <tr>\n",
       "      <th>EWG</th>\n",
       "      <td>0.932142</td>\n",
       "      <td>0.725180</td>\n",
       "      <td>1.000000</td>\n",
       "      <td>-0.424447</td>\n",
       "      <td>0.671345</td>\n",
       "    </tr>\n",
       "    <tr>\n",
       "      <th>TIP</th>\n",
       "      <td>-0.367957</td>\n",
       "      <td>-0.211168</td>\n",
       "      <td>-0.424447</td>\n",
       "      <td>1.000000</td>\n",
       "      <td>-0.224505</td>\n",
       "    </tr>\n",
       "    <tr>\n",
       "      <th>EWJ</th>\n",
       "      <td>0.845424</td>\n",
       "      <td>0.723750</td>\n",
       "      <td>0.671345</td>\n",
       "      <td>-0.224505</td>\n",
       "      <td>1.000000</td>\n",
       "    </tr>\n",
       "  </tbody>\n",
       "</table>\n",
       "</div>"
      ],
      "text/plain": [
       "          EFA       EEM       EWG       TIP       EWJ\n",
       "EFA  1.000000  0.823113  0.932142 -0.367957  0.845424\n",
       "EEM  0.823113  1.000000  0.725180 -0.211168  0.723750\n",
       "EWG  0.932142  0.725180  1.000000 -0.424447  0.671345\n",
       "TIP -0.367957 -0.211168 -0.424447  1.000000 -0.224505\n",
       "EWJ  0.845424  0.723750  0.671345 -0.224505  1.000000"
      ]
     },
     "execution_count": 23,
     "metadata": {},
     "output_type": "execute_result"
    }
   ],
   "source": [
    "# Transforming our covariance matrix to a correlation matrix\n",
    "corr_matrix = risk_estimators.cov_to_corr(cov_matrix)\n",
    "\n",
    "# Outputting the result\n",
    "print('The correlation matrix is:')\n",
    "corr_matrix"
   ]
  },
  {
   "cell_type": "code",
   "execution_count": 24,
   "metadata": {},
   "outputs": [
    {
     "name": "stdout",
     "output_type": "stream",
     "text": [
      "The covariance matrix calculated back is:\n"
     ]
    },
    {
     "data": {
      "text/html": [
       "<div>\n",
       "<style scoped>\n",
       "    .dataframe tbody tr th:only-of-type {\n",
       "        vertical-align: middle;\n",
       "    }\n",
       "\n",
       "    .dataframe tbody tr th {\n",
       "        vertical-align: top;\n",
       "    }\n",
       "\n",
       "    .dataframe thead th {\n",
       "        text-align: right;\n",
       "    }\n",
       "</style>\n",
       "<table border=\"1\" class=\"dataframe\">\n",
       "  <thead>\n",
       "    <tr style=\"text-align: right;\">\n",
       "      <th></th>\n",
       "      <th>EFA</th>\n",
       "      <th>EEM</th>\n",
       "      <th>EWG</th>\n",
       "      <th>TIP</th>\n",
       "      <th>EWJ</th>\n",
       "    </tr>\n",
       "  </thead>\n",
       "  <tbody>\n",
       "    <tr>\n",
       "      <th>EFA</th>\n",
       "      <td>0.000183</td>\n",
       "      <td>0.000190</td>\n",
       "      <td>0.000257</td>\n",
       "      <td>-0.000028</td>\n",
       "      <td>0.000142</td>\n",
       "    </tr>\n",
       "    <tr>\n",
       "      <th>EEM</th>\n",
       "      <td>0.000190</td>\n",
       "      <td>0.000290</td>\n",
       "      <td>0.000252</td>\n",
       "      <td>-0.000020</td>\n",
       "      <td>0.000153</td>\n",
       "    </tr>\n",
       "    <tr>\n",
       "      <th>EWG</th>\n",
       "      <td>0.000257</td>\n",
       "      <td>0.000252</td>\n",
       "      <td>0.000416</td>\n",
       "      <td>-0.000049</td>\n",
       "      <td>0.000170</td>\n",
       "    </tr>\n",
       "    <tr>\n",
       "      <th>TIP</th>\n",
       "      <td>-0.000028</td>\n",
       "      <td>-0.000020</td>\n",
       "      <td>-0.000049</td>\n",
       "      <td>0.000032</td>\n",
       "      <td>-0.000016</td>\n",
       "    </tr>\n",
       "    <tr>\n",
       "      <th>EWJ</th>\n",
       "      <td>0.000142</td>\n",
       "      <td>0.000153</td>\n",
       "      <td>0.000170</td>\n",
       "      <td>-0.000016</td>\n",
       "      <td>0.000153</td>\n",
       "    </tr>\n",
       "  </tbody>\n",
       "</table>\n",
       "</div>"
      ],
      "text/plain": [
       "          EFA       EEM       EWG       TIP       EWJ\n",
       "EFA  0.000183  0.000190  0.000257 -0.000028  0.000142\n",
       "EEM  0.000190  0.000290  0.000252 -0.000020  0.000153\n",
       "EWG  0.000257  0.000252  0.000416 -0.000049  0.000170\n",
       "TIP -0.000028 -0.000020 -0.000049  0.000032 -0.000016\n",
       "EWJ  0.000142  0.000153  0.000170 -0.000016  0.000153"
      ]
     },
     "execution_count": 24,
     "metadata": {},
     "output_type": "execute_result"
    }
   ],
   "source": [
    "# The standard deviation to use when calculating the covaraince matrix back\n",
    "std = np.diag(cov_matrix) ** (1/2)\n",
    "\n",
    "# And back to the covariance matrix\n",
    "cov_matrix_again = risk_estimators.corr_to_cov(corr_matrix, std)\n",
    "\n",
    "# Outputting the result\n",
    "print('The covariance matrix calculated back is:')\n",
    "cov_matrix_again"
   ]
  },
  {
   "cell_type": "code",
   "execution_count": 25,
   "metadata": {},
   "outputs": [
    {
     "name": "stdout",
     "output_type": "stream",
     "text": [
      "Exactly the same as the original one:\n"
     ]
    },
    {
     "data": {
      "text/html": [
       "<div>\n",
       "<style scoped>\n",
       "    .dataframe tbody tr th:only-of-type {\n",
       "        vertical-align: middle;\n",
       "    }\n",
       "\n",
       "    .dataframe tbody tr th {\n",
       "        vertical-align: top;\n",
       "    }\n",
       "\n",
       "    .dataframe thead th {\n",
       "        text-align: right;\n",
       "    }\n",
       "</style>\n",
       "<table border=\"1\" class=\"dataframe\">\n",
       "  <thead>\n",
       "    <tr style=\"text-align: right;\">\n",
       "      <th></th>\n",
       "      <th>EFA</th>\n",
       "      <th>EEM</th>\n",
       "      <th>EWG</th>\n",
       "      <th>TIP</th>\n",
       "      <th>EWJ</th>\n",
       "    </tr>\n",
       "  </thead>\n",
       "  <tbody>\n",
       "    <tr>\n",
       "      <th>EFA</th>\n",
       "      <td>0.000183</td>\n",
       "      <td>0.000190</td>\n",
       "      <td>0.000257</td>\n",
       "      <td>-0.000028</td>\n",
       "      <td>0.000142</td>\n",
       "    </tr>\n",
       "    <tr>\n",
       "      <th>EEM</th>\n",
       "      <td>0.000190</td>\n",
       "      <td>0.000290</td>\n",
       "      <td>0.000252</td>\n",
       "      <td>-0.000020</td>\n",
       "      <td>0.000153</td>\n",
       "    </tr>\n",
       "    <tr>\n",
       "      <th>EWG</th>\n",
       "      <td>0.000257</td>\n",
       "      <td>0.000252</td>\n",
       "      <td>0.000416</td>\n",
       "      <td>-0.000049</td>\n",
       "      <td>0.000170</td>\n",
       "    </tr>\n",
       "    <tr>\n",
       "      <th>TIP</th>\n",
       "      <td>-0.000028</td>\n",
       "      <td>-0.000020</td>\n",
       "      <td>-0.000049</td>\n",
       "      <td>0.000032</td>\n",
       "      <td>-0.000016</td>\n",
       "    </tr>\n",
       "    <tr>\n",
       "      <th>EWJ</th>\n",
       "      <td>0.000142</td>\n",
       "      <td>0.000153</td>\n",
       "      <td>0.000170</td>\n",
       "      <td>-0.000016</td>\n",
       "      <td>0.000153</td>\n",
       "    </tr>\n",
       "  </tbody>\n",
       "</table>\n",
       "</div>"
      ],
      "text/plain": [
       "          EFA       EEM       EWG       TIP       EWJ\n",
       "EFA  0.000183  0.000190  0.000257 -0.000028  0.000142\n",
       "EEM  0.000190  0.000290  0.000252 -0.000020  0.000153\n",
       "EWG  0.000257  0.000252  0.000416 -0.000049  0.000170\n",
       "TIP -0.000028 -0.000020 -0.000049  0.000032 -0.000016\n",
       "EWJ  0.000142  0.000153  0.000170 -0.000016  0.000153"
      ]
     },
     "execution_count": 25,
     "metadata": {},
     "output_type": "execute_result"
    }
   ],
   "source": [
    "print('Exactly the same as the original one:')\n",
    "cov_matrix"
   ]
  },
  {
   "cell_type": "markdown",
   "metadata": {},
   "source": [
    "## Conclusion"
   ]
  },
  {
   "cell_type": "markdown",
   "metadata": {},
   "source": [
    "This notebook describes the functions implemented in the RiskEstimators class, related to different ways of calculating and adjusting the Covariance matrix. Also, it shows how the corresponding functions from the PortfolioLab library can be used and how the outputs can be analyzed.\n",
    "\n",
    "Key takeaways from the notebook:\n",
    "- A robust covariance estimator (such as the Minimum Covariance Determinant) is needed in order to discard/downweight the outliers in the data. These outliers seriously affect the Empirical covariance estimator and the Covariance estimators with shrinkage.\n",
    "- The Maximum Likelihood Estimator (Empirical Covariance) of a sample is an unbiased estimator of the corresponding population’s covariance matrix.\n",
    "- Shrinkage consists in reducing the ratio between the smallest and the largest eigenvalues of the empirical covariance matrix. It is used to avoid the problem with inversion of the covariance matrix.\n",
    "- Ledoit-Wolf and Oracle Approximating are methods to calculate the optimal shrinkage coefficient $\\alpha$ used in the Basic Shrinkage.\n",
    "- The semi-covariance matrix is the way to measure the volatility of the negative returns or returns below a certain threshold. \n",
    "- Exponential Covariance is used to give greater weight to the most relevant observations in computing the covariance.\n",
    "- The Constant Residual Eigenvalue De-noising Method calculates the eigenvalues of the correlation matrix and adjusts the ones that are lower than the theoretically estimated ones, as they are caused by noise.\n",
    "- The Spectral Clustering De-noising Method works just like the Constant Residual Eigenvalue De-noising Method, But instead of lowering Eigenvalues below the theoretical maximum Eigenvalue, They are set to 0.\n",
    "- The Targeted Shrinkage De-noising Method shrinks the eigenvectors/eigenvalues that are noise-related.\n",
    "- The Hierarchical Clustering De-noising Method is used to filter empirical correlation matrices using Agglomerative Clustering.\n",
    "- The De-toning algorithm excludes a number of first eigenvectors representing the market component. This allows a greater portion of the correlation to be explained by components that affect specific subsets of the securities. Note, that a de-toned correlation matrix cannot be used directly for mean-variance portfolio optimization."
   ]
  }
 ],
 "metadata": {
  "interpreter": {
   "hash": "cd75a740a3cad44b117eeb6e0cd8cfcf825cfb84e24f73a73fb6c130a93fc9af"
  },
  "kernelspec": {
   "display_name": "PortfolioLab",
   "language": "python",
   "name": "python3"
  },
  "language_info": {
   "codemirror_mode": {
    "name": "ipython",
    "version": 3
   },
   "file_extension": ".py",
   "mimetype": "text/x-python",
   "name": "python",
   "nbconvert_exporter": "python",
   "pygments_lexer": "ipython3",
   "version": "3.8.13"
  }
 },
 "nbformat": 4,
 "nbformat_minor": 4
}
