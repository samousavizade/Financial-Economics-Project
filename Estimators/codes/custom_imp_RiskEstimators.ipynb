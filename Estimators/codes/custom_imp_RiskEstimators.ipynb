{
 "cells": [
  {
   "cell_type": "markdown",
   "metadata": {},
   "source": [
    "## RiskEstimators class functions"
   ]
  },
  {
   "cell_type": "markdown",
   "metadata": {},
   "source": [
    "This description is partially based on the __scikit-learn User Guide on Covariance estimation__ [available here](https://scikit-learn.org/stable/modules/covariance.html#robust-covariance)."
   ]
  },
  {
   "cell_type": "markdown",
   "metadata": {},
   "source": [
    "## Introduction"
   ]
  },
  {
   "cell_type": "markdown",
   "metadata": {},
   "source": [
    "Risk Estimators class includes the implementations of functions for different ways to calculate and adjust Covariance matrices.\n",
    "\n",
    "The following algorithms are now implemented:\n",
    "- Minimum Covariance Determinant\n",
    "- Maximum likelihood covariance estimator (Empirical covariance)\n",
    "- Covariance estimator with shrinkage\n",
    "  - Basic shrinkage\n",
    "  - Ledoit-Wolf shrinkage\n",
    "  - Oracle Approximating Shrinkage\n",
    "- Semi-Covariance matrix\n",
    "- Exponentially-weighted Covariance matrix\n",
    "- De-noising and De-toning Covariance/Correlation Matrix\n",
    "  - Constant Residual Eigenvalue De-noising Method\n",
    "  - Spectral Clustering De-noising Method\n",
    "  - Targeted Shrinkage De-noising Method\n",
    "  - Hierarchical Clustering De-noising Method\n",
    "  - De-toning\n",
    "- Transforming covariance matrix to correlation matrix and back\n",
    "\n",
    "This Notebook will describe the above algorithms as well as provide use cases and analysis of results."
   ]
  },
  {
   "cell_type": "markdown",
   "metadata": {},
   "source": [
    "## Minimum Covariance Determinant"
   ]
  },
  {
   "cell_type": "markdown",
   "metadata": {},
   "source": [
    "According to the __scikit-learn User Guide on Covariance estimation__:\n",
    "\n",
    "_\"The outliers are appearing in real data sets and seriously affect the Empirical covariance estimator and the Covariance estimators with shrinkage. For this reason, a robust covariance estimator is needed in order to discard/downweight the outliers in the data\"._"
   ]
  },
  {
   "cell_type": "markdown",
   "metadata": {},
   "source": [
    "The robust estimator presented in the package is the Minimum Covariance Determinant estimator, introduced by P.J. Rousseeuw.\n",
    "\n",
    "_\"The basic idea of the algorithm is to find a set of observations that are not outliers and compute their empirical covariance matrix, which is then rescaled to compensate for the performed selection of observations\"._\n",
    "\n",
    "Our function is a wrap around the sklearn's MinCovDet class, which uses FastMCD algorithm, developed by Rousseeuw and Van Driessen.\n",
    "\n",
    "A detailed description of the algorithm is available in the paper by _Mia Hubert_ and _Michiel Debruyne_ __Minimum covariance determinant__ [available here](https://wis.kuleuven.be/stat/robust/papers/2010/wire-mcd.pdf)"
   ]
  },
  {
   "cell_type": "markdown",
   "metadata": {},
   "source": [
    "### Examples of use"
   ]
  },
  {
   "cell_type": "markdown",
   "metadata": {},
   "source": [
    "We can calculate the Minimum Covariance Determinant estimator of covariance for a data set of stock prices and compare it to the simple covariance."
   ]
  },
  {
   "cell_type": "code",
   "execution_count": 17,
   "metadata": {},
   "outputs": [],
   "source": [
    "# import portfoliolab as pl\n",
    "import pandas as pd\n",
    "import numpy as np\n",
    "import seaborn as sns\n",
    "import matplotlib.pyplot as plt"
   ]
  },
  {
   "cell_type": "code",
   "execution_count": 18,
   "metadata": {},
   "outputs": [
    {
     "name": "stdout",
     "output_type": "stream",
     "text": [
      "[*********************100%***********************]  5 of 5 completed\n"
     ]
    },
    {
     "data": {
      "text/html": [
       "<div>\n",
       "<style scoped>\n",
       "    .dataframe tbody tr th:only-of-type {\n",
       "        vertical-align: middle;\n",
       "    }\n",
       "\n",
       "    .dataframe tbody tr th {\n",
       "        vertical-align: top;\n",
       "    }\n",
       "\n",
       "    .dataframe thead th {\n",
       "        text-align: right;\n",
       "    }\n",
       "</style>\n",
       "<table border=\"1\" class=\"dataframe\">\n",
       "  <thead>\n",
       "    <tr style=\"text-align: right;\">\n",
       "      <th></th>\n",
       "      <th>EFA</th>\n",
       "      <th>EEM</th>\n",
       "      <th>TIP</th>\n",
       "      <th>EWG</th>\n",
       "      <th>EWJ</th>\n",
       "    </tr>\n",
       "    <tr>\n",
       "      <th>Date</th>\n",
       "      <th></th>\n",
       "      <th></th>\n",
       "      <th></th>\n",
       "      <th></th>\n",
       "      <th></th>\n",
       "    </tr>\n",
       "  </thead>\n",
       "  <tbody>\n",
       "    <tr>\n",
       "      <th>2022-01-03</th>\n",
       "      <td>79.190002</td>\n",
       "      <td>49.200001</td>\n",
       "      <td>126.965256</td>\n",
       "      <td>33.160000</td>\n",
       "      <td>67.029999</td>\n",
       "    </tr>\n",
       "    <tr>\n",
       "      <th>2022-01-04</th>\n",
       "      <td>79.639999</td>\n",
       "      <td>49.029999</td>\n",
       "      <td>126.480957</td>\n",
       "      <td>33.259998</td>\n",
       "      <td>67.910004</td>\n",
       "    </tr>\n",
       "    <tr>\n",
       "      <th>2022-01-05</th>\n",
       "      <td>78.940002</td>\n",
       "      <td>48.230000</td>\n",
       "      <td>125.453049</td>\n",
       "      <td>33.150002</td>\n",
       "      <td>67.599998</td>\n",
       "    </tr>\n",
       "    <tr>\n",
       "      <th>2022-01-06</th>\n",
       "      <td>78.540001</td>\n",
       "      <td>48.450001</td>\n",
       "      <td>124.909454</td>\n",
       "      <td>33.029999</td>\n",
       "      <td>67.099998</td>\n",
       "    </tr>\n",
       "    <tr>\n",
       "      <th>2022-01-07</th>\n",
       "      <td>78.769997</td>\n",
       "      <td>48.889999</td>\n",
       "      <td>124.761200</td>\n",
       "      <td>33.110001</td>\n",
       "      <td>66.669998</td>\n",
       "    </tr>\n",
       "  </tbody>\n",
       "</table>\n",
       "</div>"
      ],
      "text/plain": [
       "                  EFA        EEM         TIP        EWG        EWJ\n",
       "Date                                                              \n",
       "2022-01-03  79.190002  49.200001  126.965256  33.160000  67.029999\n",
       "2022-01-04  79.639999  49.029999  126.480957  33.259998  67.910004\n",
       "2022-01-05  78.940002  48.230000  125.453049  33.150002  67.599998\n",
       "2022-01-06  78.540001  48.450001  124.909454  33.029999  67.099998\n",
       "2022-01-07  78.769997  48.889999  124.761200  33.110001  66.669998"
      ]
     },
     "execution_count": 18,
     "metadata": {},
     "output_type": "execute_result"
    }
   ],
   "source": [
    "import yfinance as yf\n",
    "\n",
    "tickers = \"EEM EWG TIP EWJ EFA\"\n",
    "\n",
    "data = yf.download(  # or pdr.get_data_yahoo(...\n",
    "        # tickers list or string as well\n",
    "        tickers = tickers,\n",
    "\n",
    "        # use \"period\" instead of start/end\n",
    "        # valid periods: 1d,5d,1mo,3mo,6mo,1y,2y,5y,10y,ytd,max\n",
    "        # (optional, default is '1mo')\n",
    "        period = \"ytd\",\n",
    "\n",
    "        # fetch data by interval (including intraday if period < 60 days)\n",
    "        # valid intervals: 1m,2m,5m,15m,30m,60m,90m,1h,1d,5d,1wk,1mo,3mo\n",
    "        # (optional, default is '1d')\n",
    "        interval = \"1d\",\n",
    "\n",
    "        # group by ticker (to access via data['SPY'])\n",
    "        # (optional, default is 'column')\n",
    "        group_by = 'ticker',\n",
    "\n",
    "        # adjust all OHLC automatically\n",
    "        # (optional, default is False)\n",
    "        auto_adjust = True,\n",
    "\n",
    "        # download pre/post regular market hours data\n",
    "        # (optional, default is False)\n",
    "        prepost = True,\n",
    "\n",
    "        # use threads for mass downloading? (True/False/Integer)\n",
    "        # (optional, default is True)\n",
    "        threads = True,\n",
    "\n",
    "        # proxy URL scheme use use when downloading?\n",
    "        # (optional, default is None)\n",
    "        proxy = None\n",
    "    )\n",
    "\n",
    "stock_prices = data.apply(lambda x: x.loc[:, 'Close'], axis='columns')\n",
    "stock_prices.dropna(axis='columns')\n",
    "stock_prices.head()"
   ]
  },
  {
   "cell_type": "code",
   "execution_count": 19,
   "metadata": {},
   "outputs": [
    {
     "name": "stdout",
     "output_type": "stream",
     "text": [
      "The Minimum Covariance Determinant estimator is:\n"
     ]
    },
    {
     "name": "stderr",
     "output_type": "stream",
     "text": [
      "/home/ahura/Financial Economics Project 1/Estimators/codes/risk_estimators.py:137: RuntimeWarning: data is not in a dataframe\n",
      "  warnings.warn(\"data is not in a dataframe\", RuntimeWarning)\n"
     ]
    },
    {
     "data": {
      "text/html": [
       "<div>\n",
       "<style scoped>\n",
       "    .dataframe tbody tr th:only-of-type {\n",
       "        vertical-align: middle;\n",
       "    }\n",
       "\n",
       "    .dataframe tbody tr th {\n",
       "        vertical-align: top;\n",
       "    }\n",
       "\n",
       "    .dataframe thead th {\n",
       "        text-align: right;\n",
       "    }\n",
       "</style>\n",
       "<table border=\"1\" class=\"dataframe\">\n",
       "  <thead>\n",
       "    <tr style=\"text-align: right;\">\n",
       "      <th></th>\n",
       "      <th>EFA</th>\n",
       "      <th>EEM</th>\n",
       "      <th>TIP</th>\n",
       "      <th>EWG</th>\n",
       "      <th>EWJ</th>\n",
       "    </tr>\n",
       "  </thead>\n",
       "  <tbody>\n",
       "    <tr>\n",
       "      <th>EFA</th>\n",
       "      <td>0.000122</td>\n",
       "      <td>0.000129</td>\n",
       "      <td>-0.000010</td>\n",
       "      <td>0.000144</td>\n",
       "      <td>0.000112</td>\n",
       "    </tr>\n",
       "    <tr>\n",
       "      <th>EEM</th>\n",
       "      <td>0.000129</td>\n",
       "      <td>0.000180</td>\n",
       "      <td>-0.000007</td>\n",
       "      <td>0.000161</td>\n",
       "      <td>0.000120</td>\n",
       "    </tr>\n",
       "    <tr>\n",
       "      <th>TIP</th>\n",
       "      <td>-0.000010</td>\n",
       "      <td>-0.000007</td>\n",
       "      <td>0.000018</td>\n",
       "      <td>-0.000013</td>\n",
       "      <td>-0.000006</td>\n",
       "    </tr>\n",
       "    <tr>\n",
       "      <th>EWG</th>\n",
       "      <td>0.000144</td>\n",
       "      <td>0.000161</td>\n",
       "      <td>-0.000013</td>\n",
       "      <td>0.000188</td>\n",
       "      <td>0.000123</td>\n",
       "    </tr>\n",
       "    <tr>\n",
       "      <th>EWJ</th>\n",
       "      <td>0.000112</td>\n",
       "      <td>0.000120</td>\n",
       "      <td>-0.000006</td>\n",
       "      <td>0.000123</td>\n",
       "      <td>0.000137</td>\n",
       "    </tr>\n",
       "  </tbody>\n",
       "</table>\n",
       "</div>"
      ],
      "text/plain": [
       "          EFA       EEM       TIP       EWG       EWJ\n",
       "EFA  0.000122  0.000129 -0.000010  0.000144  0.000112\n",
       "EEM  0.000129  0.000180 -0.000007  0.000161  0.000120\n",
       "TIP -0.000010 -0.000007  0.000018 -0.000013 -0.000006\n",
       "EWG  0.000144  0.000161 -0.000013  0.000188  0.000123\n",
       "EWJ  0.000112  0.000120 -0.000006  0.000123  0.000137"
      ]
     },
     "execution_count": 19,
     "metadata": {},
     "output_type": "execute_result"
    }
   ],
   "source": [
    "from risk_estimators import RiskEstimators\n",
    "from returns_estimators import ReturnsEstimators\n",
    "\n",
    "# A class that has the Minimum Covariance Determinant estimator\n",
    "risk_estimators = RiskEstimators()\n",
    "\n",
    "# Finding the Minimum Covariance Determinant estimator on price data and with set random seed to 0\n",
    "min_cov_det = risk_estimators.minimum_covariance_determinant(stock_prices, price_data=True, random_state=0)\n",
    "\n",
    "# For the simple covariance, we need to transform the stock prices to returns\n",
    "\n",
    "# A class with function to calculate returns from prices\n",
    "returns_estimation = ReturnsEstimators()\n",
    "\n",
    "# Calcualting the data set of returns\n",
    "stock_returns = returns_estimation.calculate_returns(stock_prices)\n",
    "\n",
    "# Finding the simple covariance matrix from a series of returns\n",
    "cov_matrix = stock_returns.cov()\n",
    "\n",
    "# Transforming Minimum Covariance Determinant estimator from np.array to pd.DataFrame\n",
    "min_cov_det = pd.DataFrame(min_cov_det, index=cov_matrix.index, columns=cov_matrix.columns)\n",
    "\n",
    "print('The Minimum Covariance Determinant estimator is:')\n",
    "min_cov_det"
   ]
  },
  {
   "cell_type": "code",
   "execution_count": 20,
   "metadata": {
    "scrolled": true
   },
   "outputs": [
    {
     "name": "stdout",
     "output_type": "stream",
     "text": [
      "The Simple Covariance is:\n"
     ]
    },
    {
     "data": {
      "text/html": [
       "<div>\n",
       "<style scoped>\n",
       "    .dataframe tbody tr th:only-of-type {\n",
       "        vertical-align: middle;\n",
       "    }\n",
       "\n",
       "    .dataframe tbody tr th {\n",
       "        vertical-align: top;\n",
       "    }\n",
       "\n",
       "    .dataframe thead th {\n",
       "        text-align: right;\n",
       "    }\n",
       "</style>\n",
       "<table border=\"1\" class=\"dataframe\">\n",
       "  <thead>\n",
       "    <tr style=\"text-align: right;\">\n",
       "      <th></th>\n",
       "      <th>EFA</th>\n",
       "      <th>EEM</th>\n",
       "      <th>TIP</th>\n",
       "      <th>EWG</th>\n",
       "      <th>EWJ</th>\n",
       "    </tr>\n",
       "  </thead>\n",
       "  <tbody>\n",
       "    <tr>\n",
       "      <th>EFA</th>\n",
       "      <td>0.000183</td>\n",
       "      <td>0.000190</td>\n",
       "      <td>-0.000028</td>\n",
       "      <td>0.000257</td>\n",
       "      <td>0.000142</td>\n",
       "    </tr>\n",
       "    <tr>\n",
       "      <th>EEM</th>\n",
       "      <td>0.000190</td>\n",
       "      <td>0.000290</td>\n",
       "      <td>-0.000020</td>\n",
       "      <td>0.000252</td>\n",
       "      <td>0.000153</td>\n",
       "    </tr>\n",
       "    <tr>\n",
       "      <th>TIP</th>\n",
       "      <td>-0.000028</td>\n",
       "      <td>-0.000020</td>\n",
       "      <td>0.000032</td>\n",
       "      <td>-0.000049</td>\n",
       "      <td>-0.000016</td>\n",
       "    </tr>\n",
       "    <tr>\n",
       "      <th>EWG</th>\n",
       "      <td>0.000257</td>\n",
       "      <td>0.000252</td>\n",
       "      <td>-0.000049</td>\n",
       "      <td>0.000416</td>\n",
       "      <td>0.000170</td>\n",
       "    </tr>\n",
       "    <tr>\n",
       "      <th>EWJ</th>\n",
       "      <td>0.000142</td>\n",
       "      <td>0.000153</td>\n",
       "      <td>-0.000016</td>\n",
       "      <td>0.000170</td>\n",
       "      <td>0.000153</td>\n",
       "    </tr>\n",
       "  </tbody>\n",
       "</table>\n",
       "</div>"
      ],
      "text/plain": [
       "          EFA       EEM       TIP       EWG       EWJ\n",
       "EFA  0.000183  0.000190 -0.000028  0.000257  0.000142\n",
       "EEM  0.000190  0.000290 -0.000020  0.000252  0.000153\n",
       "TIP -0.000028 -0.000020  0.000032 -0.000049 -0.000016\n",
       "EWG  0.000257  0.000252 -0.000049  0.000416  0.000170\n",
       "EWJ  0.000142  0.000153 -0.000016  0.000170  0.000153"
      ]
     },
     "execution_count": 20,
     "metadata": {},
     "output_type": "execute_result"
    }
   ],
   "source": [
    "print('The Simple Covariance is:')\n",
    "cov_matrix"
   ]
  },
  {
   "cell_type": "markdown",
   "metadata": {},
   "source": [
    "From the results, the absolute values in the Minimum Covariance Determinant estimator are lower in comparison to the simple Covariance matrix, which means that the algorithm has eliminated some of the outliers in the data and the resulting covariance matrix estimator is a more robust one."
   ]
  },
  {
   "cell_type": "markdown",
   "metadata": {},
   "source": [
    "## Maximum likelihood covariance estimator (Empirical covariance)"
   ]
  },
  {
   "cell_type": "markdown",
   "metadata": {},
   "source": [
    "According to the __scikit-learn User Guide on Covariance estimation__:\n",
    "\n",
    "_\"The covariance matrix of a data set can be well approximated by the maximum likelihood estimator (Empirical covariance) if the number of observations is big enough in relation to the number of features\"._\n",
    "\n",
    "_\"The Maximum Likelihood Estimator of a sample is an unbiased estimator of the corresponding population’s covariance matrix\"._"
   ]
  },
  {
   "cell_type": "markdown",
   "metadata": {},
   "source": [
    "### Examples of use"
   ]
  },
  {
   "cell_type": "markdown",
   "metadata": {},
   "source": [
    "We can calculate the Empirical covariance for a data set of stock prices and compare it to the simple covariance."
   ]
  },
  {
   "cell_type": "code",
   "execution_count": 21,
   "metadata": {},
   "outputs": [
    {
     "name": "stdout",
     "output_type": "stream",
     "text": [
      "The Empirical Covariance is:\n"
     ]
    },
    {
     "name": "stderr",
     "output_type": "stream",
     "text": [
      "/home/ahura/Financial Economics Project 1/Estimators/codes/risk_estimators.py:187: RuntimeWarning: data is not in a dataframe\n",
      "  warnings.warn(\"data is not in a dataframe\", RuntimeWarning)\n"
     ]
    },
    {
     "data": {
      "text/html": [
       "<div>\n",
       "<style scoped>\n",
       "    .dataframe tbody tr th:only-of-type {\n",
       "        vertical-align: middle;\n",
       "    }\n",
       "\n",
       "    .dataframe tbody tr th {\n",
       "        vertical-align: top;\n",
       "    }\n",
       "\n",
       "    .dataframe thead th {\n",
       "        text-align: right;\n",
       "    }\n",
       "</style>\n",
       "<table border=\"1\" class=\"dataframe\">\n",
       "  <thead>\n",
       "    <tr style=\"text-align: right;\">\n",
       "      <th></th>\n",
       "      <th>EFA</th>\n",
       "      <th>EEM</th>\n",
       "      <th>TIP</th>\n",
       "      <th>EWG</th>\n",
       "      <th>EWJ</th>\n",
       "    </tr>\n",
       "  </thead>\n",
       "  <tbody>\n",
       "    <tr>\n",
       "      <th>EFA</th>\n",
       "      <td>0.000181</td>\n",
       "      <td>0.000187</td>\n",
       "      <td>-0.000028</td>\n",
       "      <td>0.000254</td>\n",
       "      <td>0.000140</td>\n",
       "    </tr>\n",
       "    <tr>\n",
       "      <th>EEM</th>\n",
       "      <td>0.000187</td>\n",
       "      <td>0.000286</td>\n",
       "      <td>-0.000020</td>\n",
       "      <td>0.000248</td>\n",
       "      <td>0.000150</td>\n",
       "    </tr>\n",
       "    <tr>\n",
       "      <th>TIP</th>\n",
       "      <td>-0.000028</td>\n",
       "      <td>-0.000020</td>\n",
       "      <td>0.000032</td>\n",
       "      <td>-0.000048</td>\n",
       "      <td>-0.000016</td>\n",
       "    </tr>\n",
       "    <tr>\n",
       "      <th>EWG</th>\n",
       "      <td>0.000254</td>\n",
       "      <td>0.000248</td>\n",
       "      <td>-0.000048</td>\n",
       "      <td>0.000410</td>\n",
       "      <td>0.000167</td>\n",
       "    </tr>\n",
       "    <tr>\n",
       "      <th>EWJ</th>\n",
       "      <td>0.000140</td>\n",
       "      <td>0.000150</td>\n",
       "      <td>-0.000016</td>\n",
       "      <td>0.000167</td>\n",
       "      <td>0.000151</td>\n",
       "    </tr>\n",
       "  </tbody>\n",
       "</table>\n",
       "</div>"
      ],
      "text/plain": [
       "          EFA       EEM       TIP       EWG       EWJ\n",
       "EFA  0.000181  0.000187 -0.000028  0.000254  0.000140\n",
       "EEM  0.000187  0.000286 -0.000020  0.000248  0.000150\n",
       "TIP -0.000028 -0.000020  0.000032 -0.000048 -0.000016\n",
       "EWG  0.000254  0.000248 -0.000048  0.000410  0.000167\n",
       "EWJ  0.000140  0.000150 -0.000016  0.000167  0.000151"
      ]
     },
     "execution_count": 21,
     "metadata": {},
     "output_type": "execute_result"
    }
   ],
   "source": [
    "# Finding the Empirical Covariance on price data\n",
    "empirical_cov = risk_estimators.empirical_covariance(stock_prices, price_data=True)\n",
    "\n",
    "# Transforming Empirical Covariance from np.array to pd.DataFrame\n",
    "empirical_cov = pd.DataFrame(empirical_cov, index=cov_matrix.index, columns=cov_matrix.columns)\n",
    "\n",
    "print('The Empirical Covariance is:')\n",
    "empirical_cov"
   ]
  },
  {
   "cell_type": "code",
   "execution_count": 22,
   "metadata": {},
   "outputs": [
    {
     "name": "stdout",
     "output_type": "stream",
     "text": [
      "The Simple Covariance is:\n"
     ]
    },
    {
     "data": {
      "text/html": [
       "<div>\n",
       "<style scoped>\n",
       "    .dataframe tbody tr th:only-of-type {\n",
       "        vertical-align: middle;\n",
       "    }\n",
       "\n",
       "    .dataframe tbody tr th {\n",
       "        vertical-align: top;\n",
       "    }\n",
       "\n",
       "    .dataframe thead th {\n",
       "        text-align: right;\n",
       "    }\n",
       "</style>\n",
       "<table border=\"1\" class=\"dataframe\">\n",
       "  <thead>\n",
       "    <tr style=\"text-align: right;\">\n",
       "      <th></th>\n",
       "      <th>EFA</th>\n",
       "      <th>EEM</th>\n",
       "      <th>TIP</th>\n",
       "      <th>EWG</th>\n",
       "      <th>EWJ</th>\n",
       "    </tr>\n",
       "  </thead>\n",
       "  <tbody>\n",
       "    <tr>\n",
       "      <th>EFA</th>\n",
       "      <td>0.000183</td>\n",
       "      <td>0.000190</td>\n",
       "      <td>-0.000028</td>\n",
       "      <td>0.000257</td>\n",
       "      <td>0.000142</td>\n",
       "    </tr>\n",
       "    <tr>\n",
       "      <th>EEM</th>\n",
       "      <td>0.000190</td>\n",
       "      <td>0.000290</td>\n",
       "      <td>-0.000020</td>\n",
       "      <td>0.000252</td>\n",
       "      <td>0.000153</td>\n",
       "    </tr>\n",
       "    <tr>\n",
       "      <th>TIP</th>\n",
       "      <td>-0.000028</td>\n",
       "      <td>-0.000020</td>\n",
       "      <td>0.000032</td>\n",
       "      <td>-0.000049</td>\n",
       "      <td>-0.000016</td>\n",
       "    </tr>\n",
       "    <tr>\n",
       "      <th>EWG</th>\n",
       "      <td>0.000257</td>\n",
       "      <td>0.000252</td>\n",
       "      <td>-0.000049</td>\n",
       "      <td>0.000416</td>\n",
       "      <td>0.000170</td>\n",
       "    </tr>\n",
       "    <tr>\n",
       "      <th>EWJ</th>\n",
       "      <td>0.000142</td>\n",
       "      <td>0.000153</td>\n",
       "      <td>-0.000016</td>\n",
       "      <td>0.000170</td>\n",
       "      <td>0.000153</td>\n",
       "    </tr>\n",
       "  </tbody>\n",
       "</table>\n",
       "</div>"
      ],
      "text/plain": [
       "          EFA       EEM       TIP       EWG       EWJ\n",
       "EFA  0.000183  0.000190 -0.000028  0.000257  0.000142\n",
       "EEM  0.000190  0.000290 -0.000020  0.000252  0.000153\n",
       "TIP -0.000028 -0.000020  0.000032 -0.000049 -0.000016\n",
       "EWG  0.000257  0.000252 -0.000049  0.000416  0.000170\n",
       "EWJ  0.000142  0.000153 -0.000016  0.000170  0.000153"
      ]
     },
     "execution_count": 22,
     "metadata": {},
     "output_type": "execute_result"
    }
   ],
   "source": [
    "print('The Simple Covariance is:')\n",
    "cov_matrix"
   ]
  },
  {
   "cell_type": "markdown",
   "metadata": {},
   "source": [
    "The result is the same as from the standard covariance function from the pandas package."
   ]
  },
  {
   "cell_type": "markdown",
   "metadata": {},
   "source": [
    "## Covariance estimator with shrinkage"
   ]
  },
  {
   "cell_type": "markdown",
   "metadata": {},
   "source": [
    "According to the __scikit-learn User Guide on Covariance estimation__:\n",
    "\n",
    "_\"The Maximum Likelihood Estimator is not a good estimator of the eigenvalues of the covariance matrix and the inverted matrix is not accurate. Sometimes, ... it cannot be inverted for numerical reasons\"._\n",
    "\n",
    "_\"To avoid problems with inversion, a transformation of the empirical covariance matrix has been introduced: the shrinkage\"._\n",
    "\n",
    "_\"Mathematically, this shrinkage consists in reducing the ratio between the smallest and the largest eigenvalues of the empirical covariance matrix\"._"
   ]
  },
  {
   "cell_type": "markdown",
   "metadata": {},
   "source": [
    "### Basic shrinkage"
   ]
  },
  {
   "cell_type": "markdown",
   "metadata": {},
   "source": [
    "_\"This shrinkage is done by shifting every eigenvalue according to a given offset, which is equivalent to finding the l2-penalized Maximum Likelihood Estimator of the covariance matrix\"._\n",
    "\n",
    "_\"Shrinkage boils down to a simple a convex transformation\":_\n",
    "\n",
    "$$\\sum_{shrunk} = (1 - \\alpha)\\sum_{unshrunk} + \\alpha\\frac{Tr \\sum_{unshrunk}}{p}Id$$\n",
    "\n",
    "_\"The amount of shrinkage $\\alpha$ is setting a trade-off between bias and variance\"._\n",
    "\n",
    "In the implementation, $\\alpha$ is passed to a function as the $basic\\_shrinkage$ parameter."
   ]
  },
  {
   "cell_type": "markdown",
   "metadata": {},
   "source": [
    "### Ledoit-Wolf shrinkage"
   ]
  },
  {
   "cell_type": "markdown",
   "metadata": {},
   "source": [
    "_\"The Ledoit-Wolf shrinkage is based on computing the optimal shrinkage coefficient $\\alpha$ that minimizes the Mean Squared Error between the estimated and the real covariance matrix\"._\n",
    "\n",
    "The algorithm is described in more detail in the paper by _Olivier Ledoit_ and _Michael Wolf_ __A well-conditioned estimator forlarge-dimensional covariance matrices__ [available here](http://perso.ens-lyon.fr/patrick.flandrin/LedoitWolf_JMA2004.pdf)"
   ]
  },
  {
   "cell_type": "markdown",
   "metadata": {},
   "source": [
    "### Oracle Approximating shrinkage"
   ]
  },
  {
   "cell_type": "markdown",
   "metadata": {},
   "source": [
    "_\"Assuming that the data are Gaussian distributed, Chen et al. derived a formula aimed at choosing a shrinkage coefficient $\\alpha$ that yields a smaller Mean Squared Error than the one given by Ledoit and Wolf’s formula\"._\n",
    "\n",
    "_\"The resulting estimator is known as the Oracle Shrinkage Approximating estimator of the covariance\"._\n",
    "\n",
    "The algorithm is described in more detail in the paper by _Y. Chen_, _A. Wiesel_, _Y.C. Eldar_ and _A.O. Hero_ __Shrinkage Algorithms for MMSE Covariance Estimation__ [available here](https://webee.technion.ac.il/people/YoninaEldar/104.pdf)"
   ]
  },
  {
   "cell_type": "markdown",
   "metadata": {},
   "source": [
    "### Examples of use"
   ]
  },
  {
   "cell_type": "markdown",
   "metadata": {},
   "source": [
    "We can calculate the Shrinked Covariances for every method and compare them."
   ]
  },
  {
   "cell_type": "code",
   "execution_count": 23,
   "metadata": {},
   "outputs": [
    {
     "name": "stdout",
     "output_type": "stream",
     "text": [
      "The Basic Shrinked covariance with an alpha of 0.1 is:\n"
     ]
    },
    {
     "name": "stderr",
     "output_type": "stream",
     "text": [
      "/home/ahura/Financial Economics Project 1/Estimators/codes/risk_estimators.py:238: RuntimeWarning: data is not in a dataframe\n",
      "  warnings.warn(\"data is not in a dataframe\", RuntimeWarning)\n",
      "/home/ahura/Financial Economics Project 1/Estimators/codes/risk_estimators.py:238: RuntimeWarning: data is not in a dataframe\n",
      "  warnings.warn(\"data is not in a dataframe\", RuntimeWarning)\n",
      "/home/ahura/Financial Economics Project 1/Estimators/codes/risk_estimators.py:238: RuntimeWarning: data is not in a dataframe\n",
      "  warnings.warn(\"data is not in a dataframe\", RuntimeWarning)\n"
     ]
    },
    {
     "data": {
      "text/html": [
       "<div>\n",
       "<style scoped>\n",
       "    .dataframe tbody tr th:only-of-type {\n",
       "        vertical-align: middle;\n",
       "    }\n",
       "\n",
       "    .dataframe tbody tr th {\n",
       "        vertical-align: top;\n",
       "    }\n",
       "\n",
       "    .dataframe thead th {\n",
       "        text-align: right;\n",
       "    }\n",
       "</style>\n",
       "<table border=\"1\" class=\"dataframe\">\n",
       "  <thead>\n",
       "    <tr style=\"text-align: right;\">\n",
       "      <th></th>\n",
       "      <th>EFA</th>\n",
       "      <th>EEM</th>\n",
       "      <th>TIP</th>\n",
       "      <th>EWG</th>\n",
       "      <th>EWJ</th>\n",
       "    </tr>\n",
       "  </thead>\n",
       "  <tbody>\n",
       "    <tr>\n",
       "      <th>EFA</th>\n",
       "      <td>0.000184</td>\n",
       "      <td>0.000168</td>\n",
       "      <td>-0.000025</td>\n",
       "      <td>0.000228</td>\n",
       "      <td>0.000126</td>\n",
       "    </tr>\n",
       "    <tr>\n",
       "      <th>EEM</th>\n",
       "      <td>0.000168</td>\n",
       "      <td>0.000278</td>\n",
       "      <td>-0.000018</td>\n",
       "      <td>0.000223</td>\n",
       "      <td>0.000135</td>\n",
       "    </tr>\n",
       "    <tr>\n",
       "      <th>TIP</th>\n",
       "      <td>-0.000025</td>\n",
       "      <td>-0.000018</td>\n",
       "      <td>0.000050</td>\n",
       "      <td>-0.000043</td>\n",
       "      <td>-0.000014</td>\n",
       "    </tr>\n",
       "    <tr>\n",
       "      <th>EWG</th>\n",
       "      <td>0.000228</td>\n",
       "      <td>0.000223</td>\n",
       "      <td>-0.000043</td>\n",
       "      <td>0.000390</td>\n",
       "      <td>0.000150</td>\n",
       "    </tr>\n",
       "    <tr>\n",
       "      <th>EWJ</th>\n",
       "      <td>0.000126</td>\n",
       "      <td>0.000135</td>\n",
       "      <td>-0.000014</td>\n",
       "      <td>0.000150</td>\n",
       "      <td>0.000157</td>\n",
       "    </tr>\n",
       "  </tbody>\n",
       "</table>\n",
       "</div>"
      ],
      "text/plain": [
       "          EFA       EEM       TIP       EWG       EWJ\n",
       "EFA  0.000184  0.000168 -0.000025  0.000228  0.000126\n",
       "EEM  0.000168  0.000278 -0.000018  0.000223  0.000135\n",
       "TIP -0.000025 -0.000018  0.000050 -0.000043 -0.000014\n",
       "EWG  0.000228  0.000223 -0.000043  0.000390  0.000150\n",
       "EWJ  0.000126  0.000135 -0.000014  0.000150  0.000157"
      ]
     },
     "execution_count": 23,
     "metadata": {},
     "output_type": "execute_result"
    }
   ],
   "source": [
    "# Finding the Shrinked Covariances on price data with every method\n",
    "shrinked_cov_methods = ['basic', 'lw', 'oas']\n",
    "shrinked_cov_dict = dict()\n",
    "\n",
    "for method in shrinked_cov_methods:\n",
    "    shrinked_cov = risk_estimators.shrinked_covariance(\n",
    "        stock_prices, \n",
    "        price_data=True,\n",
    "        shrinkage_type=method,\n",
    "        basic_shrinkage=0.1\n",
    "        )\n",
    "    \n",
    "    shrinked_cov_dict[method] = shrinked_cov\n",
    "\n",
    "# Separating the Shrinked covariances for every method\n",
    "shrinked_cov_basic, shrinked_cov_lw, shrinked_cov_oas = shrinked_cov_dict['basic'], shrinked_cov_dict['lw'], shrinked_cov_dict['oas']\n",
    "\n",
    "# Transforming each Shrinked Covariance from np.array to pd.DataFrame\n",
    "shrinked_cov_basic = pd.DataFrame(shrinked_cov_basic, index=cov_matrix.index, columns=cov_matrix.columns)\n",
    "shrinked_cov_lw = pd.DataFrame(shrinked_cov_lw, index=cov_matrix.index, columns=cov_matrix.columns)\n",
    "shrinked_cov_oas = pd.DataFrame(shrinked_cov_oas, index=cov_matrix.index, columns=cov_matrix.columns)\n",
    "\n",
    "print('The Basic Shrinked covariance with an alpha of 0.1 is:')\n",
    "shrinked_cov_basic"
   ]
  },
  {
   "cell_type": "code",
   "execution_count": 24,
   "metadata": {},
   "outputs": [
    {
     "name": "stdout",
     "output_type": "stream",
     "text": [
      "The Ledoit-Wolf Shrinked covariance is:\n"
     ]
    },
    {
     "data": {
      "text/html": [
       "<div>\n",
       "<style scoped>\n",
       "    .dataframe tbody tr th:only-of-type {\n",
       "        vertical-align: middle;\n",
       "    }\n",
       "\n",
       "    .dataframe tbody tr th {\n",
       "        vertical-align: top;\n",
       "    }\n",
       "\n",
       "    .dataframe thead th {\n",
       "        text-align: right;\n",
       "    }\n",
       "</style>\n",
       "<table border=\"1\" class=\"dataframe\">\n",
       "  <thead>\n",
       "    <tr style=\"text-align: right;\">\n",
       "      <th></th>\n",
       "      <th>EFA</th>\n",
       "      <th>EEM</th>\n",
       "      <th>TIP</th>\n",
       "      <th>EWG</th>\n",
       "      <th>EWJ</th>\n",
       "    </tr>\n",
       "  </thead>\n",
       "  <tbody>\n",
       "    <tr>\n",
       "      <th>EFA</th>\n",
       "      <td>0.000184</td>\n",
       "      <td>0.000169</td>\n",
       "      <td>-0.000025</td>\n",
       "      <td>0.000230</td>\n",
       "      <td>0.000127</td>\n",
       "    </tr>\n",
       "    <tr>\n",
       "      <th>EEM</th>\n",
       "      <td>0.000169</td>\n",
       "      <td>0.000279</td>\n",
       "      <td>-0.000018</td>\n",
       "      <td>0.000225</td>\n",
       "      <td>0.000136</td>\n",
       "    </tr>\n",
       "    <tr>\n",
       "      <th>TIP</th>\n",
       "      <td>-0.000025</td>\n",
       "      <td>-0.000018</td>\n",
       "      <td>0.000049</td>\n",
       "      <td>-0.000044</td>\n",
       "      <td>-0.000014</td>\n",
       "    </tr>\n",
       "    <tr>\n",
       "      <th>EWG</th>\n",
       "      <td>0.000230</td>\n",
       "      <td>0.000225</td>\n",
       "      <td>-0.000044</td>\n",
       "      <td>0.000391</td>\n",
       "      <td>0.000151</td>\n",
       "    </tr>\n",
       "    <tr>\n",
       "      <th>EWJ</th>\n",
       "      <td>0.000127</td>\n",
       "      <td>0.000136</td>\n",
       "      <td>-0.000014</td>\n",
       "      <td>0.000151</td>\n",
       "      <td>0.000157</td>\n",
       "    </tr>\n",
       "  </tbody>\n",
       "</table>\n",
       "</div>"
      ],
      "text/plain": [
       "          EFA       EEM       TIP       EWG       EWJ\n",
       "EFA  0.000184  0.000169 -0.000025  0.000230  0.000127\n",
       "EEM  0.000169  0.000279 -0.000018  0.000225  0.000136\n",
       "TIP -0.000025 -0.000018  0.000049 -0.000044 -0.000014\n",
       "EWG  0.000230  0.000225 -0.000044  0.000391  0.000151\n",
       "EWJ  0.000127  0.000136 -0.000014  0.000151  0.000157"
      ]
     },
     "execution_count": 24,
     "metadata": {},
     "output_type": "execute_result"
    }
   ],
   "source": [
    "print('The Ledoit-Wolf Shrinked covariance is:')\n",
    "shrinked_cov_lw"
   ]
  },
  {
   "cell_type": "code",
   "execution_count": 25,
   "metadata": {},
   "outputs": [
    {
     "name": "stdout",
     "output_type": "stream",
     "text": [
      "The Oracle Approximating Shrinked covariance is:\n"
     ]
    },
    {
     "data": {
      "text/html": [
       "<div>\n",
       "<style scoped>\n",
       "    .dataframe tbody tr th:only-of-type {\n",
       "        vertical-align: middle;\n",
       "    }\n",
       "\n",
       "    .dataframe tbody tr th {\n",
       "        vertical-align: top;\n",
       "    }\n",
       "\n",
       "    .dataframe thead th {\n",
       "        text-align: right;\n",
       "    }\n",
       "</style>\n",
       "<table border=\"1\" class=\"dataframe\">\n",
       "  <thead>\n",
       "    <tr style=\"text-align: right;\">\n",
       "      <th></th>\n",
       "      <th>EFA</th>\n",
       "      <th>EEM</th>\n",
       "      <th>TIP</th>\n",
       "      <th>EWG</th>\n",
       "      <th>EWJ</th>\n",
       "    </tr>\n",
       "  </thead>\n",
       "  <tbody>\n",
       "    <tr>\n",
       "      <th>EFA</th>\n",
       "      <td>0.000182</td>\n",
       "      <td>0.000178</td>\n",
       "      <td>-0.000026</td>\n",
       "      <td>0.000242</td>\n",
       "      <td>0.000133</td>\n",
       "    </tr>\n",
       "    <tr>\n",
       "      <th>EEM</th>\n",
       "      <td>0.000178</td>\n",
       "      <td>0.000282</td>\n",
       "      <td>-0.000019</td>\n",
       "      <td>0.000236</td>\n",
       "      <td>0.000143</td>\n",
       "    </tr>\n",
       "    <tr>\n",
       "      <th>TIP</th>\n",
       "      <td>-0.000026</td>\n",
       "      <td>-0.000019</td>\n",
       "      <td>0.000040</td>\n",
       "      <td>-0.000046</td>\n",
       "      <td>-0.000015</td>\n",
       "    </tr>\n",
       "    <tr>\n",
       "      <th>EWG</th>\n",
       "      <td>0.000242</td>\n",
       "      <td>0.000236</td>\n",
       "      <td>-0.000046</td>\n",
       "      <td>0.000400</td>\n",
       "      <td>0.000159</td>\n",
       "    </tr>\n",
       "    <tr>\n",
       "      <th>EWJ</th>\n",
       "      <td>0.000133</td>\n",
       "      <td>0.000143</td>\n",
       "      <td>-0.000015</td>\n",
       "      <td>0.000159</td>\n",
       "      <td>0.000154</td>\n",
       "    </tr>\n",
       "  </tbody>\n",
       "</table>\n",
       "</div>"
      ],
      "text/plain": [
       "          EFA       EEM       TIP       EWG       EWJ\n",
       "EFA  0.000182  0.000178 -0.000026  0.000242  0.000133\n",
       "EEM  0.000178  0.000282 -0.000019  0.000236  0.000143\n",
       "TIP -0.000026 -0.000019  0.000040 -0.000046 -0.000015\n",
       "EWG  0.000242  0.000236 -0.000046  0.000400  0.000159\n",
       "EWJ  0.000133  0.000143 -0.000015  0.000159  0.000154"
      ]
     },
     "execution_count": 25,
     "metadata": {},
     "output_type": "execute_result"
    }
   ],
   "source": [
    "print('The Oracle Approximating Shrinked covariance is:')\n",
    "shrinked_cov_oas"
   ]
  },
  {
   "cell_type": "code",
   "execution_count": 26,
   "metadata": {
    "scrolled": true
   },
   "outputs": [
    {
     "name": "stdout",
     "output_type": "stream",
     "text": [
      "The Simple Covariance is:\n"
     ]
    },
    {
     "data": {
      "text/html": [
       "<div>\n",
       "<style scoped>\n",
       "    .dataframe tbody tr th:only-of-type {\n",
       "        vertical-align: middle;\n",
       "    }\n",
       "\n",
       "    .dataframe tbody tr th {\n",
       "        vertical-align: top;\n",
       "    }\n",
       "\n",
       "    .dataframe thead th {\n",
       "        text-align: right;\n",
       "    }\n",
       "</style>\n",
       "<table border=\"1\" class=\"dataframe\">\n",
       "  <thead>\n",
       "    <tr style=\"text-align: right;\">\n",
       "      <th></th>\n",
       "      <th>EFA</th>\n",
       "      <th>EEM</th>\n",
       "      <th>TIP</th>\n",
       "      <th>EWG</th>\n",
       "      <th>EWJ</th>\n",
       "    </tr>\n",
       "  </thead>\n",
       "  <tbody>\n",
       "    <tr>\n",
       "      <th>EFA</th>\n",
       "      <td>0.000183</td>\n",
       "      <td>0.000190</td>\n",
       "      <td>-0.000028</td>\n",
       "      <td>0.000257</td>\n",
       "      <td>0.000142</td>\n",
       "    </tr>\n",
       "    <tr>\n",
       "      <th>EEM</th>\n",
       "      <td>0.000190</td>\n",
       "      <td>0.000290</td>\n",
       "      <td>-0.000020</td>\n",
       "      <td>0.000252</td>\n",
       "      <td>0.000153</td>\n",
       "    </tr>\n",
       "    <tr>\n",
       "      <th>TIP</th>\n",
       "      <td>-0.000028</td>\n",
       "      <td>-0.000020</td>\n",
       "      <td>0.000032</td>\n",
       "      <td>-0.000049</td>\n",
       "      <td>-0.000016</td>\n",
       "    </tr>\n",
       "    <tr>\n",
       "      <th>EWG</th>\n",
       "      <td>0.000257</td>\n",
       "      <td>0.000252</td>\n",
       "      <td>-0.000049</td>\n",
       "      <td>0.000416</td>\n",
       "      <td>0.000170</td>\n",
       "    </tr>\n",
       "    <tr>\n",
       "      <th>EWJ</th>\n",
       "      <td>0.000142</td>\n",
       "      <td>0.000153</td>\n",
       "      <td>-0.000016</td>\n",
       "      <td>0.000170</td>\n",
       "      <td>0.000153</td>\n",
       "    </tr>\n",
       "  </tbody>\n",
       "</table>\n",
       "</div>"
      ],
      "text/plain": [
       "          EFA       EEM       TIP       EWG       EWJ\n",
       "EFA  0.000183  0.000190 -0.000028  0.000257  0.000142\n",
       "EEM  0.000190  0.000290 -0.000020  0.000252  0.000153\n",
       "TIP -0.000028 -0.000020  0.000032 -0.000049 -0.000016\n",
       "EWG  0.000257  0.000252 -0.000049  0.000416  0.000170\n",
       "EWJ  0.000142  0.000153 -0.000016  0.000170  0.000153"
      ]
     },
     "execution_count": 26,
     "metadata": {},
     "output_type": "execute_result"
    }
   ],
   "source": [
    "print('The Simple Covariance is:')\n",
    "cov_matrix"
   ]
  },
  {
   "cell_type": "markdown",
   "metadata": {},
   "source": [
    "The Shrinked Covariance matrices for the Ledoit-Wolf and Oracle Approximating algorithms are similar with absolute covariance values in the Oracle Approximating covariance matrix being slightly bigger. With the basic Shrinkage covariance matrix with $\\alpha = 0.1$, the absolute values are even smaller. The Simple Covariance matrix has the highest absolute values in comparison."
   ]
  },
  {
   "cell_type": "markdown",
   "metadata": {},
   "source": [
    "## Semi-Covariance matrix"
   ]
  },
  {
   "cell_type": "markdown",
   "metadata": {},
   "source": [
    "Semi-covariance matrix is the way to measure the volatility of the negative returns or returns below a certain threshold. \n",
    "\n",
    "This measure can be used to decrease the negative volatility and is being more precise for this goal than the covariance matrix that measures both positive and negative variance. \n",
    "\n",
    "According to the __Minimum Downside Volatility Indices__ paper:\n",
    "\n",
    "_\"Each element in the Semi-Covariance matrix is calculated as:\"_\n",
    "\n",
    "$$SemiCov_{ij} = \\frac{1}{T}\\sum_{t=1}^{T}[Min(R_{i,t}-B,0)*Min(R_{j,t}-B,0)]$$\n",
    "\n",
    "_where $T$ is the number of observations,_ $R_{i,t}$ _is the return of an asset $i$ at time $t$, and $B$ is the threshold return._\n",
    "\n",
    "_If the $B$ is set to zero, the volatility of negative returns is measured._\n",
    "\n",
    "A deeper analysis of use cases of Semi-Covariance matrix is available in the paper by _Solactive AG - German Index Engineering_ __Minimum Downside Volatility Indices__ [available here](https://www.solactive.com/wp-content/uploads/2018/04/Solactive_Minimum-Downside-Volatility-Indices.pdf)"
   ]
  },
  {
   "cell_type": "markdown",
   "metadata": {},
   "source": [
    "### Examples of use"
   ]
  },
  {
   "cell_type": "markdown",
   "metadata": {},
   "source": [
    "We can calculate the Semi-Covariance and compare it to the simple covariance."
   ]
  },
  {
   "cell_type": "code",
   "execution_count": 27,
   "metadata": {},
   "outputs": [
    {
     "name": "stdout",
     "output_type": "stream",
     "text": [
      "The Semi-Covariance matrix is:\n"
     ]
    },
    {
     "name": "stderr",
     "output_type": "stream",
     "text": [
      "/home/ahura/Financial Economics Project 1/Estimators/codes/risk_estimators.py:293: RuntimeWarning: data is not in a dataframe\n",
      "  warnings.warn(\"data is not in a dataframe\", RuntimeWarning)\n"
     ]
    },
    {
     "data": {
      "text/html": [
       "<div>\n",
       "<style scoped>\n",
       "    .dataframe tbody tr th:only-of-type {\n",
       "        vertical-align: middle;\n",
       "    }\n",
       "\n",
       "    .dataframe tbody tr th {\n",
       "        vertical-align: top;\n",
       "    }\n",
       "\n",
       "    .dataframe thead th {\n",
       "        text-align: right;\n",
       "    }\n",
       "</style>\n",
       "<table border=\"1\" class=\"dataframe\">\n",
       "  <thead>\n",
       "    <tr style=\"text-align: right;\">\n",
       "      <th></th>\n",
       "      <th>EFA</th>\n",
       "      <th>EEM</th>\n",
       "      <th>TIP</th>\n",
       "      <th>EWG</th>\n",
       "      <th>EWJ</th>\n",
       "    </tr>\n",
       "  </thead>\n",
       "  <tbody>\n",
       "    <tr>\n",
       "      <th>EFA</th>\n",
       "      <td>0.000092</td>\n",
       "      <td>0.000090</td>\n",
       "      <td>0.000011</td>\n",
       "      <td>0.000135</td>\n",
       "      <td>0.000075</td>\n",
       "    </tr>\n",
       "    <tr>\n",
       "      <th>EEM</th>\n",
       "      <td>0.000090</td>\n",
       "      <td>0.000115</td>\n",
       "      <td>0.000018</td>\n",
       "      <td>0.000129</td>\n",
       "      <td>0.000078</td>\n",
       "    </tr>\n",
       "    <tr>\n",
       "      <th>TIP</th>\n",
       "      <td>0.000011</td>\n",
       "      <td>0.000018</td>\n",
       "      <td>0.000016</td>\n",
       "      <td>0.000013</td>\n",
       "      <td>0.000013</td>\n",
       "    </tr>\n",
       "    <tr>\n",
       "      <th>EWG</th>\n",
       "      <td>0.000135</td>\n",
       "      <td>0.000129</td>\n",
       "      <td>0.000013</td>\n",
       "      <td>0.000216</td>\n",
       "      <td>0.000098</td>\n",
       "    </tr>\n",
       "    <tr>\n",
       "      <th>EWJ</th>\n",
       "      <td>0.000075</td>\n",
       "      <td>0.000078</td>\n",
       "      <td>0.000013</td>\n",
       "      <td>0.000098</td>\n",
       "      <td>0.000089</td>\n",
       "    </tr>\n",
       "  </tbody>\n",
       "</table>\n",
       "</div>"
      ],
      "text/plain": [
       "          EFA       EEM       TIP       EWG       EWJ\n",
       "EFA  0.000092  0.000090  0.000011  0.000135  0.000075\n",
       "EEM  0.000090  0.000115  0.000018  0.000129  0.000078\n",
       "TIP  0.000011  0.000018  0.000016  0.000013  0.000013\n",
       "EWG  0.000135  0.000129  0.000013  0.000216  0.000098\n",
       "EWJ  0.000075  0.000078  0.000013  0.000098  0.000089"
      ]
     },
     "execution_count": 27,
     "metadata": {},
     "output_type": "execute_result"
    }
   ],
   "source": [
    "# Finding the Semi-Covariance on price data\n",
    "semi_cov = risk_estimators.semi_covariance(stock_prices, price_data=True, threshold_return=0)\n",
    "\n",
    "# Transforming Semi-Covariance from np.array to pd.DataFrame\n",
    "semi_cov = pd.DataFrame(semi_cov, index=cov_matrix.index, columns=cov_matrix.columns)\n",
    "\n",
    "print('The Semi-Covariance matrix is:')\n",
    "semi_cov"
   ]
  },
  {
   "cell_type": "code",
   "execution_count": 28,
   "metadata": {},
   "outputs": [
    {
     "name": "stdout",
     "output_type": "stream",
     "text": [
      "The Simple Covariance is:\n"
     ]
    },
    {
     "data": {
      "text/html": [
       "<div>\n",
       "<style scoped>\n",
       "    .dataframe tbody tr th:only-of-type {\n",
       "        vertical-align: middle;\n",
       "    }\n",
       "\n",
       "    .dataframe tbody tr th {\n",
       "        vertical-align: top;\n",
       "    }\n",
       "\n",
       "    .dataframe thead th {\n",
       "        text-align: right;\n",
       "    }\n",
       "</style>\n",
       "<table border=\"1\" class=\"dataframe\">\n",
       "  <thead>\n",
       "    <tr style=\"text-align: right;\">\n",
       "      <th></th>\n",
       "      <th>EFA</th>\n",
       "      <th>EEM</th>\n",
       "      <th>TIP</th>\n",
       "      <th>EWG</th>\n",
       "      <th>EWJ</th>\n",
       "    </tr>\n",
       "  </thead>\n",
       "  <tbody>\n",
       "    <tr>\n",
       "      <th>EFA</th>\n",
       "      <td>0.000183</td>\n",
       "      <td>0.000190</td>\n",
       "      <td>-0.000028</td>\n",
       "      <td>0.000257</td>\n",
       "      <td>0.000142</td>\n",
       "    </tr>\n",
       "    <tr>\n",
       "      <th>EEM</th>\n",
       "      <td>0.000190</td>\n",
       "      <td>0.000290</td>\n",
       "      <td>-0.000020</td>\n",
       "      <td>0.000252</td>\n",
       "      <td>0.000153</td>\n",
       "    </tr>\n",
       "    <tr>\n",
       "      <th>TIP</th>\n",
       "      <td>-0.000028</td>\n",
       "      <td>-0.000020</td>\n",
       "      <td>0.000032</td>\n",
       "      <td>-0.000049</td>\n",
       "      <td>-0.000016</td>\n",
       "    </tr>\n",
       "    <tr>\n",
       "      <th>EWG</th>\n",
       "      <td>0.000257</td>\n",
       "      <td>0.000252</td>\n",
       "      <td>-0.000049</td>\n",
       "      <td>0.000416</td>\n",
       "      <td>0.000170</td>\n",
       "    </tr>\n",
       "    <tr>\n",
       "      <th>EWJ</th>\n",
       "      <td>0.000142</td>\n",
       "      <td>0.000153</td>\n",
       "      <td>-0.000016</td>\n",
       "      <td>0.000170</td>\n",
       "      <td>0.000153</td>\n",
       "    </tr>\n",
       "  </tbody>\n",
       "</table>\n",
       "</div>"
      ],
      "text/plain": [
       "          EFA       EEM       TIP       EWG       EWJ\n",
       "EFA  0.000183  0.000190 -0.000028  0.000257  0.000142\n",
       "EEM  0.000190  0.000290 -0.000020  0.000252  0.000153\n",
       "TIP -0.000028 -0.000020  0.000032 -0.000049 -0.000016\n",
       "EWG  0.000257  0.000252 -0.000049  0.000416  0.000170\n",
       "EWJ  0.000142  0.000153 -0.000016  0.000170  0.000153"
      ]
     },
     "execution_count": 28,
     "metadata": {},
     "output_type": "execute_result"
    }
   ],
   "source": [
    "print('The Simple Covariance is:')\n",
    "cov_matrix"
   ]
  },
  {
   "cell_type": "markdown",
   "metadata": {},
   "source": [
    "As the computation of the Semi-Covariance matrix is different from the usual computation of the covariance matrix, the absolute values in the Semi-Covariance matrix are significantly lower. Since it's a measure, let's multiply the Semi-Covariance matrix by 10 to better see the changes in the measures."
   ]
  },
  {
   "cell_type": "code",
   "execution_count": 29,
   "metadata": {},
   "outputs": [
    {
     "name": "stdout",
     "output_type": "stream",
     "text": [
      "The Semi-Covariance matrix multiplied by 10 is:\n"
     ]
    },
    {
     "data": {
      "text/html": [
       "<div>\n",
       "<style scoped>\n",
       "    .dataframe tbody tr th:only-of-type {\n",
       "        vertical-align: middle;\n",
       "    }\n",
       "\n",
       "    .dataframe tbody tr th {\n",
       "        vertical-align: top;\n",
       "    }\n",
       "\n",
       "    .dataframe thead th {\n",
       "        text-align: right;\n",
       "    }\n",
       "</style>\n",
       "<table border=\"1\" class=\"dataframe\">\n",
       "  <thead>\n",
       "    <tr style=\"text-align: right;\">\n",
       "      <th></th>\n",
       "      <th>EFA</th>\n",
       "      <th>EEM</th>\n",
       "      <th>TIP</th>\n",
       "      <th>EWG</th>\n",
       "      <th>EWJ</th>\n",
       "    </tr>\n",
       "  </thead>\n",
       "  <tbody>\n",
       "    <tr>\n",
       "      <th>EFA</th>\n",
       "      <td>0.000921</td>\n",
       "      <td>0.000895</td>\n",
       "      <td>0.000106</td>\n",
       "      <td>0.001346</td>\n",
       "      <td>0.000746</td>\n",
       "    </tr>\n",
       "    <tr>\n",
       "      <th>EEM</th>\n",
       "      <td>0.000895</td>\n",
       "      <td>0.001152</td>\n",
       "      <td>0.000175</td>\n",
       "      <td>0.001294</td>\n",
       "      <td>0.000781</td>\n",
       "    </tr>\n",
       "    <tr>\n",
       "      <th>TIP</th>\n",
       "      <td>0.000106</td>\n",
       "      <td>0.000175</td>\n",
       "      <td>0.000159</td>\n",
       "      <td>0.000128</td>\n",
       "      <td>0.000126</td>\n",
       "    </tr>\n",
       "    <tr>\n",
       "      <th>EWG</th>\n",
       "      <td>0.001346</td>\n",
       "      <td>0.001294</td>\n",
       "      <td>0.000128</td>\n",
       "      <td>0.002159</td>\n",
       "      <td>0.000980</td>\n",
       "    </tr>\n",
       "    <tr>\n",
       "      <th>EWJ</th>\n",
       "      <td>0.000746</td>\n",
       "      <td>0.000781</td>\n",
       "      <td>0.000126</td>\n",
       "      <td>0.000980</td>\n",
       "      <td>0.000891</td>\n",
       "    </tr>\n",
       "  </tbody>\n",
       "</table>\n",
       "</div>"
      ],
      "text/plain": [
       "          EFA       EEM       TIP       EWG       EWJ\n",
       "EFA  0.000921  0.000895  0.000106  0.001346  0.000746\n",
       "EEM  0.000895  0.001152  0.000175  0.001294  0.000781\n",
       "TIP  0.000106  0.000175  0.000159  0.000128  0.000126\n",
       "EWG  0.001346  0.001294  0.000128  0.002159  0.000980\n",
       "EWJ  0.000746  0.000781  0.000126  0.000980  0.000891"
      ]
     },
     "execution_count": 29,
     "metadata": {},
     "output_type": "execute_result"
    }
   ],
   "source": [
    "print('The Semi-Covariance matrix multiplied by 10 is:')\n",
    "semi_cov * 10"
   ]
  },
  {
   "cell_type": "markdown",
   "metadata": {},
   "source": [
    "Now we can see that the values in the two matrices are similar, however, some differences are present.\n",
    "\n",
    "For example, the simple Covariance between the EEM and TIP is negative, but the negative returns have positive covariance. "
   ]
  },
  {
   "cell_type": "markdown",
   "metadata": {},
   "source": [
    "## Exponentially-weighted Covariance matrix"
   ]
  },
  {
   "cell_type": "markdown",
   "metadata": {},
   "source": [
    "Each element in the Exponentially-weighted Covariance matrix is calculated as follows.\n",
    "\n",
    "First, we calculate the series of covariances for every observation time $t$ between each two elements $i$ and $j$:\n",
    "\n",
    "$$CovarSeries_{i,j}^{t} = (R_{i}^{t} - Mean(R_{i})) * (R_{j}^{t} - Mean(R_{j}))$$\n",
    "\n",
    "Then we apply the exponential weighted moving average based on the obtained series with decay in terms of span, as $\\alpha=\\frac{2}{span+1}$, for $span \\ge 1$\n",
    "\n",
    "$$ExponentialCovariance_{i,j} = ExponentialWeightedMovingAverage(CovarSeries_{i,j})[T]$$\n",
    "\n",
    "So, it's the last element from an exponentially weighted moving average series based on a series of covariances between returns of the corresponding assets. \n",
    "\n",
    "It is used to give greater weight to most relevant observations in computing the covariance."
   ]
  },
  {
   "cell_type": "markdown",
   "metadata": {},
   "source": [
    "### Examples of use"
   ]
  },
  {
   "cell_type": "markdown",
   "metadata": {},
   "source": [
    "We can calculate the Exponential Covariance and compare it to the simple covariance."
   ]
  },
  {
   "cell_type": "code",
   "execution_count": 30,
   "metadata": {},
   "outputs": [
    {
     "name": "stdout",
     "output_type": "stream",
     "text": [
      "The Exponential Covariance matrix is:\n"
     ]
    },
    {
     "name": "stderr",
     "output_type": "stream",
     "text": [
      "/home/ahura/Financial Economics Project 1/Estimators/codes/risk_estimators.py:332: RuntimeWarning: data is not in a dataframe\n",
      "  warnings.warn(\"data is not in a dataframe\", RuntimeWarning)\n"
     ]
    },
    {
     "data": {
      "text/html": [
       "<div>\n",
       "<style scoped>\n",
       "    .dataframe tbody tr th:only-of-type {\n",
       "        vertical-align: middle;\n",
       "    }\n",
       "\n",
       "    .dataframe tbody tr th {\n",
       "        vertical-align: top;\n",
       "    }\n",
       "\n",
       "    .dataframe thead th {\n",
       "        text-align: right;\n",
       "    }\n",
       "</style>\n",
       "<table border=\"1\" class=\"dataframe\">\n",
       "  <thead>\n",
       "    <tr style=\"text-align: right;\">\n",
       "      <th></th>\n",
       "      <th>EFA</th>\n",
       "      <th>EEM</th>\n",
       "      <th>TIP</th>\n",
       "      <th>EWG</th>\n",
       "      <th>EWJ</th>\n",
       "    </tr>\n",
       "  </thead>\n",
       "  <tbody>\n",
       "    <tr>\n",
       "      <th>EFA</th>\n",
       "      <td>0.000187</td>\n",
       "      <td>0.000198</td>\n",
       "      <td>-0.000029</td>\n",
       "      <td>0.000268</td>\n",
       "      <td>0.000150</td>\n",
       "    </tr>\n",
       "    <tr>\n",
       "      <th>EEM</th>\n",
       "      <td>0.000198</td>\n",
       "      <td>0.000309</td>\n",
       "      <td>-0.000022</td>\n",
       "      <td>0.000264</td>\n",
       "      <td>0.000163</td>\n",
       "    </tr>\n",
       "    <tr>\n",
       "      <th>TIP</th>\n",
       "      <td>-0.000029</td>\n",
       "      <td>-0.000022</td>\n",
       "      <td>0.000032</td>\n",
       "      <td>-0.000049</td>\n",
       "      <td>-0.000017</td>\n",
       "    </tr>\n",
       "    <tr>\n",
       "      <th>EWG</th>\n",
       "      <td>0.000268</td>\n",
       "      <td>0.000264</td>\n",
       "      <td>-0.000049</td>\n",
       "      <td>0.000438</td>\n",
       "      <td>0.000184</td>\n",
       "    </tr>\n",
       "    <tr>\n",
       "      <th>EWJ</th>\n",
       "      <td>0.000150</td>\n",
       "      <td>0.000163</td>\n",
       "      <td>-0.000017</td>\n",
       "      <td>0.000184</td>\n",
       "      <td>0.000164</td>\n",
       "    </tr>\n",
       "  </tbody>\n",
       "</table>\n",
       "</div>"
      ],
      "text/plain": [
       "          EFA       EEM       TIP       EWG       EWJ\n",
       "EFA  0.000187  0.000198 -0.000029  0.000268  0.000150\n",
       "EEM  0.000198  0.000309 -0.000022  0.000264  0.000163\n",
       "TIP -0.000029 -0.000022  0.000032 -0.000049 -0.000017\n",
       "EWG  0.000268  0.000264 -0.000049  0.000438  0.000184\n",
       "EWJ  0.000150  0.000163 -0.000017  0.000184  0.000164"
      ]
     },
     "execution_count": 30,
     "metadata": {},
     "output_type": "execute_result"
    }
   ],
   "source": [
    "# Finding the Exponential Covariance on price data and span of 60\n",
    "exponential_cov = risk_estimators.exponential_covariance(stock_prices, price_data=True, window_span=60)\n",
    "\n",
    "# Transforming Semi-Covariance from np.array to pd.DataFrame\n",
    "exponential_cov = pd.DataFrame(exponential_cov, index=cov_matrix.index, columns=cov_matrix.columns)\n",
    "\n",
    "print('The Exponential Covariance matrix is:')\n",
    "exponential_cov"
   ]
  },
  {
   "cell_type": "code",
   "execution_count": 31,
   "metadata": {
    "scrolled": true
   },
   "outputs": [
    {
     "name": "stdout",
     "output_type": "stream",
     "text": [
      "The Simple Covariance is:\n"
     ]
    },
    {
     "data": {
      "text/html": [
       "<div>\n",
       "<style scoped>\n",
       "    .dataframe tbody tr th:only-of-type {\n",
       "        vertical-align: middle;\n",
       "    }\n",
       "\n",
       "    .dataframe tbody tr th {\n",
       "        vertical-align: top;\n",
       "    }\n",
       "\n",
       "    .dataframe thead th {\n",
       "        text-align: right;\n",
       "    }\n",
       "</style>\n",
       "<table border=\"1\" class=\"dataframe\">\n",
       "  <thead>\n",
       "    <tr style=\"text-align: right;\">\n",
       "      <th></th>\n",
       "      <th>EFA</th>\n",
       "      <th>EEM</th>\n",
       "      <th>TIP</th>\n",
       "      <th>EWG</th>\n",
       "      <th>EWJ</th>\n",
       "    </tr>\n",
       "  </thead>\n",
       "  <tbody>\n",
       "    <tr>\n",
       "      <th>EFA</th>\n",
       "      <td>0.000183</td>\n",
       "      <td>0.000190</td>\n",
       "      <td>-0.000028</td>\n",
       "      <td>0.000257</td>\n",
       "      <td>0.000142</td>\n",
       "    </tr>\n",
       "    <tr>\n",
       "      <th>EEM</th>\n",
       "      <td>0.000190</td>\n",
       "      <td>0.000290</td>\n",
       "      <td>-0.000020</td>\n",
       "      <td>0.000252</td>\n",
       "      <td>0.000153</td>\n",
       "    </tr>\n",
       "    <tr>\n",
       "      <th>TIP</th>\n",
       "      <td>-0.000028</td>\n",
       "      <td>-0.000020</td>\n",
       "      <td>0.000032</td>\n",
       "      <td>-0.000049</td>\n",
       "      <td>-0.000016</td>\n",
       "    </tr>\n",
       "    <tr>\n",
       "      <th>EWG</th>\n",
       "      <td>0.000257</td>\n",
       "      <td>0.000252</td>\n",
       "      <td>-0.000049</td>\n",
       "      <td>0.000416</td>\n",
       "      <td>0.000170</td>\n",
       "    </tr>\n",
       "    <tr>\n",
       "      <th>EWJ</th>\n",
       "      <td>0.000142</td>\n",
       "      <td>0.000153</td>\n",
       "      <td>-0.000016</td>\n",
       "      <td>0.000170</td>\n",
       "      <td>0.000153</td>\n",
       "    </tr>\n",
       "  </tbody>\n",
       "</table>\n",
       "</div>"
      ],
      "text/plain": [
       "          EFA       EEM       TIP       EWG       EWJ\n",
       "EFA  0.000183  0.000190 -0.000028  0.000257  0.000142\n",
       "EEM  0.000190  0.000290 -0.000020  0.000252  0.000153\n",
       "TIP -0.000028 -0.000020  0.000032 -0.000049 -0.000016\n",
       "EWG  0.000257  0.000252 -0.000049  0.000416  0.000170\n",
       "EWJ  0.000142  0.000153 -0.000016  0.000170  0.000153"
      ]
     },
     "execution_count": 31,
     "metadata": {},
     "output_type": "execute_result"
    }
   ],
   "source": [
    "print('The Simple Covariance is:')\n",
    "cov_matrix"
   ]
  },
  {
   "cell_type": "markdown",
   "metadata": {},
   "source": [
    "From the results it's seen that the variance of the EWG has increased in the last observations, whereas the the variance of the EEM has decreased. The covariance between the EEM and EWJ has decreased in the last observations.\n",
    "\n",
    "So, the covariance with higher weights in the most recent observations can be analyzed in comparison to covariance with equal weights (simple covariance). And the conclusions about how the covariance has changed over time can be drawn."
   ]
  },
  {
   "cell_type": "markdown",
   "metadata": {},
   "source": [
    "## De-noising and De-toning Covariance/Correlation Matrix"
   ]
  },
  {
   "cell_type": "markdown",
   "metadata": {},
   "source": [
    "### Constant Residual Eigenvalue De-noising Method"
   ]
  },
  {
   "cell_type": "markdown",
   "metadata": {},
   "source": [
    "The main idea behind de-noising the covariance matrix is to eliminate the eigenvalues of the covariance matrix that are representing noise and not useful information. \n",
    "\n",
    "This is done by determining the maximum theoretical value of the eigenvalue of such matrix as a threshold and then setting all the calculated eigenvalues below the threshold to the same value.\n",
    "\n",
    "The function provided below for de-noising the covariance works as follows:\n",
    "- The given covariance matrix is transformed to the correlation matrix.\n",
    "\n",
    "- The eigenvalues and eigenvectors of the correlation matrix are calculated.\n",
    "\n",
    "- Using the Kernel Density Estimate algorithm a kernel of the eigenvalues is estimated.\n",
    "\n",
    "- The Marcenko-Pastur pdf is fitted to the KDE using the variance as the parameter for the optimization.\n",
    "\n",
    "- From the obtained Marcenko-Pastur distribution, the maximum theoretical eigenvalue is calculated using the formula from the **Instability caused by noise** part of [A Robust Estimator of the Efficient Frontier paper](https://papers.ssrn.com/sol3/abstract_id=3469961).\n",
    "\n",
    "- The eigenvalues in the set that are below the theoretical value are all set to their average value. For example, we have a set of 5 eigenvalues sorted in the descending order ( $\\lambda_1 ... \\lambda_5$ ), 3 of which are below the maximum theoretical value, then we set\n",
    "\n",
    "$$\\lambda_3^{NEW} = \\lambda_4^{NEW} = \\lambda_5^{NEW} = \\frac{\\lambda_3^{OLD} + \\lambda_4^{OLD} + \\lambda_5^{OLD}}{3}$$\n",
    "\n",
    "- Eigenvalues above the maximum theoretical value are left intact.\n",
    "\n",
    "$$\\lambda_1^{NEW} = \\lambda_1^{OLD}$$\n",
    "\n",
    "$$\\lambda_2^{NEW} = \\lambda_2^{OLD}$$\n",
    "\n",
    "- The new set of eigenvalues with the set of eigenvectors is used to obtain the new de-noised correlation matrix. $\\tilde{C}$ is the de-noised correlation matrix, $W$ is the eigenvectors matrix, and $\\Lambda$ is the diagonal matrix with new eigenvalues.\n",
    "\n",
    "$$\\tilde{C} = W \\Lambda W$$\n",
    "\n",
    "- To rescale $\\tilde{C}$ so that the main diagonal consists of 1s the following transformation is made. This is how the final $C_{denoised}$ is obtained.\n",
    "\n",
    "$$C_{denoised} = \\tilde{C} [(diag[\\tilde{C}])^\\frac{1}{2}(diag[\\tilde{C}])^{\\frac{1}{2}'}]^{-1}$$\n",
    "\n",
    "- The new correlation matrix is then transformed back to the new de-noised covariance matrix.\n",
    "\n",
    "The process of de-noising the covariance matrix is described in a paper by _Potter M._, _J.P. Bouchaud_, _L. Laloux_ __“Financial applications of random matrix theory: Old laces and new pieces.”__  [available here](https://arxiv.org/abs/physics/0507111)."
   ]
  },
  {
   "cell_type": "markdown",
   "metadata": {},
   "source": [
    "**Note: Lopez de Prado suggests that this de-noising algorithm is preferable as it removes the noise while preserving the signal.**"
   ]
  },
  {
   "cell_type": "code",
   "execution_count": 32,
   "metadata": {
    "scrolled": true
   },
   "outputs": [
    {
     "ename": "ValueError",
     "evalue": "Index data must be 1-dimensional",
     "output_type": "error",
     "traceback": [
      "\u001b[0;31m---------------------------------------------------------------------------\u001b[0m",
      "\u001b[0;31mValueError\u001b[0m                                Traceback (most recent call last)",
      "\u001b[1;32m/home/ahura/Financial Economics Project 1/Estimators/codes/RiskEstimators copy.ipynb Cell 57'\u001b[0m in \u001b[0;36m<cell line: 12>\u001b[0;34m()\u001b[0m\n\u001b[1;32m      <a href='vscode-notebook-cell:/home/ahura/Financial%20Economics%20Project%201/Estimators/codes/RiskEstimators%20copy.ipynb#ch0000056?line=8'>9</a>\u001b[0m kde_bwidth \u001b[39m=\u001b[39m \u001b[39m0.01\u001b[39m\n\u001b[1;32m     <a href='vscode-notebook-cell:/home/ahura/Financial%20Economics%20Project%201/Estimators/codes/RiskEstimators%20copy.ipynb#ch0000056?line=10'>11</a>\u001b[0m \u001b[39m# Finding the De-noised Сovariance matrix using the Constant Residual Eigenvalue Method\u001b[39;00m\n\u001b[0;32m---> <a href='vscode-notebook-cell:/home/ahura/Financial%20Economics%20Project%201/Estimators/codes/RiskEstimators%20copy.ipynb#ch0000056?line=11'>12</a>\u001b[0m cov_matrix_denoised \u001b[39m=\u001b[39m risk_estimators\u001b[39m.\u001b[39;49mdenoise_covariance(cov_matrix,\n\u001b[1;32m     <a href='vscode-notebook-cell:/home/ahura/Financial%20Economics%20Project%201/Estimators/codes/RiskEstimators%20copy.ipynb#ch0000056?line=12'>13</a>\u001b[0m                                                          tn_relation,\n\u001b[1;32m     <a href='vscode-notebook-cell:/home/ahura/Financial%20Economics%20Project%201/Estimators/codes/RiskEstimators%20copy.ipynb#ch0000056?line=13'>14</a>\u001b[0m                                                          denoise_method\u001b[39m=\u001b[39;49m\u001b[39m'\u001b[39;49m\u001b[39mconst_resid_eigen\u001b[39;49m\u001b[39m'\u001b[39;49m,\n\u001b[1;32m     <a href='vscode-notebook-cell:/home/ahura/Financial%20Economics%20Project%201/Estimators/codes/RiskEstimators%20copy.ipynb#ch0000056?line=14'>15</a>\u001b[0m                                                          kde_bwidth\u001b[39m=\u001b[39;49mkde_bwidth)\n\u001b[1;32m     <a href='vscode-notebook-cell:/home/ahura/Financial%20Economics%20Project%201/Estimators/codes/RiskEstimators%20copy.ipynb#ch0000056?line=16'>17</a>\u001b[0m \u001b[39m# Transforming De-noised Covariance from np.array to pd.DataFrame\u001b[39;00m\n\u001b[1;32m     <a href='vscode-notebook-cell:/home/ahura/Financial%20Economics%20Project%201/Estimators/codes/RiskEstimators%20copy.ipynb#ch0000056?line=17'>18</a>\u001b[0m cov_matrix_denoised \u001b[39m=\u001b[39m pd\u001b[39m.\u001b[39mDataFrame(cov_matrix_denoised, index\u001b[39m=\u001b[39mcov_matrix\u001b[39m.\u001b[39mindex, columns\u001b[39m=\u001b[39mcov_matrix\u001b[39m.\u001b[39mcolumns)\n",
      "File \u001b[0;32m~/Financial Economics Project 1/Estimators/codes/risk_estimators.py:484\u001b[0m, in \u001b[0;36mRiskEstimators.denoise_covariance\u001b[0;34m(self, cov, tn_relation, denoise_method, detone, market_component, kde_bwidth, alpha)\u001b[0m\n\u001b[1;32m    <a href='file:///home/ahura/Financial%20Economics%20Project%201/Estimators/codes/risk_estimators.py?line=480'>481</a>\u001b[0m e_values, e_vectors \u001b[39m=\u001b[39m \u001b[39mself\u001b[39m\u001b[39m.\u001b[39m_get_pca(corr)\n\u001b[1;32m    <a href='file:///home/ahura/Financial%20Economics%20Project%201/Estimators/codes/risk_estimators.py?line=482'>483</a>\u001b[0m \u001b[39m# TODO: var didnt used???\u001b[39;00m\n\u001b[0;32m--> <a href='file:///home/ahura/Financial%20Economics%20Project%201/Estimators/codes/risk_estimators.py?line=483'>484</a>\u001b[0m e_max, var \u001b[39m=\u001b[39m \u001b[39mself\u001b[39;49m\u001b[39m.\u001b[39;49m_find_max_eval(\n\u001b[1;32m    <a href='file:///home/ahura/Financial%20Economics%20Project%201/Estimators/codes/risk_estimators.py?line=484'>485</a>\u001b[0m     np\u001b[39m.\u001b[39;49mdiag(e_values), tn_relation, kde_bwidth)\n\u001b[1;32m    <a href='file:///home/ahura/Financial%20Economics%20Project%201/Estimators/codes/risk_estimators.py?line=486'>487</a>\u001b[0m num_facts \u001b[39m=\u001b[39m e_values\u001b[39m.\u001b[39mshape[\u001b[39m0\u001b[39m] \u001b[39m-\u001b[39m \\\n\u001b[1;32m    <a href='file:///home/ahura/Financial%20Economics%20Project%201/Estimators/codes/risk_estimators.py?line=487'>488</a>\u001b[0m     np\u001b[39m.\u001b[39mdiag(e_values)[:, :, \u001b[39m-\u001b[39m\u001b[39m1\u001b[39m]\u001b[39m.\u001b[39msearchsorted(e_max)\n\u001b[1;32m    <a href='file:///home/ahura/Financial%20Economics%20Project%201/Estimators/codes/risk_estimators.py?line=489'>490</a>\u001b[0m \u001b[39mif\u001b[39;00m denoise_method \u001b[39m==\u001b[39m \u001b[39m\"\u001b[39m\u001b[39mconst_resid_eigen\u001b[39m\u001b[39m\"\u001b[39m:\n\u001b[1;32m    <a href='file:///home/ahura/Financial%20Economics%20Project%201/Estimators/codes/risk_estimators.py?line=490'>491</a>\u001b[0m     \u001b[39m# missing parameter\u001b[39;00m\n",
      "File \u001b[0;32m~/Financial Economics Project 1/Estimators/codes/risk_estimators.py:677\u001b[0m, in \u001b[0;36mRiskEstimators._find_max_eval\u001b[0;34m(self, eigen_observations, tn_relation, kde_bwidth)\u001b[0m\n\u001b[1;32m    <a href='file:///home/ahura/Financial%20Economics%20Project%201/Estimators/codes/risk_estimators.py?line=663'>664</a>\u001b[0m \u001b[39mdef\u001b[39;00m \u001b[39m_find_max_eval\u001b[39m(\u001b[39mself\u001b[39m, eigen_observations, tn_relation, kde_bwidth):\n\u001b[1;32m    <a href='file:///home/ahura/Financial%20Economics%20Project%201/Estimators/codes/risk_estimators.py?line=664'>665</a>\u001b[0m     \u001b[39m\"\"\"\u001b[39;00m\n\u001b[1;32m    <a href='file:///home/ahura/Financial%20Economics%20Project%201/Estimators/codes/risk_estimators.py?line=665'>666</a>\u001b[0m \u001b[39m    Searching for maximum random eigenvalue by fitting Marcenko-Pastur distribution\u001b[39;00m\n\u001b[1;32m    <a href='file:///home/ahura/Financial%20Economics%20Project%201/Estimators/codes/risk_estimators.py?line=666'>667</a>\u001b[0m \u001b[39m    to the empirical one - obtained through kernel density estimation. The fit is done by\u001b[39;00m\n\u001b[0;32m   (...)\u001b[0m\n\u001b[1;32m    <a href='file:///home/ahura/Financial%20Economics%20Project%201/Estimators/codes/risk_estimators.py?line=673'>674</a>\u001b[0m \u001b[39m    :return: (float, float) Maximum random eigenvalue, optimal variation of the Marcenko-Pastur distribution.\u001b[39;00m\n\u001b[1;32m    <a href='file:///home/ahura/Financial%20Economics%20Project%201/Estimators/codes/risk_estimators.py?line=674'>675</a>\u001b[0m \u001b[39m    \"\"\"\u001b[39;00m\n\u001b[0;32m--> <a href='file:///home/ahura/Financial%20Economics%20Project%201/Estimators/codes/risk_estimators.py?line=676'>677</a>\u001b[0m     out \u001b[39m=\u001b[39m minimize(\u001b[39mlambda\u001b[39;49;00m \u001b[39m*\u001b[39;49mx: \u001b[39mself\u001b[39;49m\u001b[39m.\u001b[39;49m_pdf_fit(\u001b[39m*\u001b[39;49mx),\n\u001b[1;32m    <a href='file:///home/ahura/Financial%20Economics%20Project%201/Estimators/codes/risk_estimators.py?line=677'>678</a>\u001b[0m                    \u001b[39m0.5\u001b[39;49m,\n\u001b[1;32m    <a href='file:///home/ahura/Financial%20Economics%20Project%201/Estimators/codes/risk_estimators.py?line=678'>679</a>\u001b[0m                    args\u001b[39m=\u001b[39;49m(eigen_observations, tn_relation, kde_bwidth),\n\u001b[1;32m    <a href='file:///home/ahura/Financial%20Economics%20Project%201/Estimators/codes/risk_estimators.py?line=679'>680</a>\u001b[0m                 \u001b[39m#    bounds=((1e-5, 1 - 1e-5,))\u001b[39;49;00m\n\u001b[1;32m    <a href='file:///home/ahura/Financial%20Economics%20Project%201/Estimators/codes/risk_estimators.py?line=680'>681</a>\u001b[0m                    bounds\u001b[39m=\u001b[39;49m((\u001b[39m1E-5\u001b[39;49m,\u001b[39m1\u001b[39;49m\u001b[39m-\u001b[39;49m\u001b[39m1E-5\u001b[39;49m),))\n\u001b[1;32m    <a href='file:///home/ahura/Financial%20Economics%20Project%201/Estimators/codes/risk_estimators.py?line=682'>683</a>\u001b[0m     \u001b[39mif\u001b[39;00m out[\u001b[39m'\u001b[39m\u001b[39msuccess\u001b[39m\u001b[39m'\u001b[39m]:\n\u001b[1;32m    <a href='file:///home/ahura/Financial%20Economics%20Project%201/Estimators/codes/risk_estimators.py?line=683'>684</a>\u001b[0m         var \u001b[39m=\u001b[39m out[\u001b[39m'\u001b[39m\u001b[39mx\u001b[39m\u001b[39m'\u001b[39m][\u001b[39m0\u001b[39m]\n",
      "File \u001b[0;32m~/anaconda3/envs/DataEnvPIP/lib/python3.8/site-packages/scipy/optimize/_minimize.py:681\u001b[0m, in \u001b[0;36mminimize\u001b[0;34m(fun, x0, args, method, jac, hess, hessp, bounds, constraints, tol, callback, options)\u001b[0m\n\u001b[1;32m    <a href='file:///home/ahura/anaconda3/envs/DataEnvPIP/lib/python3.8/site-packages/scipy/optimize/_minimize.py?line=677'>678</a>\u001b[0m     res \u001b[39m=\u001b[39m _minimize_newtoncg(fun, x0, args, jac, hess, hessp, callback,\n\u001b[1;32m    <a href='file:///home/ahura/anaconda3/envs/DataEnvPIP/lib/python3.8/site-packages/scipy/optimize/_minimize.py?line=678'>679</a>\u001b[0m                              \u001b[39m*\u001b[39m\u001b[39m*\u001b[39moptions)\n\u001b[1;32m    <a href='file:///home/ahura/anaconda3/envs/DataEnvPIP/lib/python3.8/site-packages/scipy/optimize/_minimize.py?line=679'>680</a>\u001b[0m \u001b[39melif\u001b[39;00m meth \u001b[39m==\u001b[39m \u001b[39m'\u001b[39m\u001b[39ml-bfgs-b\u001b[39m\u001b[39m'\u001b[39m:\n\u001b[0;32m--> <a href='file:///home/ahura/anaconda3/envs/DataEnvPIP/lib/python3.8/site-packages/scipy/optimize/_minimize.py?line=680'>681</a>\u001b[0m     res \u001b[39m=\u001b[39m _minimize_lbfgsb(fun, x0, args, jac, bounds,\n\u001b[1;32m    <a href='file:///home/ahura/anaconda3/envs/DataEnvPIP/lib/python3.8/site-packages/scipy/optimize/_minimize.py?line=681'>682</a>\u001b[0m                            callback\u001b[39m=\u001b[39;49mcallback, \u001b[39m*\u001b[39;49m\u001b[39m*\u001b[39;49moptions)\n\u001b[1;32m    <a href='file:///home/ahura/anaconda3/envs/DataEnvPIP/lib/python3.8/site-packages/scipy/optimize/_minimize.py?line=682'>683</a>\u001b[0m \u001b[39melif\u001b[39;00m meth \u001b[39m==\u001b[39m \u001b[39m'\u001b[39m\u001b[39mtnc\u001b[39m\u001b[39m'\u001b[39m:\n\u001b[1;32m    <a href='file:///home/ahura/anaconda3/envs/DataEnvPIP/lib/python3.8/site-packages/scipy/optimize/_minimize.py?line=683'>684</a>\u001b[0m     res \u001b[39m=\u001b[39m _minimize_tnc(fun, x0, args, jac, bounds, callback\u001b[39m=\u001b[39mcallback,\n\u001b[1;32m    <a href='file:///home/ahura/anaconda3/envs/DataEnvPIP/lib/python3.8/site-packages/scipy/optimize/_minimize.py?line=684'>685</a>\u001b[0m                         \u001b[39m*\u001b[39m\u001b[39m*\u001b[39moptions)\n",
      "File \u001b[0;32m~/anaconda3/envs/DataEnvPIP/lib/python3.8/site-packages/scipy/optimize/_lbfgsb_py.py:308\u001b[0m, in \u001b[0;36m_minimize_lbfgsb\u001b[0;34m(fun, x0, args, jac, bounds, disp, maxcor, ftol, gtol, eps, maxfun, maxiter, iprint, callback, maxls, finite_diff_rel_step, **unknown_options)\u001b[0m\n\u001b[1;32m    <a href='file:///home/ahura/anaconda3/envs/DataEnvPIP/lib/python3.8/site-packages/scipy/optimize/_lbfgsb_py.py?line=304'>305</a>\u001b[0m     \u001b[39melse\u001b[39;00m:\n\u001b[1;32m    <a href='file:///home/ahura/anaconda3/envs/DataEnvPIP/lib/python3.8/site-packages/scipy/optimize/_lbfgsb_py.py?line=305'>306</a>\u001b[0m         iprint \u001b[39m=\u001b[39m disp\n\u001b[0;32m--> <a href='file:///home/ahura/anaconda3/envs/DataEnvPIP/lib/python3.8/site-packages/scipy/optimize/_lbfgsb_py.py?line=307'>308</a>\u001b[0m sf \u001b[39m=\u001b[39m _prepare_scalar_function(fun, x0, jac\u001b[39m=\u001b[39;49mjac, args\u001b[39m=\u001b[39;49margs, epsilon\u001b[39m=\u001b[39;49meps,\n\u001b[1;32m    <a href='file:///home/ahura/anaconda3/envs/DataEnvPIP/lib/python3.8/site-packages/scipy/optimize/_lbfgsb_py.py?line=308'>309</a>\u001b[0m                               bounds\u001b[39m=\u001b[39;49mnew_bounds,\n\u001b[1;32m    <a href='file:///home/ahura/anaconda3/envs/DataEnvPIP/lib/python3.8/site-packages/scipy/optimize/_lbfgsb_py.py?line=309'>310</a>\u001b[0m                               finite_diff_rel_step\u001b[39m=\u001b[39;49mfinite_diff_rel_step)\n\u001b[1;32m    <a href='file:///home/ahura/anaconda3/envs/DataEnvPIP/lib/python3.8/site-packages/scipy/optimize/_lbfgsb_py.py?line=311'>312</a>\u001b[0m func_and_grad \u001b[39m=\u001b[39m sf\u001b[39m.\u001b[39mfun_and_grad\n\u001b[1;32m    <a href='file:///home/ahura/anaconda3/envs/DataEnvPIP/lib/python3.8/site-packages/scipy/optimize/_lbfgsb_py.py?line=313'>314</a>\u001b[0m fortran_int \u001b[39m=\u001b[39m _lbfgsb\u001b[39m.\u001b[39mtypes\u001b[39m.\u001b[39mintvar\u001b[39m.\u001b[39mdtype\n",
      "File \u001b[0;32m~/anaconda3/envs/DataEnvPIP/lib/python3.8/site-packages/scipy/optimize/_optimize.py:263\u001b[0m, in \u001b[0;36m_prepare_scalar_function\u001b[0;34m(fun, x0, jac, args, bounds, epsilon, finite_diff_rel_step, hess)\u001b[0m\n\u001b[1;32m    <a href='file:///home/ahura/anaconda3/envs/DataEnvPIP/lib/python3.8/site-packages/scipy/optimize/_optimize.py?line=258'>259</a>\u001b[0m     bounds \u001b[39m=\u001b[39m (\u001b[39m-\u001b[39mnp\u001b[39m.\u001b[39minf, np\u001b[39m.\u001b[39minf)\n\u001b[1;32m    <a href='file:///home/ahura/anaconda3/envs/DataEnvPIP/lib/python3.8/site-packages/scipy/optimize/_optimize.py?line=260'>261</a>\u001b[0m \u001b[39m# ScalarFunction caches. Reuse of fun(x) during grad\u001b[39;00m\n\u001b[1;32m    <a href='file:///home/ahura/anaconda3/envs/DataEnvPIP/lib/python3.8/site-packages/scipy/optimize/_optimize.py?line=261'>262</a>\u001b[0m \u001b[39m# calculation reduces overall function evaluations.\u001b[39;00m\n\u001b[0;32m--> <a href='file:///home/ahura/anaconda3/envs/DataEnvPIP/lib/python3.8/site-packages/scipy/optimize/_optimize.py?line=262'>263</a>\u001b[0m sf \u001b[39m=\u001b[39m ScalarFunction(fun, x0, args, grad, hess,\n\u001b[1;32m    <a href='file:///home/ahura/anaconda3/envs/DataEnvPIP/lib/python3.8/site-packages/scipy/optimize/_optimize.py?line=263'>264</a>\u001b[0m                     finite_diff_rel_step, bounds, epsilon\u001b[39m=\u001b[39;49mepsilon)\n\u001b[1;32m    <a href='file:///home/ahura/anaconda3/envs/DataEnvPIP/lib/python3.8/site-packages/scipy/optimize/_optimize.py?line=265'>266</a>\u001b[0m \u001b[39mreturn\u001b[39;00m sf\n",
      "File \u001b[0;32m~/anaconda3/envs/DataEnvPIP/lib/python3.8/site-packages/scipy/optimize/_differentiable_functions.py:158\u001b[0m, in \u001b[0;36mScalarFunction.__init__\u001b[0;34m(self, fun, x0, args, grad, hess, finite_diff_rel_step, finite_diff_bounds, epsilon)\u001b[0m\n\u001b[1;32m    <a href='file:///home/ahura/anaconda3/envs/DataEnvPIP/lib/python3.8/site-packages/scipy/optimize/_differentiable_functions.py?line=154'>155</a>\u001b[0m     \u001b[39mself\u001b[39m\u001b[39m.\u001b[39mf \u001b[39m=\u001b[39m fun_wrapped(\u001b[39mself\u001b[39m\u001b[39m.\u001b[39mx)\n\u001b[1;32m    <a href='file:///home/ahura/anaconda3/envs/DataEnvPIP/lib/python3.8/site-packages/scipy/optimize/_differentiable_functions.py?line=156'>157</a>\u001b[0m \u001b[39mself\u001b[39m\u001b[39m.\u001b[39m_update_fun_impl \u001b[39m=\u001b[39m update_fun\n\u001b[0;32m--> <a href='file:///home/ahura/anaconda3/envs/DataEnvPIP/lib/python3.8/site-packages/scipy/optimize/_differentiable_functions.py?line=157'>158</a>\u001b[0m \u001b[39mself\u001b[39;49m\u001b[39m.\u001b[39;49m_update_fun()\n\u001b[1;32m    <a href='file:///home/ahura/anaconda3/envs/DataEnvPIP/lib/python3.8/site-packages/scipy/optimize/_differentiable_functions.py?line=159'>160</a>\u001b[0m \u001b[39m# Gradient evaluation\u001b[39;00m\n\u001b[1;32m    <a href='file:///home/ahura/anaconda3/envs/DataEnvPIP/lib/python3.8/site-packages/scipy/optimize/_differentiable_functions.py?line=160'>161</a>\u001b[0m \u001b[39mif\u001b[39;00m callable(grad):\n",
      "File \u001b[0;32m~/anaconda3/envs/DataEnvPIP/lib/python3.8/site-packages/scipy/optimize/_differentiable_functions.py:251\u001b[0m, in \u001b[0;36mScalarFunction._update_fun\u001b[0;34m(self)\u001b[0m\n\u001b[1;32m    <a href='file:///home/ahura/anaconda3/envs/DataEnvPIP/lib/python3.8/site-packages/scipy/optimize/_differentiable_functions.py?line=248'>249</a>\u001b[0m \u001b[39mdef\u001b[39;00m \u001b[39m_update_fun\u001b[39m(\u001b[39mself\u001b[39m):\n\u001b[1;32m    <a href='file:///home/ahura/anaconda3/envs/DataEnvPIP/lib/python3.8/site-packages/scipy/optimize/_differentiable_functions.py?line=249'>250</a>\u001b[0m     \u001b[39mif\u001b[39;00m \u001b[39mnot\u001b[39;00m \u001b[39mself\u001b[39m\u001b[39m.\u001b[39mf_updated:\n\u001b[0;32m--> <a href='file:///home/ahura/anaconda3/envs/DataEnvPIP/lib/python3.8/site-packages/scipy/optimize/_differentiable_functions.py?line=250'>251</a>\u001b[0m         \u001b[39mself\u001b[39;49m\u001b[39m.\u001b[39;49m_update_fun_impl()\n\u001b[1;32m    <a href='file:///home/ahura/anaconda3/envs/DataEnvPIP/lib/python3.8/site-packages/scipy/optimize/_differentiable_functions.py?line=251'>252</a>\u001b[0m         \u001b[39mself\u001b[39m\u001b[39m.\u001b[39mf_updated \u001b[39m=\u001b[39m \u001b[39mTrue\u001b[39;00m\n",
      "File \u001b[0;32m~/anaconda3/envs/DataEnvPIP/lib/python3.8/site-packages/scipy/optimize/_differentiable_functions.py:155\u001b[0m, in \u001b[0;36mScalarFunction.__init__.<locals>.update_fun\u001b[0;34m()\u001b[0m\n\u001b[1;32m    <a href='file:///home/ahura/anaconda3/envs/DataEnvPIP/lib/python3.8/site-packages/scipy/optimize/_differentiable_functions.py?line=153'>154</a>\u001b[0m \u001b[39mdef\u001b[39;00m \u001b[39mupdate_fun\u001b[39m():\n\u001b[0;32m--> <a href='file:///home/ahura/anaconda3/envs/DataEnvPIP/lib/python3.8/site-packages/scipy/optimize/_differentiable_functions.py?line=154'>155</a>\u001b[0m     \u001b[39mself\u001b[39m\u001b[39m.\u001b[39mf \u001b[39m=\u001b[39m fun_wrapped(\u001b[39mself\u001b[39;49m\u001b[39m.\u001b[39;49mx)\n",
      "File \u001b[0;32m~/anaconda3/envs/DataEnvPIP/lib/python3.8/site-packages/scipy/optimize/_differentiable_functions.py:137\u001b[0m, in \u001b[0;36mScalarFunction.__init__.<locals>.fun_wrapped\u001b[0;34m(x)\u001b[0m\n\u001b[1;32m    <a href='file:///home/ahura/anaconda3/envs/DataEnvPIP/lib/python3.8/site-packages/scipy/optimize/_differentiable_functions.py?line=132'>133</a>\u001b[0m \u001b[39mself\u001b[39m\u001b[39m.\u001b[39mnfev \u001b[39m+\u001b[39m\u001b[39m=\u001b[39m \u001b[39m1\u001b[39m\n\u001b[1;32m    <a href='file:///home/ahura/anaconda3/envs/DataEnvPIP/lib/python3.8/site-packages/scipy/optimize/_differentiable_functions.py?line=133'>134</a>\u001b[0m \u001b[39m# Send a copy because the user may overwrite it.\u001b[39;00m\n\u001b[1;32m    <a href='file:///home/ahura/anaconda3/envs/DataEnvPIP/lib/python3.8/site-packages/scipy/optimize/_differentiable_functions.py?line=134'>135</a>\u001b[0m \u001b[39m# Overwriting results in undefined behaviour because\u001b[39;00m\n\u001b[1;32m    <a href='file:///home/ahura/anaconda3/envs/DataEnvPIP/lib/python3.8/site-packages/scipy/optimize/_differentiable_functions.py?line=135'>136</a>\u001b[0m \u001b[39m# fun(self.x) will change self.x, with the two no longer linked.\u001b[39;00m\n\u001b[0;32m--> <a href='file:///home/ahura/anaconda3/envs/DataEnvPIP/lib/python3.8/site-packages/scipy/optimize/_differentiable_functions.py?line=136'>137</a>\u001b[0m fx \u001b[39m=\u001b[39m fun(np\u001b[39m.\u001b[39;49mcopy(x), \u001b[39m*\u001b[39;49margs)\n\u001b[1;32m    <a href='file:///home/ahura/anaconda3/envs/DataEnvPIP/lib/python3.8/site-packages/scipy/optimize/_differentiable_functions.py?line=137'>138</a>\u001b[0m \u001b[39m# Make sure the function returns a true scalar\u001b[39;00m\n\u001b[1;32m    <a href='file:///home/ahura/anaconda3/envs/DataEnvPIP/lib/python3.8/site-packages/scipy/optimize/_differentiable_functions.py?line=138'>139</a>\u001b[0m \u001b[39mif\u001b[39;00m \u001b[39mnot\u001b[39;00m np\u001b[39m.\u001b[39misscalar(fx):\n",
      "File \u001b[0;32m~/Financial Economics Project 1/Estimators/codes/risk_estimators.py:677\u001b[0m, in \u001b[0;36mRiskEstimators._find_max_eval.<locals>.<lambda>\u001b[0;34m(*x)\u001b[0m\n\u001b[1;32m    <a href='file:///home/ahura/Financial%20Economics%20Project%201/Estimators/codes/risk_estimators.py?line=663'>664</a>\u001b[0m \u001b[39mdef\u001b[39;00m \u001b[39m_find_max_eval\u001b[39m(\u001b[39mself\u001b[39m, eigen_observations, tn_relation, kde_bwidth):\n\u001b[1;32m    <a href='file:///home/ahura/Financial%20Economics%20Project%201/Estimators/codes/risk_estimators.py?line=664'>665</a>\u001b[0m     \u001b[39m\"\"\"\u001b[39;00m\n\u001b[1;32m    <a href='file:///home/ahura/Financial%20Economics%20Project%201/Estimators/codes/risk_estimators.py?line=665'>666</a>\u001b[0m \u001b[39m    Searching for maximum random eigenvalue by fitting Marcenko-Pastur distribution\u001b[39;00m\n\u001b[1;32m    <a href='file:///home/ahura/Financial%20Economics%20Project%201/Estimators/codes/risk_estimators.py?line=666'>667</a>\u001b[0m \u001b[39m    to the empirical one - obtained through kernel density estimation. The fit is done by\u001b[39;00m\n\u001b[0;32m   (...)\u001b[0m\n\u001b[1;32m    <a href='file:///home/ahura/Financial%20Economics%20Project%201/Estimators/codes/risk_estimators.py?line=673'>674</a>\u001b[0m \u001b[39m    :return: (float, float) Maximum random eigenvalue, optimal variation of the Marcenko-Pastur distribution.\u001b[39;00m\n\u001b[1;32m    <a href='file:///home/ahura/Financial%20Economics%20Project%201/Estimators/codes/risk_estimators.py?line=674'>675</a>\u001b[0m \u001b[39m    \"\"\"\u001b[39;00m\n\u001b[0;32m--> <a href='file:///home/ahura/Financial%20Economics%20Project%201/Estimators/codes/risk_estimators.py?line=676'>677</a>\u001b[0m     out \u001b[39m=\u001b[39m minimize(\u001b[39mlambda\u001b[39;00m \u001b[39m*\u001b[39mx: \u001b[39mself\u001b[39;49m\u001b[39m.\u001b[39;49m_pdf_fit(\u001b[39m*\u001b[39;49mx),\n\u001b[1;32m    <a href='file:///home/ahura/Financial%20Economics%20Project%201/Estimators/codes/risk_estimators.py?line=677'>678</a>\u001b[0m                    \u001b[39m0.5\u001b[39m,\n\u001b[1;32m    <a href='file:///home/ahura/Financial%20Economics%20Project%201/Estimators/codes/risk_estimators.py?line=678'>679</a>\u001b[0m                    args\u001b[39m=\u001b[39m(eigen_observations, tn_relation, kde_bwidth),\n\u001b[1;32m    <a href='file:///home/ahura/Financial%20Economics%20Project%201/Estimators/codes/risk_estimators.py?line=679'>680</a>\u001b[0m                 \u001b[39m#    bounds=((1e-5, 1 - 1e-5,))\u001b[39;00m\n\u001b[1;32m    <a href='file:///home/ahura/Financial%20Economics%20Project%201/Estimators/codes/risk_estimators.py?line=680'>681</a>\u001b[0m                    bounds\u001b[39m=\u001b[39m((\u001b[39m1E-5\u001b[39m,\u001b[39m1\u001b[39m\u001b[39m-\u001b[39m\u001b[39m1E-5\u001b[39m),))\n\u001b[1;32m    <a href='file:///home/ahura/Financial%20Economics%20Project%201/Estimators/codes/risk_estimators.py?line=682'>683</a>\u001b[0m     \u001b[39mif\u001b[39;00m out[\u001b[39m'\u001b[39m\u001b[39msuccess\u001b[39m\u001b[39m'\u001b[39m]:\n\u001b[1;32m    <a href='file:///home/ahura/Financial%20Economics%20Project%201/Estimators/codes/risk_estimators.py?line=683'>684</a>\u001b[0m         var \u001b[39m=\u001b[39m out[\u001b[39m'\u001b[39m\u001b[39mx\u001b[39m\u001b[39m'\u001b[39m][\u001b[39m0\u001b[39m]\n",
      "File \u001b[0;32m~/Financial Economics Project 1/Estimators/codes/risk_estimators.py:654\u001b[0m, in \u001b[0;36mRiskEstimators._pdf_fit\u001b[0;34m(self, var, eigen_observations, tn_relation, kde_bwidth, num_points)\u001b[0m\n\u001b[1;32m    <a href='file:///home/ahura/Financial%20Economics%20Project%201/Estimators/codes/risk_estimators.py?line=635'>636</a>\u001b[0m \u001b[39m\"\"\"\u001b[39;00m\n\u001b[1;32m    <a href='file:///home/ahura/Financial%20Economics%20Project%201/Estimators/codes/risk_estimators.py?line=636'>637</a>\u001b[0m \u001b[39mCalculates the fit (Sum of Squared estimate of Errors) of the empirical pdf\u001b[39;00m\n\u001b[1;32m    <a href='file:///home/ahura/Financial%20Economics%20Project%201/Estimators/codes/risk_estimators.py?line=637'>638</a>\u001b[0m \u001b[39m(kernel density estimation) to the theoretical pdf (Marcenko-Pastur distribution).\u001b[39;00m\n\u001b[0;32m   (...)\u001b[0m\n\u001b[1;32m    <a href='file:///home/ahura/Financial%20Economics%20Project%201/Estimators/codes/risk_estimators.py?line=647'>648</a>\u001b[0m \u001b[39m:return: (float) SSE between empirical pdf and theoretical pdf.\u001b[39;00m\n\u001b[1;32m    <a href='file:///home/ahura/Financial%20Economics%20Project%201/Estimators/codes/risk_estimators.py?line=648'>649</a>\u001b[0m \u001b[39m\"\"\"\u001b[39;00m\n\u001b[1;32m    <a href='file:///home/ahura/Financial%20Economics%20Project%201/Estimators/codes/risk_estimators.py?line=650'>651</a>\u001b[0m \u001b[39m# 2.4\u001b[39;00m\n\u001b[1;32m    <a href='file:///home/ahura/Financial%20Economics%20Project%201/Estimators/codes/risk_estimators.py?line=651'>652</a>\u001b[0m \n\u001b[1;32m    <a href='file:///home/ahura/Financial%20Economics%20Project%201/Estimators/codes/risk_estimators.py?line=652'>653</a>\u001b[0m \u001b[39m# theoretical pdf\u001b[39;00m\n\u001b[0;32m--> <a href='file:///home/ahura/Financial%20Economics%20Project%201/Estimators/codes/risk_estimators.py?line=653'>654</a>\u001b[0m pdf_0 \u001b[39m=\u001b[39m RiskEstimators\u001b[39m.\u001b[39;49m_mp_pdf(var, tn_relation, num_points)\n\u001b[1;32m    <a href='file:///home/ahura/Financial%20Economics%20Project%201/Estimators/codes/risk_estimators.py?line=655'>656</a>\u001b[0m \u001b[39m# emprical pdf\u001b[39;00m\n\u001b[1;32m    <a href='file:///home/ahura/Financial%20Economics%20Project%201/Estimators/codes/risk_estimators.py?line=656'>657</a>\u001b[0m pdf_1 \u001b[39m=\u001b[39m RiskEstimators\u001b[39m.\u001b[39m_fit_kde(\n\u001b[1;32m    <a href='file:///home/ahura/Financial%20Economics%20Project%201/Estimators/codes/risk_estimators.py?line=657'>658</a>\u001b[0m     eigen_observations, kde_bwidth, eval_points\u001b[39m=\u001b[39mpdf_0\u001b[39m.\u001b[39mindex\u001b[39m.\u001b[39mvalues)\n",
      "File \u001b[0;32m~/Financial Economics Project 1/Estimators/codes/risk_estimators.py:632\u001b[0m, in \u001b[0;36mRiskEstimators._mp_pdf\u001b[0;34m(var, tn_relation, num_points)\u001b[0m\n\u001b[1;32m    <a href='file:///home/ahura/Financial%20Economics%20Project%201/Estimators/codes/risk_estimators.py?line=627'>628</a>\u001b[0m e_values \u001b[39m=\u001b[39m np\u001b[39m.\u001b[39mlinspace(e_min, e_max, num_points)\n\u001b[1;32m    <a href='file:///home/ahura/Financial%20Economics%20Project%201/Estimators/codes/risk_estimators.py?line=629'>630</a>\u001b[0m pdf \u001b[39m=\u001b[39m q \u001b[39m/\u001b[39m (\u001b[39m2\u001b[39m \u001b[39m*\u001b[39m np\u001b[39m.\u001b[39mpi \u001b[39m*\u001b[39m var \u001b[39m*\u001b[39m e_values) \u001b[39m*\u001b[39m \\\n\u001b[1;32m    <a href='file:///home/ahura/Financial%20Economics%20Project%201/Estimators/codes/risk_estimators.py?line=630'>631</a>\u001b[0m     ((e_max \u001b[39m-\u001b[39m e_values) \u001b[39m*\u001b[39m (e_values \u001b[39m-\u001b[39m e_min)) \u001b[39m*\u001b[39m\u001b[39m*\u001b[39m \u001b[39m0.5\u001b[39m\n\u001b[0;32m--> <a href='file:///home/ahura/Financial%20Economics%20Project%201/Estimators/codes/risk_estimators.py?line=631'>632</a>\u001b[0m pdf \u001b[39m=\u001b[39m pd\u001b[39m.\u001b[39;49mSeries(pdf, index\u001b[39m=\u001b[39;49me_values)\n\u001b[1;32m    <a href='file:///home/ahura/Financial%20Economics%20Project%201/Estimators/codes/risk_estimators.py?line=632'>633</a>\u001b[0m \u001b[39mreturn\u001b[39;00m pdf\n",
      "File \u001b[0;32m~/anaconda3/envs/DataEnvPIP/lib/python3.8/site-packages/pandas/core/series.py:380\u001b[0m, in \u001b[0;36mSeries.__init__\u001b[0;34m(self, data, index, dtype, name, copy, fastpath)\u001b[0m\n\u001b[1;32m    <a href='file:///home/ahura/anaconda3/envs/DataEnvPIP/lib/python3.8/site-packages/pandas/core/series.py?line=375'>376</a>\u001b[0m     \u001b[39m# uncomment the line below when removing the FutureWarning\u001b[39;00m\n\u001b[1;32m    <a href='file:///home/ahura/anaconda3/envs/DataEnvPIP/lib/python3.8/site-packages/pandas/core/series.py?line=376'>377</a>\u001b[0m     \u001b[39m# dtype = np.dtype(object)\u001b[39;00m\n\u001b[1;32m    <a href='file:///home/ahura/anaconda3/envs/DataEnvPIP/lib/python3.8/site-packages/pandas/core/series.py?line=378'>379</a>\u001b[0m \u001b[39mif\u001b[39;00m index \u001b[39mis\u001b[39;00m \u001b[39mnot\u001b[39;00m \u001b[39mNone\u001b[39;00m:\n\u001b[0;32m--> <a href='file:///home/ahura/anaconda3/envs/DataEnvPIP/lib/python3.8/site-packages/pandas/core/series.py?line=379'>380</a>\u001b[0m     index \u001b[39m=\u001b[39m ensure_index(index)\n\u001b[1;32m    <a href='file:///home/ahura/anaconda3/envs/DataEnvPIP/lib/python3.8/site-packages/pandas/core/series.py?line=381'>382</a>\u001b[0m \u001b[39mif\u001b[39;00m data \u001b[39mis\u001b[39;00m \u001b[39mNone\u001b[39;00m:\n\u001b[1;32m    <a href='file:///home/ahura/anaconda3/envs/DataEnvPIP/lib/python3.8/site-packages/pandas/core/series.py?line=382'>383</a>\u001b[0m     data \u001b[39m=\u001b[39m {}\n",
      "File \u001b[0;32m~/anaconda3/envs/DataEnvPIP/lib/python3.8/site-packages/pandas/core/indexes/base.py:7043\u001b[0m, in \u001b[0;36mensure_index\u001b[0;34m(index_like, copy)\u001b[0m\n\u001b[1;32m   <a href='file:///home/ahura/anaconda3/envs/DataEnvPIP/lib/python3.8/site-packages/pandas/core/indexes/base.py?line=7040'>7041</a>\u001b[0m         \u001b[39mreturn\u001b[39;00m Index\u001b[39m.\u001b[39m_with_infer(index_like, copy\u001b[39m=\u001b[39mcopy, tupleize_cols\u001b[39m=\u001b[39m\u001b[39mFalse\u001b[39;00m)\n\u001b[1;32m   <a href='file:///home/ahura/anaconda3/envs/DataEnvPIP/lib/python3.8/site-packages/pandas/core/indexes/base.py?line=7041'>7042</a>\u001b[0m \u001b[39melse\u001b[39;00m:\n\u001b[0;32m-> <a href='file:///home/ahura/anaconda3/envs/DataEnvPIP/lib/python3.8/site-packages/pandas/core/indexes/base.py?line=7042'>7043</a>\u001b[0m     \u001b[39mreturn\u001b[39;00m Index\u001b[39m.\u001b[39;49m_with_infer(index_like, copy\u001b[39m=\u001b[39;49mcopy)\n",
      "File \u001b[0;32m~/anaconda3/envs/DataEnvPIP/lib/python3.8/site-packages/pandas/core/indexes/base.py:680\u001b[0m, in \u001b[0;36mIndex._with_infer\u001b[0;34m(cls, *args, **kwargs)\u001b[0m\n\u001b[1;32m    <a href='file:///home/ahura/anaconda3/envs/DataEnvPIP/lib/python3.8/site-packages/pandas/core/indexes/base.py?line=677'>678</a>\u001b[0m \u001b[39mwith\u001b[39;00m warnings\u001b[39m.\u001b[39mcatch_warnings():\n\u001b[1;32m    <a href='file:///home/ahura/anaconda3/envs/DataEnvPIP/lib/python3.8/site-packages/pandas/core/indexes/base.py?line=678'>679</a>\u001b[0m     warnings\u001b[39m.\u001b[39mfilterwarnings(\u001b[39m\"\u001b[39m\u001b[39mignore\u001b[39m\u001b[39m\"\u001b[39m, \u001b[39m\"\u001b[39m\u001b[39m.*the Index constructor\u001b[39m\u001b[39m\"\u001b[39m, \u001b[39mFutureWarning\u001b[39;00m)\n\u001b[0;32m--> <a href='file:///home/ahura/anaconda3/envs/DataEnvPIP/lib/python3.8/site-packages/pandas/core/indexes/base.py?line=679'>680</a>\u001b[0m     result \u001b[39m=\u001b[39m \u001b[39mcls\u001b[39;49m(\u001b[39m*\u001b[39;49margs, \u001b[39m*\u001b[39;49m\u001b[39m*\u001b[39;49mkwargs)\n\u001b[1;32m    <a href='file:///home/ahura/anaconda3/envs/DataEnvPIP/lib/python3.8/site-packages/pandas/core/indexes/base.py?line=681'>682</a>\u001b[0m \u001b[39mif\u001b[39;00m result\u001b[39m.\u001b[39mdtype \u001b[39m==\u001b[39m _dtype_obj \u001b[39mand\u001b[39;00m \u001b[39mnot\u001b[39;00m result\u001b[39m.\u001b[39m_is_multi:\n\u001b[1;32m    <a href='file:///home/ahura/anaconda3/envs/DataEnvPIP/lib/python3.8/site-packages/pandas/core/indexes/base.py?line=682'>683</a>\u001b[0m     \u001b[39m# error: Argument 1 to \"maybe_convert_objects\" has incompatible type\u001b[39;00m\n\u001b[1;32m    <a href='file:///home/ahura/anaconda3/envs/DataEnvPIP/lib/python3.8/site-packages/pandas/core/indexes/base.py?line=683'>684</a>\u001b[0m     \u001b[39m# \"Union[ExtensionArray, ndarray[Any, Any]]\"; expected\u001b[39;00m\n\u001b[1;32m    <a href='file:///home/ahura/anaconda3/envs/DataEnvPIP/lib/python3.8/site-packages/pandas/core/indexes/base.py?line=684'>685</a>\u001b[0m     \u001b[39m# \"ndarray[Any, Any]\"\u001b[39;00m\n\u001b[1;32m    <a href='file:///home/ahura/anaconda3/envs/DataEnvPIP/lib/python3.8/site-packages/pandas/core/indexes/base.py?line=685'>686</a>\u001b[0m     values \u001b[39m=\u001b[39m lib\u001b[39m.\u001b[39mmaybe_convert_objects(result\u001b[39m.\u001b[39m_values)  \u001b[39m# type: ignore[arg-type]\u001b[39;00m\n",
      "File \u001b[0;32m~/anaconda3/envs/DataEnvPIP/lib/python3.8/site-packages/pandas/core/indexes/base.py:503\u001b[0m, in \u001b[0;36mIndex.__new__\u001b[0;34m(cls, data, dtype, copy, name, tupleize_cols, **kwargs)\u001b[0m\n\u001b[1;32m    <a href='file:///home/ahura/anaconda3/envs/DataEnvPIP/lib/python3.8/site-packages/pandas/core/indexes/base.py?line=499'>500</a>\u001b[0m             \u001b[39mreturn\u001b[39;00m \u001b[39mcls\u001b[39m(arr, dtype, copy\u001b[39m=\u001b[39mcopy, name\u001b[39m=\u001b[39mname, \u001b[39m*\u001b[39m\u001b[39m*\u001b[39mkwargs)\n\u001b[1;32m    <a href='file:///home/ahura/anaconda3/envs/DataEnvPIP/lib/python3.8/site-packages/pandas/core/indexes/base.py?line=501'>502</a>\u001b[0m klass \u001b[39m=\u001b[39m \u001b[39mcls\u001b[39m\u001b[39m.\u001b[39m_dtype_to_subclass(arr\u001b[39m.\u001b[39mdtype)\n\u001b[0;32m--> <a href='file:///home/ahura/anaconda3/envs/DataEnvPIP/lib/python3.8/site-packages/pandas/core/indexes/base.py?line=502'>503</a>\u001b[0m arr \u001b[39m=\u001b[39m klass\u001b[39m.\u001b[39;49m_ensure_array(arr, dtype, copy)\n\u001b[1;32m    <a href='file:///home/ahura/anaconda3/envs/DataEnvPIP/lib/python3.8/site-packages/pandas/core/indexes/base.py?line=503'>504</a>\u001b[0m disallow_kwargs(kwargs)\n\u001b[1;32m    <a href='file:///home/ahura/anaconda3/envs/DataEnvPIP/lib/python3.8/site-packages/pandas/core/indexes/base.py?line=504'>505</a>\u001b[0m \u001b[39mreturn\u001b[39;00m klass\u001b[39m.\u001b[39m_simple_new(arr, name)\n",
      "File \u001b[0;32m~/anaconda3/envs/DataEnvPIP/lib/python3.8/site-packages/pandas/core/indexes/numeric.py:183\u001b[0m, in \u001b[0;36mNumericIndex._ensure_array\u001b[0;34m(cls, data, dtype, copy)\u001b[0m\n\u001b[1;32m    <a href='file:///home/ahura/anaconda3/envs/DataEnvPIP/lib/python3.8/site-packages/pandas/core/indexes/numeric.py?line=178'>179</a>\u001b[0m     subarr \u001b[39m=\u001b[39m data\n\u001b[1;32m    <a href='file:///home/ahura/anaconda3/envs/DataEnvPIP/lib/python3.8/site-packages/pandas/core/indexes/numeric.py?line=180'>181</a>\u001b[0m \u001b[39mif\u001b[39;00m subarr\u001b[39m.\u001b[39mndim \u001b[39m>\u001b[39m \u001b[39m1\u001b[39m:\n\u001b[1;32m    <a href='file:///home/ahura/anaconda3/envs/DataEnvPIP/lib/python3.8/site-packages/pandas/core/indexes/numeric.py?line=181'>182</a>\u001b[0m     \u001b[39m# GH#13601, GH#20285, GH#27125\u001b[39;00m\n\u001b[0;32m--> <a href='file:///home/ahura/anaconda3/envs/DataEnvPIP/lib/python3.8/site-packages/pandas/core/indexes/numeric.py?line=182'>183</a>\u001b[0m     \u001b[39mraise\u001b[39;00m \u001b[39mValueError\u001b[39;00m(\u001b[39m\"\u001b[39m\u001b[39mIndex data must be 1-dimensional\u001b[39m\u001b[39m\"\u001b[39m)\n\u001b[1;32m    <a href='file:///home/ahura/anaconda3/envs/DataEnvPIP/lib/python3.8/site-packages/pandas/core/indexes/numeric.py?line=184'>185</a>\u001b[0m subarr \u001b[39m=\u001b[39m np\u001b[39m.\u001b[39masarray(subarr)\n\u001b[1;32m    <a href='file:///home/ahura/anaconda3/envs/DataEnvPIP/lib/python3.8/site-packages/pandas/core/indexes/numeric.py?line=185'>186</a>\u001b[0m \u001b[39mreturn\u001b[39;00m subarr\n",
      "\u001b[0;31mValueError\u001b[0m: Index data must be 1-dimensional"
     ]
    }
   ],
   "source": [
    "# Setting the required parameters for de-noising\n",
    "\n",
    "# Relation of number of observations T to the number of variables N (T/N)\n",
    "\n",
    "T, N = stock_prices.shape\n",
    "tn_relation = T / N\n",
    "\n",
    "# The bandwidth of the KDE kernel\n",
    "kde_bwidth = 0.01\n",
    "\n",
    "# Finding the De-noised Сovariance matrix using the Constant Residual Eigenvalue Method\n",
    "cov_matrix_denoised = risk_estimators.denoise_covariance(cov_matrix,\n",
    "                                                         tn_relation,\n",
    "                                                         denoise_method='const_resid_eigen',\n",
    "                                                         kde_bwidth=kde_bwidth)\n",
    "\n",
    "# Transforming De-noised Covariance from np.array to pd.DataFrame\n",
    "cov_matrix_denoised = pd.DataFrame(cov_matrix_denoised, index=cov_matrix.index, columns=cov_matrix.columns)\n",
    "\n",
    "# Outputting the result\n",
    "print('CRE De-noised Сovariance matrix')\n",
    "cov_matrix_denoised"
   ]
  },
  {
   "cell_type": "code",
   "execution_count": null,
   "metadata": {},
   "outputs": [
    {
     "name": "stdout",
     "output_type": "stream",
     "text": [
      "The Simple Covariance is:\n"
     ]
    },
    {
     "data": {
      "text/html": [
       "<div>\n",
       "<style scoped>\n",
       "    .dataframe tbody tr th:only-of-type {\n",
       "        vertical-align: middle;\n",
       "    }\n",
       "\n",
       "    .dataframe tbody tr th {\n",
       "        vertical-align: top;\n",
       "    }\n",
       "\n",
       "    .dataframe thead th {\n",
       "        text-align: right;\n",
       "    }\n",
       "</style>\n",
       "<table border=\"1\" class=\"dataframe\">\n",
       "  <thead>\n",
       "    <tr style=\"text-align: right;\">\n",
       "      <th></th>\n",
       "      <th>EEM</th>\n",
       "      <th>EWG</th>\n",
       "      <th>TIP</th>\n",
       "      <th>EWJ</th>\n",
       "      <th>EFA</th>\n",
       "    </tr>\n",
       "  </thead>\n",
       "  <tbody>\n",
       "    <tr>\n",
       "      <th>EEM</th>\n",
       "      <td>0.000466</td>\n",
       "      <td>0.000350</td>\n",
       "      <td>-0.000017</td>\n",
       "      <td>0.000255</td>\n",
       "      <td>0.000324</td>\n",
       "    </tr>\n",
       "    <tr>\n",
       "      <th>EWG</th>\n",
       "      <td>0.000350</td>\n",
       "      <td>0.000372</td>\n",
       "      <td>-0.000015</td>\n",
       "      <td>0.000221</td>\n",
       "      <td>0.000303</td>\n",
       "    </tr>\n",
       "    <tr>\n",
       "      <th>TIP</th>\n",
       "      <td>-0.000017</td>\n",
       "      <td>-0.000015</td>\n",
       "      <td>0.000019</td>\n",
       "      <td>-0.000009</td>\n",
       "      <td>-0.000012</td>\n",
       "    </tr>\n",
       "    <tr>\n",
       "      <th>EWJ</th>\n",
       "      <td>0.000255</td>\n",
       "      <td>0.000221</td>\n",
       "      <td>-0.000009</td>\n",
       "      <td>0.000232</td>\n",
       "      <td>0.000218</td>\n",
       "    </tr>\n",
       "    <tr>\n",
       "      <th>EFA</th>\n",
       "      <td>0.000324</td>\n",
       "      <td>0.000303</td>\n",
       "      <td>-0.000012</td>\n",
       "      <td>0.000218</td>\n",
       "      <td>0.000278</td>\n",
       "    </tr>\n",
       "  </tbody>\n",
       "</table>\n",
       "</div>"
      ],
      "text/plain": [
       "          EEM       EWG       TIP       EWJ       EFA\n",
       "EEM  0.000466  0.000350 -0.000017  0.000255  0.000324\n",
       "EWG  0.000350  0.000372 -0.000015  0.000221  0.000303\n",
       "TIP -0.000017 -0.000015  0.000019 -0.000009 -0.000012\n",
       "EWJ  0.000255  0.000221 -0.000009  0.000232  0.000218\n",
       "EFA  0.000324  0.000303 -0.000012  0.000218  0.000278"
      ]
     },
     "execution_count": 17,
     "metadata": {},
     "output_type": "execute_result"
    }
   ],
   "source": [
    "print('The Simple Covariance is:')\n",
    "cov_matrix"
   ]
  },
  {
   "cell_type": "markdown",
   "metadata": {},
   "source": [
    "As we can see, the main diagonal hasn't changed, but the other covariances are different. This means that the algorithm has changed the eigenvalues of the correlation matrix."
   ]
  },
  {
   "cell_type": "markdown",
   "metadata": {},
   "source": [
    "### Spectral Clustering De-noising Method"
   ]
  },
  {
   "cell_type": "markdown",
   "metadata": {},
   "source": [
    "The main idea behind spectral clustering is to remove the noise-related eigenvalues from an empirical correlation matrix, the method in which this is achieved is similar to the Constant Residual Eigenvalue de-noising method, the only difference is that instead of setting the eigenvalues which are below the theoretical value to their average value, they are set to zero in an attempt to remove the effects of those eigenvalues that are consistent with the null hypothesis of uncorrelated random variables.\n",
    "\n",
    "Let us consider $n$ independent random variables with finite variance and $T$ records each. Random matrix\n",
    "theory allows to prove that in the $\\lim\\limits_{n \\to \\infty} T$, with a fixed ratio $Q = T/n \\geq 1$, the\n",
    "eigenvalues of the sample correlation matrix cannot be larger than\n",
    "\n",
    "$$ \\lambda_{max} = \\sigma^2(1 + \\frac{1}{Q} + 2\\sqrt{\\frac{1}{Q}})$$\n",
    "\n",
    "where $\\sigma^2 = 1$ for correlation matrices, once achieved we set any eignevalues above this threshold to $0$.\n",
    "For example, we have a set of 5 eigenvalues sorted in the descending order ( $\\lambda_1$ ... $\\lambda_5$ ),\n",
    "3 of which are below the maximum theoretical value, then we set\n",
    "\n",
    "$$ \\lambda_3^{NEW} = \\lambda_4^{NEW} = \\lambda_5^{NEW} = 0$$\n",
    "\n",
    "We can use this method by setting the denoise_method parameter to 'spectral'."
   ]
  },
  {
   "cell_type": "code",
   "execution_count": null,
   "metadata": {},
   "outputs": [
    {
     "name": "stdout",
     "output_type": "stream",
     "text": [
      "The Spectral Clustering De-noised Сovariance matrix is:\n"
     ]
    },
    {
     "data": {
      "text/html": [
       "<div>\n",
       "<style scoped>\n",
       "    .dataframe tbody tr th:only-of-type {\n",
       "        vertical-align: middle;\n",
       "    }\n",
       "\n",
       "    .dataframe tbody tr th {\n",
       "        vertical-align: top;\n",
       "    }\n",
       "\n",
       "    .dataframe thead th {\n",
       "        text-align: right;\n",
       "    }\n",
       "</style>\n",
       "<table border=\"1\" class=\"dataframe\">\n",
       "  <thead>\n",
       "    <tr style=\"text-align: right;\">\n",
       "      <th></th>\n",
       "      <th>EEM</th>\n",
       "      <th>EWG</th>\n",
       "      <th>TIP</th>\n",
       "      <th>EWJ</th>\n",
       "      <th>EFA</th>\n",
       "    </tr>\n",
       "  </thead>\n",
       "  <tbody>\n",
       "    <tr>\n",
       "      <th>EEM</th>\n",
       "      <td>0.000466</td>\n",
       "      <td>0.000416</td>\n",
       "      <td>-0.000095</td>\n",
       "      <td>0.000329</td>\n",
       "      <td>0.000360</td>\n",
       "    </tr>\n",
       "    <tr>\n",
       "      <th>EWG</th>\n",
       "      <td>0.000416</td>\n",
       "      <td>0.000372</td>\n",
       "      <td>-0.000085</td>\n",
       "      <td>0.000294</td>\n",
       "      <td>0.000322</td>\n",
       "    </tr>\n",
       "    <tr>\n",
       "      <th>TIP</th>\n",
       "      <td>-0.000095</td>\n",
       "      <td>-0.000085</td>\n",
       "      <td>0.000019</td>\n",
       "      <td>-0.000067</td>\n",
       "      <td>-0.000073</td>\n",
       "    </tr>\n",
       "    <tr>\n",
       "      <th>EWJ</th>\n",
       "      <td>0.000329</td>\n",
       "      <td>0.000294</td>\n",
       "      <td>-0.000067</td>\n",
       "      <td>0.000232</td>\n",
       "      <td>0.000254</td>\n",
       "    </tr>\n",
       "    <tr>\n",
       "      <th>EFA</th>\n",
       "      <td>0.000360</td>\n",
       "      <td>0.000322</td>\n",
       "      <td>-0.000073</td>\n",
       "      <td>0.000254</td>\n",
       "      <td>0.000278</td>\n",
       "    </tr>\n",
       "  </tbody>\n",
       "</table>\n",
       "</div>"
      ],
      "text/plain": [
       "          EEM       EWG       TIP       EWJ       EFA\n",
       "EEM  0.000466  0.000416 -0.000095  0.000329  0.000360\n",
       "EWG  0.000416  0.000372 -0.000085  0.000294  0.000322\n",
       "TIP -0.000095 -0.000085  0.000019 -0.000067 -0.000073\n",
       "EWJ  0.000329  0.000294 -0.000067  0.000232  0.000254\n",
       "EFA  0.000360  0.000322 -0.000073  0.000254  0.000278"
      ]
     },
     "execution_count": 18,
     "metadata": {},
     "output_type": "execute_result"
    }
   ],
   "source": [
    "# Finding the De-noised Сovariance matrix using the Spectral Clustering De-noising Method\n",
    "cov_matrix_spectral = risk_estimators.denoise_covariance(cov_matrix, tn_relation, denoise_method='spectral')\n",
    "\n",
    "# Transforming De-noised Covariance from np.array to pd.DataFrame\n",
    "cov_matrix_spectral = pd.DataFrame(cov_matrix_spectral, index=cov_matrix.index, columns=cov_matrix.columns)\n",
    "\n",
    "# Outputting the result\n",
    "print('The Spectral Clustering De-noised Сovariance matrix is:')\n",
    "cov_matrix_spectral"
   ]
  },
  {
   "cell_type": "markdown",
   "metadata": {},
   "source": [
    "### Targeted Shrinkage De-noising Method"
   ]
  },
  {
   "cell_type": "markdown",
   "metadata": {},
   "source": [
    "PortfolioLab also has the Targeted Shrinkage de-noising method available to users. The main idea behind the Targeted Shrinkage de-noising method is to\n",
    "shrink the eigenvectors/eigenvalues that are noise-related. This is done by shrinking the correlation matrix calculated from noise-related eigenvectors/eigenvalues and then adding the correlation matrix composed from signal-related eigenvectors/eigenvalues.\n",
    "\n",
    "The de-noising function works as follows:\n",
    "\n",
    "- The given covariance matrix is transformed to the correlation matrix.\n",
    "\n",
    "- The eigenvalues and eigenvectors of the correlation matrix are calculated and sorted in the descending order.\n",
    "\n",
    "- Using the Kernel Density Estimate algorithm a kernel of the eigenvalues is estimated.\n",
    "\n",
    "- The Marcenko-Pastur pdf is fitted to the KDE estimate using the variance as the parameter for the optimization.\n",
    "\n",
    "- From the obtained Marcenko-Pastur distribution, the maximum theoretical eigenvalue is calculated using the formula\n",
    "  from the **Instability caused by noise** part of [A Robust Estimator of the Efficient Frontier paper](https://papers.ssrn.com/sol3/abstract_id=3469961).\n",
    "\n",
    "- The correlation matrix composed from eigenvectors and eigenvalues related to noise (eigenvalues below the maximum\n",
    "  theoretical eigenvalue) is shrunk using the $\\alpha$ variable.\n",
    "\n",
    "$$C_n = \\alpha W_n \\Lambda_n W_n' + (1 - \\alpha) diag[W_n \\Lambda_n W_n']$$\n",
    "\n",
    "- The shrinked noise correlation matrix is summed to the information correlation matrix.\n",
    "\n",
    "$$C_i = W_i \\Lambda_i W_i'$$\n",
    "\n",
    "$$C_{denoised} = C_n + C_i$$\n",
    "\n",
    "- The new correlation matrix is then transformed back to the new de-noised covariance matrix.\n",
    "\n",
    "We can use this method by setting the denoise_method parameter to 'target_shrink'."
   ]
  },
  {
   "cell_type": "code",
   "execution_count": null,
   "metadata": {},
   "outputs": [
    {
     "name": "stdout",
     "output_type": "stream",
     "text": [
      "Shrinkage De-noised Сovariance matrix\n"
     ]
    },
    {
     "data": {
      "text/html": [
       "<div>\n",
       "<style scoped>\n",
       "    .dataframe tbody tr th:only-of-type {\n",
       "        vertical-align: middle;\n",
       "    }\n",
       "\n",
       "    .dataframe tbody tr th {\n",
       "        vertical-align: top;\n",
       "    }\n",
       "\n",
       "    .dataframe thead th {\n",
       "        text-align: right;\n",
       "    }\n",
       "</style>\n",
       "<table border=\"1\" class=\"dataframe\">\n",
       "  <thead>\n",
       "    <tr style=\"text-align: right;\">\n",
       "      <th></th>\n",
       "      <th>EEM</th>\n",
       "      <th>EWG</th>\n",
       "      <th>TIP</th>\n",
       "      <th>EWJ</th>\n",
       "      <th>EFA</th>\n",
       "    </tr>\n",
       "  </thead>\n",
       "  <tbody>\n",
       "    <tr>\n",
       "      <th>EEM</th>\n",
       "      <td>0.000466</td>\n",
       "      <td>0.000358</td>\n",
       "      <td>-0.000019</td>\n",
       "      <td>0.000265</td>\n",
       "      <td>0.000328</td>\n",
       "    </tr>\n",
       "    <tr>\n",
       "      <th>EWG</th>\n",
       "      <td>0.000358</td>\n",
       "      <td>0.000372</td>\n",
       "      <td>-0.000017</td>\n",
       "      <td>0.000234</td>\n",
       "      <td>0.000300</td>\n",
       "    </tr>\n",
       "    <tr>\n",
       "      <th>TIP</th>\n",
       "      <td>-0.000019</td>\n",
       "      <td>-0.000017</td>\n",
       "      <td>0.000019</td>\n",
       "      <td>-0.000012</td>\n",
       "      <td>-0.000015</td>\n",
       "    </tr>\n",
       "    <tr>\n",
       "      <th>EWJ</th>\n",
       "      <td>0.000265</td>\n",
       "      <td>0.000234</td>\n",
       "      <td>-0.000012</td>\n",
       "      <td>0.000232</td>\n",
       "      <td>0.000221</td>\n",
       "    </tr>\n",
       "    <tr>\n",
       "      <th>EFA</th>\n",
       "      <td>0.000328</td>\n",
       "      <td>0.000300</td>\n",
       "      <td>-0.000015</td>\n",
       "      <td>0.000221</td>\n",
       "      <td>0.000278</td>\n",
       "    </tr>\n",
       "  </tbody>\n",
       "</table>\n",
       "</div>"
      ],
      "text/plain": [
       "          EEM       EWG       TIP       EWJ       EFA\n",
       "EEM  0.000466  0.000358 -0.000019  0.000265  0.000328\n",
       "EWG  0.000358  0.000372 -0.000017  0.000234  0.000300\n",
       "TIP -0.000019 -0.000017  0.000019 -0.000012 -0.000015\n",
       "EWJ  0.000265  0.000234 -0.000012  0.000232  0.000221\n",
       "EFA  0.000328  0.000300 -0.000015  0.000221  0.000278"
      ]
     },
     "execution_count": 19,
     "metadata": {},
     "output_type": "execute_result"
    }
   ],
   "source": [
    "# Finding the De-noised Сovariance matrix using the Targeted Shrinkage Method assuming alpha is 0.5\n",
    "cov_matrix_target_denoised = risk_estimators.denoise_covariance(cov_matrix, tn_relation, denoise_method='target_shrink', kde_bwidth=kde_bwidth, alpha=0.5)\n",
    "\n",
    "# Transforming De-noised Covariance from np.array to pd.DataFrame\n",
    "cov_matrix_target_denoised = pd.DataFrame(cov_matrix_target_denoised, index=cov_matrix.index, columns=cov_matrix.columns)\n",
    "\n",
    "# Outputting the result\n",
    "print('Shrinkage De-noised Сovariance matrix')\n",
    "cov_matrix_target_denoised"
   ]
  },
  {
   "cell_type": "markdown",
   "metadata": {},
   "source": [
    "The results of this de-noising method are the same as for the previous method for this particular example, however, they may differ when used on other datasets."
   ]
  },
  {
   "cell_type": "markdown",
   "metadata": {},
   "source": [
    "### Hierarchical Clustering De-noising Method"
   ]
  },
  {
   "cell_type": "markdown",
   "metadata": {},
   "source": [
    "Hierarchical Clustering, unlike K-means Clustering, does not create multiple clusters of identical size, nor does it\n",
    "require a pre-defined number of clusters. Of the two different types of hierarchical clustering - Agglomerative and\n",
    "Divisive - Agglomerative, or bottom-up clustering is used here.\n",
    "\n",
    "Agglomerative Clustering assigns each observation to its own individual cluster before iteratively joining the two\n",
    "most similar clusters. This process repeats until only a singular cluster remains.\n",
    "\n",
    "Given a positive empirical correlation matrix, $C$ generated using $n$ features, the procedure given below\n",
    "returns as an output a rooted tree and a filtered correlation matrix $C^<$ of elements $c^<_{ij}$.\n",
    "\n",
    "First, set $C = C^<$. \n",
    "\n",
    "Then, beginning with the most highly correlated features (clusters) $h$ and $k \\in C$ and the correlation\n",
    "between them, $c_{hk}$, one sets the elements $c^<_{ij} = c^<_{ji} = c_{hk}$.\n",
    "\n",
    "The matrix $C^<$ is then redefined such that:\n",
    "\n",
    "$$\\begin{cases} c^<_{qj} = f(c^<_{hj}, c^<_{kj}) & where \\ j \\notin h \\ and \\ j \\notin k \\\\ c^<_{ij} = c^<_{ij} & otherwise \\end{cases}$$\n",
    "\n",
    "where $f(c^<_{hj}, c^<_{kj})$ is any distance metric. In effect, merging the clusters $h$ and $k$.\n",
    "These steps are then completed for the next two most similar clusters, and are repeated for a total\n",
    "of $n-1$ iterations; until only a single cluster remains.\n",
    "\n",
    "There are a few methods to use with Hierarchical Clustering for calculating the distance metric, here are 3 of them:\n",
    "\n",
    "- **Single** $d(u,v) = min(dist(u[i], v[j]))$ for all points $i$ in cluster $u$ and $j$ in cluster $v$. This is also known as the Nearest Point Algorithm.\n",
    "\n",
    "- **Complete** $d(u,v) = max(dist(u[i], v[j]))$ for all points $i$ in cluster $u$ and $j$ in cluster $v$. This is also known by the Farthest Point Algorithm or Voor Hees Algorithm\n",
    "\n",
    "- **Average** $d(u,v) = \\displaystyle\\sum_{ij} \\frac{d(u[i], v[j])}{|u| * |v|}$ for all points $i$ in cluster $|u|$ and $|j|$ in cluster $u$ and $v$, respectively. This is also called the UPGMA algorithm.\n",
    "\n",
    "We can use this method by setting the Hierarchical Clustering method parameter to one of the available methods."
   ]
  },
  {
   "cell_type": "code",
   "execution_count": null,
   "metadata": {},
   "outputs": [
    {
     "name": "stdout",
     "output_type": "stream",
     "text": [
      "The Hierarchical Clustering De-noised Correlation matrix is:\n"
     ]
    },
    {
     "data": {
      "text/html": [
       "<div>\n",
       "<style scoped>\n",
       "    .dataframe tbody tr th:only-of-type {\n",
       "        vertical-align: middle;\n",
       "    }\n",
       "\n",
       "    .dataframe tbody tr th {\n",
       "        vertical-align: top;\n",
       "    }\n",
       "\n",
       "    .dataframe thead th {\n",
       "        text-align: right;\n",
       "    }\n",
       "</style>\n",
       "<table border=\"1\" class=\"dataframe\">\n",
       "  <thead>\n",
       "    <tr style=\"text-align: right;\">\n",
       "      <th></th>\n",
       "      <th>EEM</th>\n",
       "      <th>EWG</th>\n",
       "      <th>TIP</th>\n",
       "      <th>EWJ</th>\n",
       "      <th>EFA</th>\n",
       "    </tr>\n",
       "  </thead>\n",
       "  <tbody>\n",
       "    <tr>\n",
       "      <th>EEM</th>\n",
       "      <td>1.000000</td>\n",
       "      <td>0.446184</td>\n",
       "      <td>0.446184</td>\n",
       "      <td>0.446184</td>\n",
       "      <td>0.617114</td>\n",
       "    </tr>\n",
       "    <tr>\n",
       "      <th>EWG</th>\n",
       "      <td>0.446184</td>\n",
       "      <td>1.000000</td>\n",
       "      <td>0.298430</td>\n",
       "      <td>0.298430</td>\n",
       "      <td>0.617114</td>\n",
       "    </tr>\n",
       "    <tr>\n",
       "      <th>TIP</th>\n",
       "      <td>0.446184</td>\n",
       "      <td>0.298430</td>\n",
       "      <td>1.000000</td>\n",
       "      <td>0.017605</td>\n",
       "      <td>0.617114</td>\n",
       "    </tr>\n",
       "    <tr>\n",
       "      <th>EWJ</th>\n",
       "      <td>0.446184</td>\n",
       "      <td>0.298430</td>\n",
       "      <td>0.017605</td>\n",
       "      <td>1.000000</td>\n",
       "      <td>0.617114</td>\n",
       "    </tr>\n",
       "    <tr>\n",
       "      <th>EFA</th>\n",
       "      <td>0.617114</td>\n",
       "      <td>0.617114</td>\n",
       "      <td>0.617114</td>\n",
       "      <td>0.617114</td>\n",
       "      <td>1.000000</td>\n",
       "    </tr>\n",
       "  </tbody>\n",
       "</table>\n",
       "</div>"
      ],
      "text/plain": [
       "          EEM       EWG       TIP       EWJ       EFA\n",
       "EEM  1.000000  0.446184  0.446184  0.446184  0.617114\n",
       "EWG  0.446184  1.000000  0.298430  0.298430  0.617114\n",
       "TIP  0.446184  0.298430  1.000000  0.017605  0.617114\n",
       "EWJ  0.446184  0.298430  0.017605  1.000000  0.617114\n",
       "EFA  0.617114  0.617114  0.617114  0.617114  1.000000"
      ]
     },
     "execution_count": 20,
     "metadata": {},
     "output_type": "execute_result"
    }
   ],
   "source": [
    "# Getting the Empirical Correlation matrix from the Covariance matrix\n",
    "empirical_corr = risk_estimators.cov_to_corr(empirical_cov ** 2) # Matrix must be positive definite.\n",
    "\n",
    "# Finding the De-noised Сorrelation matrix using the Hierarchical Clustering De-noising Average Method\n",
    "corr_matrix_hierarchical = risk_estimators.filter_corr_hierarchical(empirical_corr.to_numpy(), method='average', draw_plot=False)\n",
    "\n",
    "# Transforming De-noised Covariance from np.array to pd.DataFrame\n",
    "corr_matrix_hierarchical = pd.DataFrame(corr_matrix_hierarchical, index=cov_matrix.index, columns=cov_matrix.columns)\n",
    "\n",
    "# Outputting the result\n",
    "print('The Hierarchical Clustering De-noised Correlation matrix is:')\n",
    "corr_matrix_hierarchical"
   ]
  },
  {
   "cell_type": "markdown",
   "metadata": {},
   "source": [
    "### De-toning"
   ]
  },
  {
   "cell_type": "markdown",
   "metadata": {},
   "source": [
    "De-noised correlation matrix from the previous methods can also be de-toned by excluding a number of first\n",
    "eigenvectors representing the market component.\n",
    "\n",
    "According to Lopez de Prado:\n",
    "\n",
    "\"Financial correlation matrices usually incorporate a market component. The market component is characterized by the\n",
    "first eigenvector, with loadings $W_{n,1} \\approx N^{-\\frac{1}{2}}, n = 1, ..., N.$\n",
    "Accordingly, a market component affects every item of the covariance matrix. In the context of clustering\n",
    "applications, it is useful to remove the market component, if it exists (a hypothesis that can be\n",
    "tested statistically).\"\n",
    "\n",
    "\"By removing the market component, we allow a greater portion of the correlation to be explained\n",
    "by components that affect specific subsets of the securities. It is similar to removing a loud tone\n",
    "that prevents us from hearing other sounds\"\n",
    "\n",
    "\"The detoned correlation matrix is singular, as a result of eliminating (at least) one eigenvector.\n",
    "This is not a problem for clustering applications, as most approaches do not require the invertibility\n",
    "of the correlation matrix. Still, **a detoned correlation matrix** $C_{detoned}$ **cannot be used directly for**\n",
    "**mean-variance portfolio optimization**.\"\n",
    "\n",
    "The de-toning function works as follows:\n",
    "\n",
    "- De-toning is applied on the de-noised correlation matrix.\n",
    "\n",
    "- The correlation matrix representing the market component is calculated from market component eigenvectors and eigenvalues\n",
    "  and then subtracted from the de-noised correlation matrix. This way the de-toned correlation matrix is obtained.\n",
    "  \n",
    "$$\\hat{C} = C_{denoised} - W_m \\Lambda_m W_m'$$\n",
    "\n",
    "- De-toned correlation matrix $\\hat{C}$ is then rescaled so that the main diagonal consists of 1s\n",
    "\n",
    "$$C_{detoned} = \\hat{C} [(diag[\\hat{C}])^\\frac{1}{2}(diag[\\hat{C}])^{\\frac{1}{2}'}]^{-1}$$\n",
    "\n",
    "We can use de-toning setting the detone parameter to True."
   ]
  },
  {
   "cell_type": "code",
   "execution_count": null,
   "metadata": {},
   "outputs": [
    {
     "name": "stdout",
     "output_type": "stream",
     "text": [
      "The De-toned Сovariance matrix is:\n"
     ]
    },
    {
     "data": {
      "text/html": [
       "<div>\n",
       "<style scoped>\n",
       "    .dataframe tbody tr th:only-of-type {\n",
       "        vertical-align: middle;\n",
       "    }\n",
       "\n",
       "    .dataframe tbody tr th {\n",
       "        vertical-align: top;\n",
       "    }\n",
       "\n",
       "    .dataframe thead th {\n",
       "        text-align: right;\n",
       "    }\n",
       "</style>\n",
       "<table border=\"1\" class=\"dataframe\">\n",
       "  <thead>\n",
       "    <tr style=\"text-align: right;\">\n",
       "      <th></th>\n",
       "      <th>EEM</th>\n",
       "      <th>EWG</th>\n",
       "      <th>TIP</th>\n",
       "      <th>EWJ</th>\n",
       "      <th>EFA</th>\n",
       "    </tr>\n",
       "  </thead>\n",
       "  <tbody>\n",
       "    <tr>\n",
       "      <th>EEM</th>\n",
       "      <td>0.000466</td>\n",
       "      <td>-0.000108</td>\n",
       "      <td>0.000022</td>\n",
       "      <td>-0.000089</td>\n",
       "      <td>-0.000089</td>\n",
       "    </tr>\n",
       "    <tr>\n",
       "      <th>EWG</th>\n",
       "      <td>-0.000108</td>\n",
       "      <td>0.000372</td>\n",
       "      <td>0.000020</td>\n",
       "      <td>-0.000079</td>\n",
       "      <td>-0.000079</td>\n",
       "    </tr>\n",
       "    <tr>\n",
       "      <th>TIP</th>\n",
       "      <td>0.000022</td>\n",
       "      <td>0.000020</td>\n",
       "      <td>0.000019</td>\n",
       "      <td>0.000016</td>\n",
       "      <td>0.000018</td>\n",
       "    </tr>\n",
       "    <tr>\n",
       "      <th>EWJ</th>\n",
       "      <td>-0.000089</td>\n",
       "      <td>-0.000079</td>\n",
       "      <td>0.000016</td>\n",
       "      <td>0.000232</td>\n",
       "      <td>-0.000066</td>\n",
       "    </tr>\n",
       "    <tr>\n",
       "      <th>EFA</th>\n",
       "      <td>-0.000089</td>\n",
       "      <td>-0.000079</td>\n",
       "      <td>0.000018</td>\n",
       "      <td>-0.000066</td>\n",
       "      <td>0.000278</td>\n",
       "    </tr>\n",
       "  </tbody>\n",
       "</table>\n",
       "</div>"
      ],
      "text/plain": [
       "          EEM       EWG       TIP       EWJ       EFA\n",
       "EEM  0.000466 -0.000108  0.000022 -0.000089 -0.000089\n",
       "EWG -0.000108  0.000372  0.000020 -0.000079 -0.000079\n",
       "TIP  0.000022  0.000020  0.000019  0.000016  0.000018\n",
       "EWJ -0.000089 -0.000079  0.000016  0.000232 -0.000066\n",
       "EFA -0.000089 -0.000079  0.000018 -0.000066  0.000278"
      ]
     },
     "execution_count": 21,
     "metadata": {},
     "output_type": "execute_result"
    }
   ],
   "source": [
    "# Finding the De-toned Сovariance matrix assuming the market component is 1\n",
    "cov_matrix_detoned = risk_estimators.denoise_covariance(cov_matrix, tn_relation, denoise_method='const_resid_eigen',\n",
    "                                                        detone=True, market_component=1,kde_bwidth=kde_bwidth)\n",
    "\n",
    "# Transforming De-noised Covariance from np.array to pd.DataFrame\n",
    "cov_matrix_detoned = pd.DataFrame(cov_matrix_detoned, index=cov_matrix.index, columns=cov_matrix.columns)\n",
    "\n",
    "# Outputting the result\n",
    "print('The De-toned Сovariance matrix is:')\n",
    "cov_matrix_detoned"
   ]
  },
  {
   "cell_type": "code",
   "execution_count": null,
   "metadata": {},
   "outputs": [],
   "source": [
    "# plt.figure(figsize=(6, 5))\n",
    "# sns.heatmap(cov_matrix_detoned)\n",
    "# plt.title('Detoned Covariance', size=15)\n",
    "# plt.tight_layout()\n",
    "# plt.savefig('cov_matrix_detoned.png', dpi=150)\n",
    "# plt.show()"
   ]
  },
  {
   "cell_type": "markdown",
   "metadata": {},
   "source": [
    "The results of de-toning are significantly different from the de-noising results. This indicates that the deleted market component had an effect on the covariance between elements."
   ]
  },
  {
   "cell_type": "markdown",
   "metadata": {},
   "source": [
    "## Transforming covariance matrix to correlation matrix and back"
   ]
  },
  {
   "cell_type": "markdown",
   "metadata": {},
   "source": [
    "These are simple functions to:\n",
    "- transform covariance matrix into correlation matrix \n",
    "- transform correlation matrix into covariance matrix "
   ]
  },
  {
   "cell_type": "code",
   "execution_count": null,
   "metadata": {},
   "outputs": [
    {
     "name": "stdout",
     "output_type": "stream",
     "text": [
      "The correlation matrix is:\n"
     ]
    },
    {
     "data": {
      "text/html": [
       "<div>\n",
       "<style scoped>\n",
       "    .dataframe tbody tr th:only-of-type {\n",
       "        vertical-align: middle;\n",
       "    }\n",
       "\n",
       "    .dataframe tbody tr th {\n",
       "        vertical-align: top;\n",
       "    }\n",
       "\n",
       "    .dataframe thead th {\n",
       "        text-align: right;\n",
       "    }\n",
       "</style>\n",
       "<table border=\"1\" class=\"dataframe\">\n",
       "  <thead>\n",
       "    <tr style=\"text-align: right;\">\n",
       "      <th></th>\n",
       "      <th>EEM</th>\n",
       "      <th>EWG</th>\n",
       "      <th>TIP</th>\n",
       "      <th>EWJ</th>\n",
       "      <th>EFA</th>\n",
       "    </tr>\n",
       "  </thead>\n",
       "  <tbody>\n",
       "    <tr>\n",
       "      <th>EEM</th>\n",
       "      <td>1.000000</td>\n",
       "      <td>0.840079</td>\n",
       "      <td>-0.175654</td>\n",
       "      <td>0.775864</td>\n",
       "      <td>0.901190</td>\n",
       "    </tr>\n",
       "    <tr>\n",
       "      <th>EWG</th>\n",
       "      <td>0.840079</td>\n",
       "      <td>1.000000</td>\n",
       "      <td>-0.176822</td>\n",
       "      <td>0.752060</td>\n",
       "      <td>0.943192</td>\n",
       "    </tr>\n",
       "    <tr>\n",
       "      <th>TIP</th>\n",
       "      <td>-0.175654</td>\n",
       "      <td>-0.176822</td>\n",
       "      <td>1.000000</td>\n",
       "      <td>-0.132683</td>\n",
       "      <td>-0.168585</td>\n",
       "    </tr>\n",
       "    <tr>\n",
       "      <th>EWJ</th>\n",
       "      <td>0.775864</td>\n",
       "      <td>0.752060</td>\n",
       "      <td>-0.132683</td>\n",
       "      <td>1.000000</td>\n",
       "      <td>0.859232</td>\n",
       "    </tr>\n",
       "    <tr>\n",
       "      <th>EFA</th>\n",
       "      <td>0.901190</td>\n",
       "      <td>0.943192</td>\n",
       "      <td>-0.168585</td>\n",
       "      <td>0.859232</td>\n",
       "      <td>1.000000</td>\n",
       "    </tr>\n",
       "  </tbody>\n",
       "</table>\n",
       "</div>"
      ],
      "text/plain": [
       "          EEM       EWG       TIP       EWJ       EFA\n",
       "EEM  1.000000  0.840079 -0.175654  0.775864  0.901190\n",
       "EWG  0.840079  1.000000 -0.176822  0.752060  0.943192\n",
       "TIP -0.175654 -0.176822  1.000000 -0.132683 -0.168585\n",
       "EWJ  0.775864  0.752060 -0.132683  1.000000  0.859232\n",
       "EFA  0.901190  0.943192 -0.168585  0.859232  1.000000"
      ]
     },
     "execution_count": 23,
     "metadata": {},
     "output_type": "execute_result"
    }
   ],
   "source": [
    "# Transforming our covariance matrix to a correlation matrix\n",
    "corr_matrix = risk_estimators.cov_to_corr(cov_matrix)\n",
    "\n",
    "# Outputting the result\n",
    "print('The correlation matrix is:')\n",
    "corr_matrix"
   ]
  },
  {
   "cell_type": "code",
   "execution_count": null,
   "metadata": {},
   "outputs": [
    {
     "name": "stdout",
     "output_type": "stream",
     "text": [
      "The covariance matrix calculated back is:\n"
     ]
    },
    {
     "data": {
      "text/html": [
       "<div>\n",
       "<style scoped>\n",
       "    .dataframe tbody tr th:only-of-type {\n",
       "        vertical-align: middle;\n",
       "    }\n",
       "\n",
       "    .dataframe tbody tr th {\n",
       "        vertical-align: top;\n",
       "    }\n",
       "\n",
       "    .dataframe thead th {\n",
       "        text-align: right;\n",
       "    }\n",
       "</style>\n",
       "<table border=\"1\" class=\"dataframe\">\n",
       "  <thead>\n",
       "    <tr style=\"text-align: right;\">\n",
       "      <th></th>\n",
       "      <th>EEM</th>\n",
       "      <th>EWG</th>\n",
       "      <th>TIP</th>\n",
       "      <th>EWJ</th>\n",
       "      <th>EFA</th>\n",
       "    </tr>\n",
       "  </thead>\n",
       "  <tbody>\n",
       "    <tr>\n",
       "      <th>EEM</th>\n",
       "      <td>0.000466</td>\n",
       "      <td>0.000350</td>\n",
       "      <td>-0.000017</td>\n",
       "      <td>0.000255</td>\n",
       "      <td>0.000324</td>\n",
       "    </tr>\n",
       "    <tr>\n",
       "      <th>EWG</th>\n",
       "      <td>0.000350</td>\n",
       "      <td>0.000372</td>\n",
       "      <td>-0.000015</td>\n",
       "      <td>0.000221</td>\n",
       "      <td>0.000303</td>\n",
       "    </tr>\n",
       "    <tr>\n",
       "      <th>TIP</th>\n",
       "      <td>-0.000017</td>\n",
       "      <td>-0.000015</td>\n",
       "      <td>0.000019</td>\n",
       "      <td>-0.000009</td>\n",
       "      <td>-0.000012</td>\n",
       "    </tr>\n",
       "    <tr>\n",
       "      <th>EWJ</th>\n",
       "      <td>0.000255</td>\n",
       "      <td>0.000221</td>\n",
       "      <td>-0.000009</td>\n",
       "      <td>0.000232</td>\n",
       "      <td>0.000218</td>\n",
       "    </tr>\n",
       "    <tr>\n",
       "      <th>EFA</th>\n",
       "      <td>0.000324</td>\n",
       "      <td>0.000303</td>\n",
       "      <td>-0.000012</td>\n",
       "      <td>0.000218</td>\n",
       "      <td>0.000278</td>\n",
       "    </tr>\n",
       "  </tbody>\n",
       "</table>\n",
       "</div>"
      ],
      "text/plain": [
       "          EEM       EWG       TIP       EWJ       EFA\n",
       "EEM  0.000466  0.000350 -0.000017  0.000255  0.000324\n",
       "EWG  0.000350  0.000372 -0.000015  0.000221  0.000303\n",
       "TIP -0.000017 -0.000015  0.000019 -0.000009 -0.000012\n",
       "EWJ  0.000255  0.000221 -0.000009  0.000232  0.000218\n",
       "EFA  0.000324  0.000303 -0.000012  0.000218  0.000278"
      ]
     },
     "execution_count": 24,
     "metadata": {},
     "output_type": "execute_result"
    }
   ],
   "source": [
    "# The standard deviation to use when calculating the covaraince matrix back\n",
    "std = np.diag(cov_matrix) ** (1/2)\n",
    "\n",
    "# And back to the covariance matrix\n",
    "cov_matrix_again = risk_estimators.corr_to_cov(corr_matrix, std)\n",
    "\n",
    "# Outputting the result\n",
    "print('The covariance matrix calculated back is:')\n",
    "cov_matrix_again"
   ]
  },
  {
   "cell_type": "code",
   "execution_count": null,
   "metadata": {},
   "outputs": [
    {
     "name": "stdout",
     "output_type": "stream",
     "text": [
      "Exactly the same as the original one:\n"
     ]
    },
    {
     "data": {
      "text/html": [
       "<div>\n",
       "<style scoped>\n",
       "    .dataframe tbody tr th:only-of-type {\n",
       "        vertical-align: middle;\n",
       "    }\n",
       "\n",
       "    .dataframe tbody tr th {\n",
       "        vertical-align: top;\n",
       "    }\n",
       "\n",
       "    .dataframe thead th {\n",
       "        text-align: right;\n",
       "    }\n",
       "</style>\n",
       "<table border=\"1\" class=\"dataframe\">\n",
       "  <thead>\n",
       "    <tr style=\"text-align: right;\">\n",
       "      <th></th>\n",
       "      <th>EEM</th>\n",
       "      <th>EWG</th>\n",
       "      <th>TIP</th>\n",
       "      <th>EWJ</th>\n",
       "      <th>EFA</th>\n",
       "    </tr>\n",
       "  </thead>\n",
       "  <tbody>\n",
       "    <tr>\n",
       "      <th>EEM</th>\n",
       "      <td>0.000466</td>\n",
       "      <td>0.000350</td>\n",
       "      <td>-0.000017</td>\n",
       "      <td>0.000255</td>\n",
       "      <td>0.000324</td>\n",
       "    </tr>\n",
       "    <tr>\n",
       "      <th>EWG</th>\n",
       "      <td>0.000350</td>\n",
       "      <td>0.000372</td>\n",
       "      <td>-0.000015</td>\n",
       "      <td>0.000221</td>\n",
       "      <td>0.000303</td>\n",
       "    </tr>\n",
       "    <tr>\n",
       "      <th>TIP</th>\n",
       "      <td>-0.000017</td>\n",
       "      <td>-0.000015</td>\n",
       "      <td>0.000019</td>\n",
       "      <td>-0.000009</td>\n",
       "      <td>-0.000012</td>\n",
       "    </tr>\n",
       "    <tr>\n",
       "      <th>EWJ</th>\n",
       "      <td>0.000255</td>\n",
       "      <td>0.000221</td>\n",
       "      <td>-0.000009</td>\n",
       "      <td>0.000232</td>\n",
       "      <td>0.000218</td>\n",
       "    </tr>\n",
       "    <tr>\n",
       "      <th>EFA</th>\n",
       "      <td>0.000324</td>\n",
       "      <td>0.000303</td>\n",
       "      <td>-0.000012</td>\n",
       "      <td>0.000218</td>\n",
       "      <td>0.000278</td>\n",
       "    </tr>\n",
       "  </tbody>\n",
       "</table>\n",
       "</div>"
      ],
      "text/plain": [
       "          EEM       EWG       TIP       EWJ       EFA\n",
       "EEM  0.000466  0.000350 -0.000017  0.000255  0.000324\n",
       "EWG  0.000350  0.000372 -0.000015  0.000221  0.000303\n",
       "TIP -0.000017 -0.000015  0.000019 -0.000009 -0.000012\n",
       "EWJ  0.000255  0.000221 -0.000009  0.000232  0.000218\n",
       "EFA  0.000324  0.000303 -0.000012  0.000218  0.000278"
      ]
     },
     "execution_count": 25,
     "metadata": {},
     "output_type": "execute_result"
    }
   ],
   "source": [
    "print('Exactly the same as the original one:')\n",
    "cov_matrix"
   ]
  },
  {
   "cell_type": "markdown",
   "metadata": {},
   "source": [
    "## Conclusion"
   ]
  },
  {
   "cell_type": "markdown",
   "metadata": {},
   "source": [
    "This notebook describes the functions implemented in the RiskEstimators class, related to different ways of calculating and adjusting the Covariance matrix. Also, it shows how the corresponding functions from the PortfolioLab library can be used and how the outputs can be analyzed.\n",
    "\n",
    "Key takeaways from the notebook:\n",
    "- A robust covariance estimator (such as the Minimum Covariance Determinant) is needed in order to discard/downweight the outliers in the data. These outliers seriously affect the Empirical covariance estimator and the Covariance estimators with shrinkage.\n",
    "- The Maximum Likelihood Estimator (Empirical Covariance) of a sample is an unbiased estimator of the corresponding population’s covariance matrix.\n",
    "- Shrinkage consists in reducing the ratio between the smallest and the largest eigenvalues of the empirical covariance matrix. It is used to avoid the problem with inversion of the covariance matrix.\n",
    "- Ledoit-Wolf and Oracle Approximating are methods to calculate the optimal shrinkage coefficient $\\alpha$ used in the Basic Shrinkage.\n",
    "- The semi-covariance matrix is the way to measure the volatility of the negative returns or returns below a certain threshold. \n",
    "- Exponential Covariance is used to give greater weight to the most relevant observations in computing the covariance.\n",
    "- The Constant Residual Eigenvalue De-noising Method calculates the eigenvalues of the correlation matrix and adjusts the ones that are lower than the theoretically estimated ones, as they are caused by noise.\n",
    "- The Spectral Clustering De-noising Method works just like the Constant Residual Eigenvalue De-noising Method, But instead of lowering Eigenvalues below the theoretical maximum Eigenvalue, They are set to 0.\n",
    "- The Targeted Shrinkage De-noising Method shrinks the eigenvectors/eigenvalues that are noise-related.\n",
    "- The Hierarchical Clustering De-noising Method is used to filter empirical correlation matrices using Agglomerative Clustering.\n",
    "- The De-toning algorithm excludes a number of first eigenvectors representing the market component. This allows a greater portion of the correlation to be explained by components that affect specific subsets of the securities. Note, that a de-toned correlation matrix cannot be used directly for mean-variance portfolio optimization."
   ]
  }
 ],
 "metadata": {
  "interpreter": {
   "hash": "cd75a740a3cad44b117eeb6e0cd8cfcf825cfb84e24f73a73fb6c130a93fc9af"
  },
  "kernelspec": {
   "display_name": "PortfolioLab",
   "language": "python",
   "name": "python3"
  },
  "language_info": {
   "codemirror_mode": {
    "name": "ipython",
    "version": 3
   },
   "file_extension": ".py",
   "mimetype": "text/x-python",
   "name": "python",
   "nbconvert_exporter": "python",
   "pygments_lexer": "ipython3",
   "version": "3.8.13"
  }
 },
 "nbformat": 4,
 "nbformat_minor": 4
}
